{
 "cells": [
  {
   "cell_type": "code",
   "execution_count": 1,
   "metadata": {
    "collapsed": true
   },
   "outputs": [],
   "source": [
    "# following along with https://elitedatascience.com/keras-tutorial-deep-learning-in-python (MNIST dataset) -mt\n",
    "# 1/30/18 - attempting with three classes"
   ]
  },
  {
   "cell_type": "markdown",
   "metadata": {},
   "source": [
    "### Step 3: Import libraries and modules"
   ]
  },
  {
   "cell_type": "code",
   "execution_count": 2,
   "metadata": {
    "collapsed": true
   },
   "outputs": [],
   "source": [
    "# importing numpy and setting a seed for reproductibility\n",
    "import numpy as np\n",
    "np.random.seed(123) # kinda irrelevant. not really using randomness. -mt\n",
    "\n",
    "import os\n",
    "from tqdm import tqdm\n",
    "import pandas as pd"
   ]
  },
  {
   "cell_type": "code",
   "execution_count": 3,
   "metadata": {},
   "outputs": [
    {
     "name": "stderr",
     "output_type": "stream",
     "text": [
      "Using TensorFlow backend.\n"
     ]
    }
   ],
   "source": [
    "# importing standard keras modules/layers/utilities\n",
    "from keras.models import Sequential, load_model\n",
    "from keras.layers import Dense, Dropout, Activation, Flatten\n",
    "from keras.layers import Convolution2D, MaxPooling2D\n",
    "from keras.utils import np_utils\n",
    "\n",
    "from keras.preprocessing.image import ImageDataGenerator\n",
    "from keras import backend as K\n",
    "from keras import optimizers"
   ]
  },
  {
   "cell_type": "code",
   "execution_count": 4,
   "metadata": {
    "collapsed": true
   },
   "outputs": [],
   "source": [
    "from keras.preprocessing.image import ImageDataGenerator, array_to_img, img_to_array, load_img"
   ]
  },
  {
   "cell_type": "code",
   "execution_count": 5,
   "metadata": {
    "collapsed": true
   },
   "outputs": [],
   "source": [
    "from matplotlib import pyplot as plt\n",
    "%matplotlib inline"
   ]
  },
  {
   "cell_type": "markdown",
   "metadata": {},
   "source": [
    "#### Second attempt using: https://blog.keras.io/building-powerful-image-classification-models-using-very-little-data.html -mt"
   ]
  },
  {
   "cell_type": "markdown",
   "metadata": {},
   "source": [
    "Directory structure looks like:\n",
    "```\n",
    "catdog_small_training_dir/\n",
    "    train/\n",
    "        dogs/\n",
    "            dog001.jpg\n",
    "            dog002.jpg\n",
    "            ...\n",
    "        cats/\n",
    "            cat001.jpg\n",
    "            cat002.jpg\n",
    "            ...\n",
    "    validation/\n",
    "        dogs/\n",
    "            dog001.jpg\n",
    "            dog002.jpg\n",
    "            ...\n",
    "        cats/\n",
    "            cat001.jpg\n",
    "            cat002.jpg\n",
    "            ...\n",
    "```            "
   ]
  },
  {
   "cell_type": "markdown",
   "metadata": {},
   "source": [
    "### Step 4: Point to images for dataset creation (later)"
   ]
  },
  {
   "cell_type": "code",
   "execution_count": 6,
   "metadata": {
    "collapsed": true
   },
   "outputs": [],
   "source": [
    "# dimensions of our images.\n",
    "img_width, img_height = 250, 250\n",
    "\n",
    "train_data_dir = 'catdog_small_training_dir/train'\n",
    "validation_data_dir = 'catdog_small_training_dir/validation'"
   ]
  },
  {
   "cell_type": "code",
   "execution_count": 7,
   "metadata": {
    "collapsed": true
   },
   "outputs": [],
   "source": [
    "nb_train_samples = 1120\n",
    "nb_validation_samples = 84\n",
    "epochs = 30\n",
    "batch_size = 16"
   ]
  },
  {
   "cell_type": "code",
   "execution_count": 8,
   "metadata": {
    "collapsed": true
   },
   "outputs": [],
   "source": [
    "# reshape array shapes as needed (tensorflow vs theano)\n",
    "if K.image_data_format() == 'channels_first':\n",
    "    input_shape = (3, img_width, img_height)\n",
    "else:\n",
    "    input_shape = (img_width, img_height, 3)"
   ]
  },
  {
   "cell_type": "markdown",
   "metadata": {},
   "source": [
    "### Step 5: Define model"
   ]
  },
  {
   "cell_type": "code",
   "execution_count": 20,
   "metadata": {
    "collapsed": true
   },
   "outputs": [],
   "source": [
    "model = Sequential()\n",
    "model.add(Convolution2D(32, (3, 3), input_shape=input_shape))\n",
    "model.add(Activation('relu'))\n",
    "model.add(MaxPooling2D(pool_size=(2, 2)))\n",
    "\n",
    "model.add(Convolution2D(32, (3, 3)))\n",
    "model.add(Activation('relu'))\n",
    "model.add(MaxPooling2D(pool_size=(2, 2)))\n",
    "\n",
    "model.add(Convolution2D(64, (3, 3)))\n",
    "model.add(Activation('relu'))\n",
    "model.add(MaxPooling2D(pool_size=(2, 2)))\n",
    "\n",
    "model.add(Flatten())\n",
    "model.add(Dense(64))\n",
    "model.add(Activation('relu'))\n",
    "model.add(Dropout(0.5))\n",
    "model.add(Dense(2))\n",
    "# model.add(Activation('sigmoid')) #non-mutually exclusive\n",
    "model.add(Activation('softmax')) #mutually exclusive"
   ]
  },
  {
   "cell_type": "code",
   "execution_count": 21,
   "metadata": {},
   "outputs": [
    {
     "name": "stdout",
     "output_type": "stream",
     "text": [
      "_________________________________________________________________\n",
      "Layer (type)                 Output Shape              Param #   \n",
      "=================================================================\n",
      "conv2d_4 (Conv2D)            (None, 248, 248, 32)      896       \n",
      "_________________________________________________________________\n",
      "activation_6 (Activation)    (None, 248, 248, 32)      0         \n",
      "_________________________________________________________________\n",
      "max_pooling2d_4 (MaxPooling2 (None, 124, 124, 32)      0         \n",
      "_________________________________________________________________\n",
      "conv2d_5 (Conv2D)            (None, 122, 122, 32)      9248      \n",
      "_________________________________________________________________\n",
      "activation_7 (Activation)    (None, 122, 122, 32)      0         \n",
      "_________________________________________________________________\n",
      "max_pooling2d_5 (MaxPooling2 (None, 61, 61, 32)        0         \n",
      "_________________________________________________________________\n",
      "conv2d_6 (Conv2D)            (None, 59, 59, 64)        18496     \n",
      "_________________________________________________________________\n",
      "activation_8 (Activation)    (None, 59, 59, 64)        0         \n",
      "_________________________________________________________________\n",
      "max_pooling2d_6 (MaxPooling2 (None, 29, 29, 64)        0         \n",
      "_________________________________________________________________\n",
      "flatten_2 (Flatten)          (None, 53824)             0         \n",
      "_________________________________________________________________\n",
      "dense_3 (Dense)              (None, 64)                3444800   \n",
      "_________________________________________________________________\n",
      "activation_9 (Activation)    (None, 64)                0         \n",
      "_________________________________________________________________\n",
      "dropout_2 (Dropout)          (None, 64)                0         \n",
      "_________________________________________________________________\n",
      "dense_4 (Dense)              (None, 2)                 130       \n",
      "_________________________________________________________________\n",
      "activation_10 (Activation)   (None, 2)                 0         \n",
      "=================================================================\n",
      "Total params: 3,473,570\n",
      "Trainable params: 3,473,570\n",
      "Non-trainable params: 0\n",
      "_________________________________________________________________\n"
     ]
    }
   ],
   "source": [
    "model.summary()"
   ]
  },
  {
   "cell_type": "code",
   "execution_count": 22,
   "metadata": {
    "collapsed": true
   },
   "outputs": [],
   "source": [
    "model.compile(#loss='sparse_categorical_crossentropy',\n",
    "              loss='categorical_crossentropy',\n",
    "#               loss='binary_crossentropy',\n",
    "#               optimizer='rmsprop',\n",
    "              optimizer='sgd',\n",
    "              metrics=['accuracy'])"
   ]
  },
  {
   "cell_type": "markdown",
   "metadata": {},
   "source": [
    "### Step 6: Data augmentation"
   ]
  },
  {
   "cell_type": "code",
   "execution_count": 23,
   "metadata": {
    "collapsed": true
   },
   "outputs": [],
   "source": [
    "# this is the augmentation configuration we will use for training\n",
    "train_datagen = ImageDataGenerator(\n",
    "    rotation_range=40,\n",
    "    rescale=1. / 255,\n",
    "    shear_range=0.2,\n",
    "    zoom_range=0.2,\n",
    "    fill_mode='nearest',\n",
    "    horizontal_flip=True)"
   ]
  },
  {
   "cell_type": "code",
   "execution_count": 24,
   "metadata": {
    "collapsed": true
   },
   "outputs": [],
   "source": [
    "# this is the augmentation configuration we will use for testing:\n",
    "# only rescaling\n",
    "test_datagen = ImageDataGenerator(rescale=1. / 255)"
   ]
  },
  {
   "cell_type": "code",
   "execution_count": 25,
   "metadata": {},
   "outputs": [
    {
     "name": "stdout",
     "output_type": "stream",
     "text": [
      "Found 686 images belonging to 2 classes.\n"
     ]
    }
   ],
   "source": [
    "train_generator = train_datagen.flow_from_directory(\n",
    "    train_data_dir,\n",
    "    target_size=(img_width, img_height),\n",
    "    batch_size=batch_size,\n",
    "    class_mode='categorical')"
   ]
  },
  {
   "cell_type": "code",
   "execution_count": 26,
   "metadata": {},
   "outputs": [
    {
     "name": "stdout",
     "output_type": "stream",
     "text": [
      "Found 56 images belonging to 2 classes.\n"
     ]
    }
   ],
   "source": [
    "validation_generator = test_datagen.flow_from_directory(\n",
    "    validation_data_dir,\n",
    "    target_size=(img_width, img_height),\n",
    "    batch_size=batch_size,\n",
    "    class_mode='categorical')"
   ]
  },
  {
   "cell_type": "code",
   "execution_count": 27,
   "metadata": {},
   "outputs": [
    {
     "data": {
      "text/plain": [
       "{'bicycle': 0, 'monkey': 1}"
      ]
     },
     "execution_count": 27,
     "metadata": {},
     "output_type": "execute_result"
    }
   ],
   "source": [
    "# which integer is which class\n",
    "train_generator.class_indices"
   ]
  },
  {
   "cell_type": "markdown",
   "metadata": {},
   "source": [
    "#### Test data augmentation"
   ]
  },
  {
   "cell_type": "code",
   "execution_count": 28,
   "metadata": {
    "collapsed": true
   },
   "outputs": [],
   "source": [
    "# img = load_img('/Users/minhgeneralassembly/Downloads/kaggle_catsanddogs/small_training_dir/train/cats/cat.0.jpg')  # this is a PIL image\n",
    "# x = img_to_array(img)  # this is a Numpy array with shape (3, 150, 150)\n",
    "# x = x.reshape((1,) + x.shape)  # this is a Numpy array with shape (1, 3, 150, 150)"
   ]
  },
  {
   "cell_type": "code",
   "execution_count": 29,
   "metadata": {
    "collapsed": true
   },
   "outputs": [],
   "source": [
    "# i = 0\n",
    "# for batch in train_datagen.flow(x, batch_size=1,\n",
    "#                           save_to_dir='/Users/minhgeneralassembly/Downloads/kaggle_catsanddogs/preview', save_prefix='cat', save_format='jpeg'):\n",
    "#     i += 1\n",
    "#     if i > 20:\n",
    "#         break  # otherwise the generator would loop indefinitely"
   ]
  },
  {
   "cell_type": "markdown",
   "metadata": {},
   "source": [
    "### Step 7: Fit model"
   ]
  },
  {
   "cell_type": "code",
   "execution_count": 30,
   "metadata": {
    "scrolled": false
   },
   "outputs": [
    {
     "name": "stdout",
     "output_type": "stream",
     "text": [
      "Epoch 1/30\n",
      "70/70 [==============================] - 136s 2s/step - loss: 0.6684 - acc: 0.5823 - val_loss: 0.6084 - val_acc: 0.9444\n",
      "Epoch 2/30\n",
      "70/70 [==============================] - 140s 2s/step - loss: 0.6096 - acc: 0.7143 - val_loss: 0.5173 - val_acc: 0.9583\n",
      "Epoch 3/30\n",
      "70/70 [==============================] - 143s 2s/step - loss: 0.5292 - acc: 0.7694 - val_loss: 0.2969 - val_acc: 0.9722\n",
      "Epoch 4/30\n",
      "70/70 [==============================] - 203s 3s/step - loss: 0.4697 - acc: 0.8024 - val_loss: 0.2911 - val_acc: 0.9688\n",
      "Epoch 5/30\n",
      "70/70 [==============================] - 200s 3s/step - loss: 0.4102 - acc: 0.8362 - val_loss: 0.1258 - val_acc: 0.9861\n",
      "Epoch 6/30\n",
      "70/70 [==============================] - 153s 2s/step - loss: 0.4349 - acc: 0.8092 - val_loss: 0.2001 - val_acc: 0.9722\n",
      "Epoch 7/30\n",
      "70/70 [==============================] - 132s 2s/step - loss: 0.3858 - acc: 0.8389 - val_loss: 0.1474 - val_acc: 0.9722\n",
      "Epoch 8/30\n",
      "70/70 [==============================] - 113s 2s/step - loss: 0.3603 - acc: 0.8562 - val_loss: 0.1297 - val_acc: 0.9844\n",
      "Epoch 9/30\n",
      "70/70 [==============================] - 111s 2s/step - loss: 0.3702 - acc: 0.8399 - val_loss: 0.1093 - val_acc: 0.9861\n",
      "Epoch 10/30\n",
      "70/70 [==============================] - 172s 2s/step - loss: 0.3550 - acc: 0.8537 - val_loss: 0.1254 - val_acc: 0.9861\n",
      "Epoch 11/30\n",
      "70/70 [==============================] - 142s 2s/step - loss: 0.3418 - acc: 0.8591 - val_loss: 0.0844 - val_acc: 0.9722\n",
      "Epoch 12/30\n",
      "70/70 [==============================] - 121s 2s/step - loss: 0.3392 - acc: 0.8603 - val_loss: 0.0914 - val_acc: 0.9844\n",
      "Epoch 13/30\n",
      "70/70 [==============================] - 130s 2s/step - loss: 0.3268 - acc: 0.8524 - val_loss: 0.1110 - val_acc: 0.9861\n",
      "Epoch 14/30\n",
      "70/70 [==============================] - 119s 2s/step - loss: 0.3244 - acc: 0.8639 - val_loss: 0.1200 - val_acc: 0.9722\n",
      "Epoch 15/30\n",
      "70/70 [==============================] - 120s 2s/step - loss: 0.3228 - acc: 0.8591 - val_loss: 0.0553 - val_acc: 1.0000\n",
      "Epoch 16/30\n",
      "70/70 [==============================] - 123s 2s/step - loss: 0.3227 - acc: 0.8596 - val_loss: 0.0634 - val_acc: 1.0000\n",
      "Epoch 17/30\n",
      "70/70 [==============================] - 126s 2s/step - loss: 0.3028 - acc: 0.8809 - val_loss: 0.1483 - val_acc: 0.9861\n",
      "Epoch 18/30\n",
      "70/70 [==============================] - 128s 2s/step - loss: 0.2954 - acc: 0.8745 - val_loss: 0.0527 - val_acc: 0.9861\n",
      "Epoch 19/30\n",
      "70/70 [==============================] - 129s 2s/step - loss: 0.3078 - acc: 0.8713 - val_loss: 0.0825 - val_acc: 0.9722\n",
      "Epoch 20/30\n",
      "70/70 [==============================] - 123s 2s/step - loss: 0.3026 - acc: 0.8703 - val_loss: 0.0661 - val_acc: 0.9844\n",
      "Epoch 21/30\n",
      "70/70 [==============================] - 111s 2s/step - loss: 0.2800 - acc: 0.8732 - val_loss: 0.1111 - val_acc: 0.9583\n",
      "Epoch 22/30\n",
      "70/70 [==============================] - 112s 2s/step - loss: 0.2978 - acc: 0.8790 - val_loss: 0.0501 - val_acc: 0.9722\n",
      "Epoch 23/30\n",
      "70/70 [==============================] - 113s 2s/step - loss: 0.2684 - acc: 0.8871 - val_loss: 0.0661 - val_acc: 0.9861\n",
      "Epoch 24/30\n",
      "70/70 [==============================] - 116s 2s/step - loss: 0.2816 - acc: 0.8862 - val_loss: 0.0652 - val_acc: 0.9688\n",
      "Epoch 25/30\n",
      "70/70 [==============================] - 112s 2s/step - loss: 0.2739 - acc: 0.8878 - val_loss: 0.0798 - val_acc: 0.9861\n",
      "Epoch 26/30\n",
      "70/70 [==============================] - 118s 2s/step - loss: 0.2737 - acc: 0.8916 - val_loss: 0.0554 - val_acc: 0.9861\n",
      "Epoch 27/30\n",
      "70/70 [==============================] - 123s 2s/step - loss: 0.2800 - acc: 0.8792 - val_loss: 0.0766 - val_acc: 0.9722\n",
      "Epoch 28/30\n",
      "70/70 [==============================] - 136s 2s/step - loss: 0.2548 - acc: 0.8874 - val_loss: 0.1028 - val_acc: 0.9844\n",
      "Epoch 29/30\n",
      "70/70 [==============================] - 155s 2s/step - loss: 0.2683 - acc: 0.8872 - val_loss: 0.1344 - val_acc: 0.9444\n",
      "Epoch 30/30\n",
      "70/70 [==============================] - 143s 2s/step - loss: 0.2802 - acc: 0.8795 - val_loss: 0.0486 - val_acc: 0.9861\n"
     ]
    }
   ],
   "source": [
    "history = model.fit_generator(\n",
    "    train_generator,\n",
    "    steps_per_epoch=nb_train_samples // batch_size,\n",
    "    epochs=epochs,\n",
    "    validation_data=validation_generator,\n",
    "    validation_steps=nb_validation_samples // batch_size)"
   ]
  },
  {
   "cell_type": "markdown",
   "metadata": {},
   "source": [
    "### Step 7.5: Save model"
   ]
  },
  {
   "cell_type": "code",
   "execution_count": 36,
   "metadata": {
    "collapsed": true
   },
   "outputs": [],
   "source": [
    "import datetime"
   ]
  },
  {
   "cell_type": "code",
   "execution_count": 37,
   "metadata": {
    "collapsed": true
   },
   "outputs": [],
   "source": [
    "model.save(str(datetime.date.today()).replace(\"-\",\"\") + '_bicycle_monkey.h5')\n",
    "# model.save('catsndogs_' + str(datetime.date.today()).replace(\"-\",\"\") + '.h5')"
   ]
  },
  {
   "cell_type": "markdown",
   "metadata": {},
   "source": [
    "### Step 7.9: Reload model (if needed)"
   ]
  },
  {
   "cell_type": "code",
   "execution_count": null,
   "metadata": {
    "collapsed": true
   },
   "outputs": [],
   "source": [
    "# model = load_model('catsndogs.h5')"
   ]
  },
  {
   "cell_type": "markdown",
   "metadata": {},
   "source": [
    "### Step 8: Evaluate model"
   ]
  },
  {
   "cell_type": "code",
   "execution_count": 31,
   "metadata": {},
   "outputs": [
    {
     "name": "stdout",
     "output_type": "stream",
     "text": [
      "['acc', 'loss', 'val_acc', 'val_loss']\n"
     ]
    }
   ],
   "source": [
    "print(history.history.keys())"
   ]
  },
  {
   "cell_type": "code",
   "execution_count": 32,
   "metadata": {},
   "outputs": [
    {
     "data": {
      "image/png": "[encoded data removed]",
      "text/plain": [
       "<matplotlib.figure.Figure at 0x181f37ba10>"
      ]
     },
     "metadata": {},
     "output_type": "display_data"
    }
   ],
   "source": [
    "plt.plot(history.history['loss'])\n",
    "plt.plot(history.history['val_loss'])\n",
    "plt.title('model loss')\n",
    "plt.ylabel('loss')\n",
    "plt.xlabel('epoch')\n",
    "plt.legend(['train', 'validation'], loc='upper left')\n",
    "plt.show()"
   ]
  },
  {
   "cell_type": "code",
   "execution_count": 33,
   "metadata": {},
   "outputs": [
    {
     "data": {
      "image/png": "[encoded data removed]",
      "text/plain": [
       "<matplotlib.figure.Figure at 0x181f9ae610>"
      ]
     },
     "metadata": {},
     "output_type": "display_data"
    }
   ],
   "source": [
    "plt.plot(history.history['acc'])\n",
    "plt.plot(history.history['val_acc'])\n",
    "plt.title('model acc')\n",
    "plt.ylabel('acc')\n",
    "plt.xlabel('epoch')\n",
    "plt.legend(['train', 'validation'], loc='upper left')\n",
    "plt.show()"
   ]
  },
  {
   "cell_type": "markdown",
   "metadata": {},
   "source": [
    "### Step 10: Compare test images vs predicted classes"
   ]
  },
  {
   "cell_type": "code",
   "execution_count": 35,
   "metadata": {
    "collapsed": true
   },
   "outputs": [],
   "source": [
    "def cropResizeImages(img):\n",
    "    width, height = img.size\n",
    "\n",
    "    if width > height:\n",
    "        left = (width - height)/2\n",
    "        top = (height - height)/2\n",
    "        right = (width + height)/2\n",
    "        bottom = (height + height)/2\n",
    "        \n",
    "        img = img.crop((left, top, right, bottom))\n",
    "        img = img.resize([img_width,img_height])\n",
    "    \n",
    "    elif height > width:\n",
    "        left = (width - width)/2\n",
    "        top = (height - width)/2\n",
    "        right = (width + width)/2\n",
    "        bottom = (height + width)/2\n",
    "        \n",
    "        img = img.crop((left, top, right, bottom))\n",
    "        img = img.resize([img_width,img_height])\n",
    "        \n",
    "    return img"
   ]
  },
  {
   "cell_type": "code",
   "execution_count": 38,
   "metadata": {
    "collapsed": true
   },
   "outputs": [],
   "source": [
    "# taken from lesson 17 + tinkering. -mt"
   ]
  },
  {
   "cell_type": "code",
   "execution_count": 39,
   "metadata": {
    "collapsed": true
   },
   "outputs": [],
   "source": [
    "test_img_dir = \"catdog_small_testing_dir/\" # actual testing directory\n",
    "\n",
    "test_images = [test_img_dir + f for f in os.listdir(test_img_dir) if f.endswith('.jpg')]"
   ]
  },
  {
   "cell_type": "code",
   "execution_count": 40,
   "metadata": {},
   "outputs": [
    {
     "data": {
      "text/plain": [
       "'catdog_small_testing_dir/bicycle_11.jpg'"
      ]
     },
     "execution_count": 40,
     "metadata": {},
     "output_type": "execute_result"
    }
   ],
   "source": [
    "test_images[0]"
   ]
  },
  {
   "cell_type": "code",
   "execution_count": 41,
   "metadata": {},
   "outputs": [
    {
     "name": "stderr",
     "output_type": "stream",
     "text": [
      "100%|██████████| 40/40 [00:00<00:00, 318.73it/s]\n"
     ]
    }
   ],
   "source": [
    "test_data = []\n",
    "\n",
    "for test_image in tqdm(test_images):\n",
    "    img = load_img(test_image)\n",
    "    img = cropResizeImages(img)\n",
    "    img = np.array(img)\n",
    "    test_data.append(img)"
   ]
  },
  {
   "cell_type": "code",
   "execution_count": 42,
   "metadata": {
    "collapsed": true
   },
   "outputs": [],
   "source": [
    "df = pd.DataFrame(test_images, columns=['image_name'])"
   ]
  },
  {
   "cell_type": "code",
   "execution_count": 43,
   "metadata": {
    "collapsed": true
   },
   "outputs": [],
   "source": [
    "df['image'] = df['image_name'].map(lambda x: '<img src=\"{}\" style=\"max-height: 300px; max-width: 300px;\" ></img>'.format(x) )"
   ]
  },
  {
   "cell_type": "code",
   "execution_count": 44,
   "metadata": {},
   "outputs": [
    {
     "name": "stderr",
     "output_type": "stream",
     "text": [
      "40it [00:01, 24.88it/s]\n"
     ]
    }
   ],
   "source": [
    "df['predict_class'] = ''\n",
    "\n",
    "for i,each in tqdm(df.iterrows()):\n",
    "    each['predict_class'] = model.predict_classes(test_data[i][np.newaxis, :, :, :])"
   ]
  },
  {
   "cell_type": "code",
   "execution_count": 34,
   "metadata": {},
   "outputs": [
    {
     "data": {
      "text/plain": [
       "{'bicycle': 0, 'monkey': 1}"
      ]
     },
     "execution_count": 34,
     "metadata": {},
     "output_type": "execute_result"
    }
   ],
   "source": [
    "train_generator.class_indices"
   ]
  },
  {
   "cell_type": "code",
   "execution_count": 45,
   "metadata": {
    "collapsed": true
   },
   "outputs": [],
   "source": [
    "from IPython.display import HTML"
   ]
  },
  {
   "cell_type": "code",
   "execution_count": 48,
   "metadata": {
    "scrolled": false
   },
   "outputs": [
    {
     "data": {
      "text/html": [
       "<table border=\"1\" class=\"dataframe\">\n",
       "  <thead>\n",
       "    <tr style=\"text-align: right;\">\n",
       "      <th></th>\n",
       "      <th>image_name</th>\n",
       "      <th>image</th>\n",
       "      <th>predict_class</th>\n",
       "    </tr>\n",
       "  </thead>\n",
       "  <tbody>\n",
       "    <tr>\n",
       "      <th>0</th>\n",
       "      <td>catdog_small_testing_dir/bicycle_11.jpg</td>\n",
       "      <td><img src=\"catdog_small_testing_dir/bicycle_11.jpg\" style=\"max-height: 300px; max-width: 300px;\" ></img></td>\n",
       "      <td>[0]</td>\n",
       "    </tr>\n",
       "    <tr>\n",
       "      <th>1</th>\n",
       "      <td>catdog_small_testing_dir/bicycle_2.jpg</td>\n",
       "      <td><img src=\"catdog_small_testing_dir/bicycle_2.jpg\" style=\"max-height: 300px; max-width: 300px;\" ></img></td>\n",
       "      <td>[0]</td>\n",
       "    </tr>\n",
       "    <tr>\n",
       "      <th>2</th>\n",
       "      <td>catdog_small_testing_dir/bicycle_3.jpg</td>\n",
       "      <td><img src=\"catdog_small_testing_dir/bicycle_3.jpg\" style=\"max-height: 300px; max-width: 300px;\" ></img></td>\n",
       "      <td>[0]</td>\n",
       "    </tr>\n",
       "    <tr>\n",
       "      <th>3</th>\n",
       "      <td>catdog_small_testing_dir/bicycle_10.jpg</td>\n",
       "      <td><img src=\"catdog_small_testing_dir/bicycle_10.jpg\" style=\"max-height: 300px; max-width: 300px;\" ></img></td>\n",
       "      <td>[0]</td>\n",
       "    </tr>\n",
       "    <tr>\n",
       "      <th>4</th>\n",
       "      <td>catdog_small_testing_dir/bicycle_12.jpg</td>\n",
       "      <td><img src=\"catdog_small_testing_dir/bicycle_12.jpg\" style=\"max-height: 300px; max-width: 300px;\" ></img></td>\n",
       "      <td>[0]</td>\n",
       "    </tr>\n",
       "    <tr>\n",
       "      <th>5</th>\n",
       "      <td>catdog_small_testing_dir/monkey_8.jpg</td>\n",
       "      <td><img src=\"catdog_small_testing_dir/monkey_8.jpg\" style=\"max-height: 300px; max-width: 300px;\" ></img></td>\n",
       "      <td>[1]</td>\n",
       "    </tr>\n",
       "    <tr>\n",
       "      <th>6</th>\n",
       "      <td>catdog_small_testing_dir/bicycle_1.jpg</td>\n",
       "      <td><img src=\"catdog_small_testing_dir/bicycle_1.jpg\" style=\"max-height: 300px; max-width: 300px;\" ></img></td>\n",
       "      <td>[0]</td>\n",
       "    </tr>\n",
       "    <tr>\n",
       "      <th>7</th>\n",
       "      <td>catdog_small_testing_dir/monkey_9.jpg</td>\n",
       "      <td><img src=\"catdog_small_testing_dir/monkey_9.jpg\" style=\"max-height: 300px; max-width: 300px;\" ></img></td>\n",
       "      <td>[0]</td>\n",
       "    </tr>\n",
       "    <tr>\n",
       "      <th>8</th>\n",
       "      <td>catdog_small_testing_dir/bicycle_13.jpg</td>\n",
       "      <td><img src=\"catdog_small_testing_dir/bicycle_13.jpg\" style=\"max-height: 300px; max-width: 300px;\" ></img></td>\n",
       "      <td>[0]</td>\n",
       "    </tr>\n",
       "    <tr>\n",
       "      <th>9</th>\n",
       "      <td>catdog_small_testing_dir/bicycle_17.jpg</td>\n",
       "      <td><img src=\"catdog_small_testing_dir/bicycle_17.jpg\" style=\"max-height: 300px; max-width: 300px;\" ></img></td>\n",
       "      <td>[0]</td>\n",
       "    </tr>\n",
       "    <tr>\n",
       "      <th>10</th>\n",
       "      <td>catdog_small_testing_dir/bicycle_4.jpg</td>\n",
       "      <td><img src=\"catdog_small_testing_dir/bicycle_4.jpg\" style=\"max-height: 300px; max-width: 300px;\" ></img></td>\n",
       "      <td>[0]</td>\n",
       "    </tr>\n",
       "    <tr>\n",
       "      <th>11</th>\n",
       "      <td>catdog_small_testing_dir/bicycle_5.jpg</td>\n",
       "      <td><img src=\"catdog_small_testing_dir/bicycle_5.jpg\" style=\"max-height: 300px; max-width: 300px;\" ></img></td>\n",
       "      <td>[0]</td>\n",
       "    </tr>\n",
       "    <tr>\n",
       "      <th>12</th>\n",
       "      <td>catdog_small_testing_dir/bicycle_16.jpg</td>\n",
       "      <td><img src=\"catdog_small_testing_dir/bicycle_16.jpg\" style=\"max-height: 300px; max-width: 300px;\" ></img></td>\n",
       "      <td>[0]</td>\n",
       "    </tr>\n",
       "    <tr>\n",
       "      <th>13</th>\n",
       "      <td>catdog_small_testing_dir/bicycle_14.jpg</td>\n",
       "      <td><img src=\"catdog_small_testing_dir/bicycle_14.jpg\" style=\"max-height: 300px; max-width: 300px;\" ></img></td>\n",
       "      <td>[0]</td>\n",
       "    </tr>\n",
       "    <tr>\n",
       "      <th>14</th>\n",
       "      <td>catdog_small_testing_dir/bicycle_7.jpg</td>\n",
       "      <td><img src=\"catdog_small_testing_dir/bicycle_7.jpg\" style=\"max-height: 300px; max-width: 300px;\" ></img></td>\n",
       "      <td>[0]</td>\n",
       "    </tr>\n",
       "    <tr>\n",
       "      <th>15</th>\n",
       "      <td>catdog_small_testing_dir/bicycle_6.jpg</td>\n",
       "      <td><img src=\"catdog_small_testing_dir/bicycle_6.jpg\" style=\"max-height: 300px; max-width: 300px;\" ></img></td>\n",
       "      <td>[0]</td>\n",
       "    </tr>\n",
       "    <tr>\n",
       "      <th>16</th>\n",
       "      <td>catdog_small_testing_dir/bicycle_15.jpg</td>\n",
       "      <td><img src=\"catdog_small_testing_dir/bicycle_15.jpg\" style=\"max-height: 300px; max-width: 300px;\" ></img></td>\n",
       "      <td>[0]</td>\n",
       "    </tr>\n",
       "    <tr>\n",
       "      <th>17</th>\n",
       "      <td>catdog_small_testing_dir/monkey_13.jpg</td>\n",
       "      <td><img src=\"catdog_small_testing_dir/monkey_13.jpg\" style=\"max-height: 300px; max-width: 300px;\" ></img></td>\n",
       "      <td>[1]</td>\n",
       "    </tr>\n",
       "    <tr>\n",
       "      <th>18</th>\n",
       "      <td>catdog_small_testing_dir/monkey_12.jpg</td>\n",
       "      <td><img src=\"catdog_small_testing_dir/monkey_12.jpg\" style=\"max-height: 300px; max-width: 300px;\" ></img></td>\n",
       "      <td>[1]</td>\n",
       "    </tr>\n",
       "    <tr>\n",
       "      <th>19</th>\n",
       "      <td>catdog_small_testing_dir/monkey_10.jpg</td>\n",
       "      <td><img src=\"catdog_small_testing_dir/monkey_10.jpg\" style=\"max-height: 300px; max-width: 300px;\" ></img></td>\n",
       "      <td>[1]</td>\n",
       "    </tr>\n",
       "    <tr>\n",
       "      <th>20</th>\n",
       "      <td>catdog_small_testing_dir/monkey_11.jpg</td>\n",
       "      <td><img src=\"catdog_small_testing_dir/monkey_11.jpg\" style=\"max-height: 300px; max-width: 300px;\" ></img></td>\n",
       "      <td>[0]</td>\n",
       "    </tr>\n",
       "    <tr>\n",
       "      <th>21</th>\n",
       "      <td>catdog_small_testing_dir/monkey_15.jpg</td>\n",
       "      <td><img src=\"catdog_small_testing_dir/monkey_15.jpg\" style=\"max-height: 300px; max-width: 300px;\" ></img></td>\n",
       "      <td>[1]</td>\n",
       "    </tr>\n",
       "    <tr>\n",
       "      <th>22</th>\n",
       "      <td>catdog_small_testing_dir/monkey_14.jpg</td>\n",
       "      <td><img src=\"catdog_small_testing_dir/monkey_14.jpg\" style=\"max-height: 300px; max-width: 300px;\" ></img></td>\n",
       "      <td>[0]</td>\n",
       "    </tr>\n",
       "    <tr>\n",
       "      <th>23</th>\n",
       "      <td>catdog_small_testing_dir/monkey_16.jpg</td>\n",
       "      <td><img src=\"catdog_small_testing_dir/monkey_16.jpg\" style=\"max-height: 300px; max-width: 300px;\" ></img></td>\n",
       "      <td>[1]</td>\n",
       "    </tr>\n",
       "    <tr>\n",
       "      <th>24</th>\n",
       "      <td>catdog_small_testing_dir/monkey_17.jpg</td>\n",
       "      <td><img src=\"catdog_small_testing_dir/monkey_17.jpg\" style=\"max-height: 300px; max-width: 300px;\" ></img></td>\n",
       "      <td>[0]</td>\n",
       "    </tr>\n",
       "    <tr>\n",
       "      <th>25</th>\n",
       "      <td>catdog_small_testing_dir/monkey_19.jpg</td>\n",
       "      <td><img src=\"catdog_small_testing_dir/monkey_19.jpg\" style=\"max-height: 300px; max-width: 300px;\" ></img></td>\n",
       "      <td>[1]</td>\n",
       "    </tr>\n",
       "    <tr>\n",
       "      <th>26</th>\n",
       "      <td>catdog_small_testing_dir/monkey_18.jpg</td>\n",
       "      <td><img src=\"catdog_small_testing_dir/monkey_18.jpg\" style=\"max-height: 300px; max-width: 300px;\" ></img></td>\n",
       "      <td>[1]</td>\n",
       "    </tr>\n",
       "    <tr>\n",
       "      <th>27</th>\n",
       "      <td>catdog_small_testing_dir/monkey_20.jpg</td>\n",
       "      <td><img src=\"catdog_small_testing_dir/monkey_20.jpg\" style=\"max-height: 300px; max-width: 300px;\" ></img></td>\n",
       "      <td>[1]</td>\n",
       "    </tr>\n",
       "    <tr>\n",
       "      <th>28</th>\n",
       "      <td>catdog_small_testing_dir/bicycle_18.jpg</td>\n",
       "      <td><img src=\"catdog_small_testing_dir/bicycle_18.jpg\" style=\"max-height: 300px; max-width: 300px;\" ></img></td>\n",
       "      <td>[0]</td>\n",
       "    </tr>\n",
       "    <tr>\n",
       "      <th>29</th>\n",
       "      <td>catdog_small_testing_dir/monkey_2.jpg</td>\n",
       "      <td><img src=\"catdog_small_testing_dir/monkey_2.jpg\" style=\"max-height: 300px; max-width: 300px;\" ></img></td>\n",
       "      <td>[0]</td>\n",
       "    </tr>\n",
       "    <tr>\n",
       "      <th>30</th>\n",
       "      <td>catdog_small_testing_dir/monkey_3.jpg</td>\n",
       "      <td><img src=\"catdog_small_testing_dir/monkey_3.jpg\" style=\"max-height: 300px; max-width: 300px;\" ></img></td>\n",
       "      <td>[0]</td>\n",
       "    </tr>\n",
       "    <tr>\n",
       "      <th>31</th>\n",
       "      <td>catdog_small_testing_dir/bicycle_19.jpg</td>\n",
       "      <td><img src=\"catdog_small_testing_dir/bicycle_19.jpg\" style=\"max-height: 300px; max-width: 300px;\" ></img></td>\n",
       "      <td>[0]</td>\n",
       "    </tr>\n",
       "    <tr>\n",
       "      <th>32</th>\n",
       "      <td>catdog_small_testing_dir/monkey_1.jpg</td>\n",
       "      <td><img src=\"catdog_small_testing_dir/monkey_1.jpg\" style=\"max-height: 300px; max-width: 300px;\" ></img></td>\n",
       "      <td>[0]</td>\n",
       "    </tr>\n",
       "    <tr>\n",
       "      <th>33</th>\n",
       "      <td>catdog_small_testing_dir/bicycle_8.jpg</td>\n",
       "      <td><img src=\"catdog_small_testing_dir/bicycle_8.jpg\" style=\"max-height: 300px; max-width: 300px;\" ></img></td>\n",
       "      <td>[0]</td>\n",
       "    </tr>\n",
       "    <tr>\n",
       "      <th>34</th>\n",
       "      <td>catdog_small_testing_dir/bicycle_9.jpg</td>\n",
       "      <td><img src=\"catdog_small_testing_dir/bicycle_9.jpg\" style=\"max-height: 300px; max-width: 300px;\" ></img></td>\n",
       "      <td>[0]</td>\n",
       "    </tr>\n",
       "    <tr>\n",
       "      <th>35</th>\n",
       "      <td>catdog_small_testing_dir/monkey_4.jpg</td>\n",
       "      <td><img src=\"catdog_small_testing_dir/monkey_4.jpg\" style=\"max-height: 300px; max-width: 300px;\" ></img></td>\n",
       "      <td>[0]</td>\n",
       "    </tr>\n",
       "    <tr>\n",
       "      <th>36</th>\n",
       "      <td>catdog_small_testing_dir/monkey_5.jpg</td>\n",
       "      <td><img src=\"catdog_small_testing_dir/monkey_5.jpg\" style=\"max-height: 300px; max-width: 300px;\" ></img></td>\n",
       "      <td>[1]</td>\n",
       "    </tr>\n",
       "    <tr>\n",
       "      <th>37</th>\n",
       "      <td>catdog_small_testing_dir/monkey_7.jpg</td>\n",
       "      <td><img src=\"catdog_small_testing_dir/monkey_7.jpg\" style=\"max-height: 300px; max-width: 300px;\" ></img></td>\n",
       "      <td>[1]</td>\n",
       "    </tr>\n",
       "    <tr>\n",
       "      <th>38</th>\n",
       "      <td>catdog_small_testing_dir/bicycle_20.jpg</td>\n",
       "      <td><img src=\"catdog_small_testing_dir/bicycle_20.jpg\" style=\"max-height: 300px; max-width: 300px;\" ></img></td>\n",
       "      <td>[0]</td>\n",
       "    </tr>\n",
       "    <tr>\n",
       "      <th>39</th>\n",
       "      <td>catdog_small_testing_dir/monkey_6.jpg</td>\n",
       "      <td><img src=\"catdog_small_testing_dir/monkey_6.jpg\" style=\"max-height: 300px; max-width: 300px;\" ></img></td>\n",
       "      <td>[0]</td>\n",
       "    </tr>\n",
       "  </tbody>\n",
       "</table>"
      ],
      "text/plain": [
       "<IPython.core.display.HTML object>"
      ]
     },
     "execution_count": 48,
     "metadata": {},
     "output_type": "execute_result"
    }
   ],
   "source": [
    "pd.set_option('max_colwidth', 300)\n",
    "HTML(df.to_html(escape=False))"
   ]
  },
  {
   "cell_type": "code",
   "execution_count": null,
   "metadata": {
    "collapsed": true
   },
   "outputs": [],
   "source": []
  }
 ],
 "metadata": {
  "kernelspec": {
   "display_name": "Python 2",
   "language": "python",
   "name": "python2"
  },
  "language_info": {
   "codemirror_mode": {
    "name": "ipython",
    "version": 2
   },
   "file_extension": ".py",
   "mimetype": "text/x-python",
   "name": "python",
   "nbconvert_exporter": "python",
   "pygments_lexer": "ipython2",
   "version": "2.7.14"
  }
 },
 "nbformat": 4,
 "nbformat_minor": 2
}
