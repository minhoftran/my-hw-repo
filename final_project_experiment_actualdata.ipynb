{
 "cells": [
  {
   "cell_type": "code",
   "execution_count": 33,
   "metadata": {
    "collapsed": true
   },
   "outputs": [],
   "source": [
    "# 1/31/18 - attempting with full / actual data for final. -mt"
   ]
  },
  {
   "cell_type": "markdown",
   "metadata": {},
   "source": [
    "### Step 3: Import libraries and modules"
   ]
  },
  {
   "cell_type": "code",
   "execution_count": 2,
   "metadata": {
    "collapsed": true
   },
   "outputs": [],
   "source": [
    "# importing numpy and setting a seed for reproductibility\n",
    "import numpy as np\n",
    "np.random.seed(123) # kinda irrelevant. not really using randomness. -mt\n",
    "\n",
    "import os\n",
    "from tqdm import tqdm\n",
    "import pandas as pd"
   ]
  },
  {
   "cell_type": "code",
   "execution_count": 3,
   "metadata": {},
   "outputs": [
    {
     "name": "stderr",
     "output_type": "stream",
     "text": [
      "Using TensorFlow backend.\n"
     ]
    }
   ],
   "source": [
    "# importing standard keras modules/layers/utilities\n",
    "from keras.models import Sequential, load_model\n",
    "from keras.layers import Dense, Dropout, Activation, Flatten\n",
    "from keras.layers import Convolution2D, MaxPooling2D\n",
    "from keras.utils import np_utils\n",
    "\n",
    "from keras.preprocessing.image import ImageDataGenerator\n",
    "from keras import backend as K\n",
    "from keras import optimizers"
   ]
  },
  {
   "cell_type": "code",
   "execution_count": 4,
   "metadata": {
    "collapsed": true
   },
   "outputs": [],
   "source": [
    "from keras.preprocessing.image import ImageDataGenerator, array_to_img, img_to_array, load_img"
   ]
  },
  {
   "cell_type": "code",
   "execution_count": 5,
   "metadata": {
    "collapsed": true
   },
   "outputs": [],
   "source": [
    "from matplotlib import pyplot as plt\n",
    "%matplotlib inline"
   ]
  },
  {
   "cell_type": "markdown",
   "metadata": {},
   "source": [
    "#### Building off of: https://blog.keras.io/building-powerful-image-classification-models-using-very-little-data.html -mt"
   ]
  },
  {
   "cell_type": "markdown",
   "metadata": {},
   "source": [
    "Directory structure looks like:\n",
    "```\n",
    "catdog_small_training_dir/\n",
    "    train/\n",
    "        urban/\n",
    "            *.jpg\n",
    "            **.jpg\n",
    "            ...\n",
    "        nature/\n",
    "            ***.jpg\n",
    "            ****.jpg\n",
    "            ...\n",
    "    validation/\n",
    "        urban/\n",
    "            *.jpg\n",
    "            **.jpg\n",
    "            ...\n",
    "        nature/\n",
    "            ***.jpg\n",
    "            ****.jpg\n",
    "            ...\n",
    "```            "
   ]
  },
  {
   "cell_type": "markdown",
   "metadata": {},
   "source": [
    "### Step 4: Point to images for dataset creation (later)"
   ]
  },
  {
   "cell_type": "code",
   "execution_count": 6,
   "metadata": {
    "collapsed": true
   },
   "outputs": [],
   "source": [
    "# desired input dimensions.\n",
    "img_width, img_height = 250, 250\n",
    "\n",
    "train_data_dir = 'final_training_dir/train'\n",
    "validation_data_dir = 'final_training_dir/validation'"
   ]
  },
  {
   "cell_type": "code",
   "execution_count": 7,
   "metadata": {
    "collapsed": true
   },
   "outputs": [],
   "source": [
    "# in the future, use a count function to determine below, instead of manually setting\n",
    "nb_train_samples = 4084\n",
    "nb_validation_samples = 1339\n",
    "\n",
    "epochs = 30\n",
    "batch_size = 32"
   ]
  },
  {
   "cell_type": "code",
   "execution_count": 8,
   "metadata": {
    "collapsed": true
   },
   "outputs": [],
   "source": [
    "# reshape array shapes as needed (tensorflow vs theano)\n",
    "if K.image_data_format() == 'channels_first':\n",
    "    input_shape = (3, img_width, img_height)\n",
    "else:\n",
    "    input_shape = (img_width, img_height, 3)"
   ]
  },
  {
   "cell_type": "markdown",
   "metadata": {},
   "source": [
    "### Step 5: Define model"
   ]
  },
  {
   "cell_type": "code",
   "execution_count": 9,
   "metadata": {
    "collapsed": true
   },
   "outputs": [],
   "source": [
    "model = Sequential()\n",
    "model.add(Convolution2D(32, (3, 3), input_shape=input_shape))\n",
    "model.add(Activation('relu'))\n",
    "model.add(MaxPooling2D(pool_size=(2, 2)))\n",
    "\n",
    "model.add(Convolution2D(32, (3, 3)))\n",
    "model.add(Activation('relu'))\n",
    "model.add(MaxPooling2D(pool_size=(2, 2)))\n",
    "\n",
    "model.add(Convolution2D(64, (3, 3)))\n",
    "model.add(Activation('relu'))\n",
    "model.add(MaxPooling2D(pool_size=(2, 2)))\n",
    "\n",
    "model.add(Flatten())\n",
    "model.add(Dense(64))\n",
    "model.add(Activation('relu'))\n",
    "model.add(Dropout(0.5))\n",
    "model.add(Dense(4)) # set number of final classes. -mt\n",
    "\n",
    "# model.add(Activation('sigmoid')) #non-mutually exclusive\n",
    "model.add(Activation('softmax')) #mutually exclusive"
   ]
  },
  {
   "cell_type": "code",
   "execution_count": 10,
   "metadata": {},
   "outputs": [
    {
     "name": "stdout",
     "output_type": "stream",
     "text": [
      "_________________________________________________________________\n",
      "Layer (type)                 Output Shape              Param #   \n",
      "=================================================================\n",
      "conv2d_1 (Conv2D)            (None, 248, 248, 32)      896       \n",
      "_________________________________________________________________\n",
      "activation_1 (Activation)    (None, 248, 248, 32)      0         \n",
      "_________________________________________________________________\n",
      "max_pooling2d_1 (MaxPooling2 (None, 124, 124, 32)      0         \n",
      "_________________________________________________________________\n",
      "conv2d_2 (Conv2D)            (None, 122, 122, 32)      9248      \n",
      "_________________________________________________________________\n",
      "activation_2 (Activation)    (None, 122, 122, 32)      0         \n",
      "_________________________________________________________________\n",
      "max_pooling2d_2 (MaxPooling2 (None, 61, 61, 32)        0         \n",
      "_________________________________________________________________\n",
      "conv2d_3 (Conv2D)            (None, 59, 59, 64)        18496     \n",
      "_________________________________________________________________\n",
      "activation_3 (Activation)    (None, 59, 59, 64)        0         \n",
      "_________________________________________________________________\n",
      "max_pooling2d_3 (MaxPooling2 (None, 29, 29, 64)        0         \n",
      "_________________________________________________________________\n",
      "flatten_1 (Flatten)          (None, 53824)             0         \n",
      "_________________________________________________________________\n",
      "dense_1 (Dense)              (None, 64)                3444800   \n",
      "_________________________________________________________________\n",
      "activation_4 (Activation)    (None, 64)                0         \n",
      "_________________________________________________________________\n",
      "dropout_1 (Dropout)          (None, 64)                0         \n",
      "_________________________________________________________________\n",
      "dense_2 (Dense)              (None, 4)                 260       \n",
      "_________________________________________________________________\n",
      "activation_5 (Activation)    (None, 4)                 0         \n",
      "=================================================================\n",
      "Total params: 3,473,700\n",
      "Trainable params: 3,473,700\n",
      "Non-trainable params: 0\n",
      "_________________________________________________________________\n"
     ]
    }
   ],
   "source": [
    "model.summary()"
   ]
  },
  {
   "cell_type": "code",
   "execution_count": 11,
   "metadata": {
    "collapsed": true
   },
   "outputs": [],
   "source": [
    "# tinkering with different optimizers, learning rates, and decay. -mt\n",
    "# read more: https://towardsdatascience.com/learning-rate-schedules-and-adaptive-learning-rate-methods-for-deep-learning-2c8f433990d1\n",
    "\n",
    "# sgd = optimizers.SGD(lr=0.1)\n",
    "\n",
    "learning_rate = 0.1\n",
    "decay_rate = learning_rate / epochs\n",
    "momentum = 0.8\n",
    "\n",
    "sgd = optimizers.SGD(lr=learning_rate, momentum=momentum, decay=decay_rate, nesterov=False)\n",
    "\n",
    "# adam = optimizers.Adam(lr=0.001, beta_1=0.9, beta_2=0.999, epsilon=1e-8)"
   ]
  },
  {
   "cell_type": "code",
   "execution_count": 12,
   "metadata": {
    "collapsed": true
   },
   "outputs": [],
   "source": [
    "model.compile(#loss='sparse_categorical_crossentropy',\n",
    "              loss='categorical_crossentropy',\n",
    "#               loss='binary_crossentropy',\n",
    "#               optimizer='rmsprop',\n",
    "              optimizer='sgd',\n",
    "              metrics=['accuracy'])"
   ]
  },
  {
   "cell_type": "markdown",
   "metadata": {},
   "source": [
    "### Step 6: Data augmentation"
   ]
  },
  {
   "cell_type": "code",
   "execution_count": 13,
   "metadata": {
    "collapsed": true
   },
   "outputs": [],
   "source": [
    "# this is the augmentation configuration we will use for training\n",
    "train_datagen = ImageDataGenerator(\n",
    "    rotation_range=40,\n",
    "    rescale=1. / 255,\n",
    "    width_shift_range=0.2,\n",
    "    height_shift_range=0.2,\n",
    "    shear_range=0.2,\n",
    "    zoom_range=0.2,\n",
    "    fill_mode='nearest',\n",
    "    horizontal_flip=True)"
   ]
  },
  {
   "cell_type": "code",
   "execution_count": 14,
   "metadata": {
    "collapsed": true
   },
   "outputs": [],
   "source": [
    "# this is the augmentation configuration we will use for testing:\n",
    "# only rescaling\n",
    "test_datagen = ImageDataGenerator(rescale=1. / 255)"
   ]
  },
  {
   "cell_type": "code",
   "execution_count": 15,
   "metadata": {},
   "outputs": [
    {
     "name": "stdout",
     "output_type": "stream",
     "text": [
      "Found 4084 images belonging to 4 classes.\n"
     ]
    }
   ],
   "source": [
    "train_generator = train_datagen.flow_from_directory(\n",
    "    train_data_dir,\n",
    "    target_size=(img_width, img_height),\n",
    "    batch_size=batch_size,\n",
    "    class_mode='categorical')"
   ]
  },
  {
   "cell_type": "code",
   "execution_count": 16,
   "metadata": {},
   "outputs": [
    {
     "name": "stdout",
     "output_type": "stream",
     "text": [
      "Found 1339 images belonging to 4 classes.\n"
     ]
    }
   ],
   "source": [
    "validation_generator = test_datagen.flow_from_directory(\n",
    "    validation_data_dir,\n",
    "    target_size=(img_width, img_height),\n",
    "    batch_size=batch_size,\n",
    "    class_mode='categorical')"
   ]
  },
  {
   "cell_type": "code",
   "execution_count": 17,
   "metadata": {},
   "outputs": [
    {
     "data": {
      "text/plain": [
       "{'animal': 0, 'nature': 1, 'person': 2, 'urban': 3}"
      ]
     },
     "execution_count": 17,
     "metadata": {},
     "output_type": "execute_result"
    }
   ],
   "source": [
    "# which integer is which class\n",
    "train_generator.class_indices"
   ]
  },
  {
   "cell_type": "markdown",
   "metadata": {},
   "source": [
    "#### Test data augmentation"
   ]
  },
  {
   "cell_type": "code",
   "execution_count": 18,
   "metadata": {
    "collapsed": true
   },
   "outputs": [],
   "source": [
    "# img = load_img('/Users/minhgeneralassembly/Downloads/kaggle_catsanddogs/small_training_dir/train/cats/cat.0.jpg')  # this is a PIL image\n",
    "# x = img_to_array(img)  # this is a Numpy array with shape (3, 150, 150)\n",
    "# x = x.reshape((1,) + x.shape)  # this is a Numpy array with shape (1, 3, 150, 150)"
   ]
  },
  {
   "cell_type": "code",
   "execution_count": 19,
   "metadata": {
    "collapsed": true
   },
   "outputs": [],
   "source": [
    "# i = 0\n",
    "# for batch in train_datagen.flow(x, batch_size=1,\n",
    "#                           save_to_dir='/Users/minhgeneralassembly/Downloads/kaggle_catsanddogs/preview', save_prefix='cat', save_format='jpeg'):\n",
    "#     i += 1\n",
    "#     if i > 20:\n",
    "#         break  # otherwise the generator would loop indefinitely"
   ]
  },
  {
   "cell_type": "markdown",
   "metadata": {},
   "source": [
    "### Step 7: Fit model"
   ]
  },
  {
   "cell_type": "code",
   "execution_count": 20,
   "metadata": {
    "scrolled": false
   },
   "outputs": [
    {
     "name": "stdout",
     "output_type": "stream",
     "text": [
      "Epoch 1/30\n",
      "  5/127 [>.............................] - ETA: 9:03 - loss: 1.3924 - acc: 0.2375"
     ]
    },
    {
     "name": "stderr",
     "output_type": "stream",
     "text": [
      "/Users/minhgeneralassembly/anaconda2/lib/python2.7/site-packages/PIL/TiffImagePlugin.py:692: UserWarning: Possibly corrupt EXIF data.  Expecting to read 4718592 bytes but only got 0. Skipping tag 0\n",
      "  \" Skipping tag %s\" % (size, len(data), tag))\n"
     ]
    },
    {
     "name": "stdout",
     "output_type": "stream",
     "text": [
      "127/127 [==============================] - 465s 4s/step - loss: 1.3569 - acc: 0.3305 - val_loss: 1.3032 - val_acc: 0.3956\n",
      "Epoch 2/30\n",
      "127/127 [==============================] - 454s 4s/step - loss: 1.2709 - acc: 0.4103 - val_loss: 1.1844 - val_acc: 0.4705\n",
      "Epoch 3/30\n",
      "127/127 [==============================] - 456s 4s/step - loss: 1.2029 - acc: 0.4647 - val_loss: 1.2241 - val_acc: 0.4407\n",
      "Epoch 4/30\n",
      "127/127 [==============================] - 457s 4s/step - loss: 1.1528 - acc: 0.4918 - val_loss: 1.1353 - val_acc: 0.5027\n",
      "Epoch 5/30\n",
      "127/127 [==============================] - 461s 4s/step - loss: 1.1149 - acc: 0.5131 - val_loss: 1.0899 - val_acc: 0.5233\n",
      "Epoch 6/30\n",
      "127/127 [==============================] - 463s 4s/step - loss: 1.0898 - acc: 0.5311 - val_loss: 1.0920 - val_acc: 0.5394\n",
      "Epoch 7/30\n",
      "127/127 [==============================] - 462s 4s/step - loss: 1.0778 - acc: 0.5451 - val_loss: 1.0711 - val_acc: 0.5218\n",
      "Epoch 8/30\n",
      "127/127 [==============================] - 469s 4s/step - loss: 1.0456 - acc: 0.5598 - val_loss: 1.0238 - val_acc: 0.5662\n",
      "Epoch 9/30\n",
      "127/127 [==============================] - 467s 4s/step - loss: 1.0386 - acc: 0.5759 - val_loss: 1.0174 - val_acc: 0.5708\n",
      "Epoch 10/30\n",
      "127/127 [==============================] - 466s 4s/step - loss: 1.0278 - acc: 0.5743 - val_loss: 1.0254 - val_acc: 0.5562\n",
      "Epoch 11/30\n",
      "127/127 [==============================] - 463s 4s/step - loss: 1.0199 - acc: 0.5790 - val_loss: 1.0201 - val_acc: 0.5861\n",
      "Epoch 12/30\n",
      "127/127 [==============================] - 462s 4s/step - loss: 0.9931 - acc: 0.6009 - val_loss: 0.9864 - val_acc: 0.5861\n",
      "Epoch 13/30\n",
      "127/127 [==============================] - 458s 4s/step - loss: 0.9866 - acc: 0.5928 - val_loss: 0.9296 - val_acc: 0.6228\n",
      "Epoch 14/30\n",
      "127/127 [==============================] - 462s 4s/step - loss: 0.9714 - acc: 0.5939 - val_loss: 0.9396 - val_acc: 0.6151\n",
      "Epoch 15/30\n",
      "127/127 [==============================] - 461s 4s/step - loss: 0.9815 - acc: 0.6031 - val_loss: 0.9759 - val_acc: 0.5937\n",
      "Epoch 16/30\n",
      "127/127 [==============================] - 463s 4s/step - loss: 0.9565 - acc: 0.6001 - val_loss: 0.9271 - val_acc: 0.5937\n",
      "Epoch 17/30\n",
      "127/127 [==============================] - 461s 4s/step - loss: 0.9439 - acc: 0.6093 - val_loss: 0.9603 - val_acc: 0.6075\n",
      "Epoch 18/30\n",
      "127/127 [==============================] - 463s 4s/step - loss: 0.9431 - acc: 0.6069 - val_loss: 0.9074 - val_acc: 0.6266\n",
      "Epoch 19/30\n",
      "127/127 [==============================] - 456s 4s/step - loss: 0.9329 - acc: 0.6242 - val_loss: 0.9088 - val_acc: 0.6167\n",
      "Epoch 20/30\n",
      "127/127 [==============================] - 454s 4s/step - loss: 0.9320 - acc: 0.6260 - val_loss: 0.8971 - val_acc: 0.6389\n",
      "Epoch 21/30\n",
      "127/127 [==============================] - 460s 4s/step - loss: 0.9270 - acc: 0.6225 - val_loss: 0.8529 - val_acc: 0.6526\n",
      "Epoch 22/30\n",
      "127/127 [==============================] - 460s 4s/step - loss: 0.9223 - acc: 0.6230 - val_loss: 0.8990 - val_acc: 0.6396\n",
      "Epoch 23/30\n",
      "127/127 [==============================] - 458s 4s/step - loss: 0.9144 - acc: 0.6325 - val_loss: 0.9130 - val_acc: 0.6098\n",
      "Epoch 24/30\n",
      "127/127 [==============================] - 459s 4s/step - loss: 0.8986 - acc: 0.6356 - val_loss: 0.8867 - val_acc: 0.6366\n",
      "Epoch 25/30\n",
      "127/127 [==============================] - 461s 4s/step - loss: 0.9014 - acc: 0.6376 - val_loss: 0.8520 - val_acc: 0.6435\n",
      "Epoch 26/30\n",
      "127/127 [==============================] - 455s 4s/step - loss: 0.9011 - acc: 0.6350 - val_loss: 0.8697 - val_acc: 0.6412\n",
      "Epoch 27/30\n",
      "127/127 [==============================] - 459s 4s/step - loss: 0.8678 - acc: 0.6506 - val_loss: 0.8740 - val_acc: 0.6389\n",
      "Epoch 28/30\n",
      "127/127 [==============================] - 458s 4s/step - loss: 0.8751 - acc: 0.6530 - val_loss: 0.8625 - val_acc: 0.6450\n",
      "Epoch 29/30\n",
      "127/127 [==============================] - 476s 4s/step - loss: 0.8680 - acc: 0.6562 - val_loss: 0.8733 - val_acc: 0.6236\n",
      "Epoch 30/30\n",
      "127/127 [==============================] - 490s 4s/step - loss: 0.8614 - acc: 0.6487 - val_loss: 0.8444 - val_acc: 0.6588\n"
     ]
    }
   ],
   "source": [
    "history = model.fit_generator(\n",
    "    train_generator,\n",
    "    steps_per_epoch=nb_train_samples // batch_size,\n",
    "    epochs=epochs,\n",
    "    validation_data=validation_generator,\n",
    "    validation_steps=nb_validation_samples // batch_size)"
   ]
  },
  {
   "cell_type": "markdown",
   "metadata": {},
   "source": [
    "### Step 7.5: Save model"
   ]
  },
  {
   "cell_type": "code",
   "execution_count": 21,
   "metadata": {
    "collapsed": true
   },
   "outputs": [],
   "source": [
    "import datetime"
   ]
  },
  {
   "cell_type": "code",
   "execution_count": 27,
   "metadata": {
    "collapsed": true
   },
   "outputs": [],
   "source": [
    "model.save(str(datetime.date.today()).replace(\"-\",\"\") + '_final_30epochs.h5')\n",
    "# model.save('catsndogs_' + str(datetime.date.today()).replace(\"-\",\"\") + '.h5')"
   ]
  },
  {
   "cell_type": "markdown",
   "metadata": {},
   "source": [
    "### Step 7.9: Reload model (if needed)"
   ]
  },
  {
   "cell_type": "code",
   "execution_count": 28,
   "metadata": {
    "collapsed": true
   },
   "outputs": [],
   "source": [
    "# model = load_model('catsndogs.h5')"
   ]
  },
  {
   "cell_type": "markdown",
   "metadata": {},
   "source": [
    "### Step 8: Evaluate model"
   ]
  },
  {
   "cell_type": "code",
   "execution_count": 29,
   "metadata": {},
   "outputs": [
    {
     "name": "stdout",
     "output_type": "stream",
     "text": [
      "['acc', 'loss', 'val_acc', 'val_loss']\n"
     ]
    }
   ],
   "source": [
    "print(history.history.keys())"
   ]
  },
  {
   "cell_type": "code",
   "execution_count": 34,
   "metadata": {},
   "outputs": [
    {
     "data": {
      "image/png": "[encoded data removed]",
      "text/plain": [
       "<matplotlib.figure.Figure at 0x10a289c90>"
      ]
     },
     "metadata": {},
     "output_type": "display_data"
    }
   ],
   "source": [
    "plt.plot(history.history['loss'])\n",
    "plt.plot(history.history['val_loss'])\n",
    "plt.title('model loss')\n",
    "plt.ylabel('loss')\n",
    "plt.xlabel('epoch')\n",
    "plt.legend(['train', 'validation'], loc='upper left')\n",
    "plt.show()"
   ]
  },
  {
   "cell_type": "code",
   "execution_count": 35,
   "metadata": {},
   "outputs": [
    {
     "data": {
      "image/png": "[encoded data removed]",
      "text/plain": [
       "<matplotlib.figure.Figure at 0x10a4c26d0>"
      ]
     },
     "metadata": {},
     "output_type": "display_data"
    }
   ],
   "source": [
    "plt.plot(history.history['acc'])\n",
    "plt.plot(history.history['val_acc'])\n",
    "plt.title('model acc')\n",
    "plt.ylabel('acc')\n",
    "plt.xlabel('epoch')\n",
    "plt.legend(['train', 'validation'], loc='upper left')\n",
    "plt.show()"
   ]
  },
  {
   "cell_type": "code",
   "execution_count": null,
   "metadata": {
    "collapsed": true
   },
   "outputs": [],
   "source": [
    "break"
   ]
  },
  {
   "cell_type": "markdown",
   "metadata": {},
   "source": [
    "### Step 10: Compare test images vs predicted classes"
   ]
  },
  {
   "cell_type": "code",
   "execution_count": 43,
   "metadata": {
    "collapsed": true
   },
   "outputs": [],
   "source": [
    "def cropResizeImages(img):\n",
    "    width, height = img.size\n",
    "\n",
    "    if width > height:\n",
    "        left = (width - height)/2\n",
    "        top = (height - height)/2\n",
    "        right = (width + height)/2\n",
    "        bottom = (height + height)/2\n",
    "        \n",
    "        img = img.crop((left, top, right, bottom))\n",
    "        img = img.resize([img_width,img_height])\n",
    "        \n",
    "    elif width == height:\n",
    "        left = (width - height)/2\n",
    "        top = (height - height)/2\n",
    "        right = (width + height)/2\n",
    "        bottom = (height + height)/2\n",
    "        \n",
    "        img = img.crop((left, top, right, bottom))\n",
    "        img = img.resize([img_width,img_height])\n",
    "    \n",
    "    elif height > width:\n",
    "        left = (width - width)/2\n",
    "        top = (height - width)/2\n",
    "        right = (width + width)/2\n",
    "        bottom = (height + width)/2\n",
    "        \n",
    "        img = img.crop((left, top, right, bottom))\n",
    "        img = img.resize([img_width,img_height])\n",
    "        \n",
    "    return img"
   ]
  },
  {
   "cell_type": "code",
   "execution_count": 44,
   "metadata": {
    "collapsed": true
   },
   "outputs": [],
   "source": [
    "# taken from lesson 17 + tinkering. -mt"
   ]
  },
  {
   "cell_type": "code",
   "execution_count": 45,
   "metadata": {},
   "outputs": [],
   "source": [
    "test_img_dir = \"final_testing_dir/\" # actual testing directory\n",
    "\n",
    "test_images = [test_img_dir + f for f in os.listdir(test_img_dir) if f.endswith('.jpg')]"
   ]
  },
  {
   "cell_type": "code",
   "execution_count": 46,
   "metadata": {},
   "outputs": [
    {
     "data": {
      "text/plain": [
       "'final_testing_dir/1581371490_0e20ce0abb.jpg'"
      ]
     },
     "execution_count": 46,
     "metadata": {},
     "output_type": "execute_result"
    }
   ],
   "source": [
    "test_images[0]"
   ]
  },
  {
   "cell_type": "code",
   "execution_count": 47,
   "metadata": {},
   "outputs": [
    {
     "name": "stderr",
     "output_type": "stream",
     "text": [
      "100%|██████████| 131/131 [00:00<00:00, 167.29it/s]\n"
     ]
    }
   ],
   "source": [
    "test_data = []\n",
    "\n",
    "for test_image in tqdm(test_images):\n",
    "    img = load_img(test_image)\n",
    "    img = cropResizeImages(img)\n",
    "    img = np.array(img)\n",
    "    test_data.append(img)"
   ]
  },
  {
   "cell_type": "code",
   "execution_count": 88,
   "metadata": {
    "collapsed": true
   },
   "outputs": [],
   "source": [
    "df = pd.DataFrame(test_images, columns=['image_name'])\n",
    "\n",
    "df['image'] = df['image_name'].map(lambda x: '<img src=\"{}\" style=\"max-height: 300px; max-width: 300px;\" ></img>'.format(x) )"
   ]
  },
  {
   "cell_type": "code",
   "execution_count": 89,
   "metadata": {},
   "outputs": [
    {
     "name": "stderr",
     "output_type": "stream",
     "text": [
      "131it [00:05, 24.38it/s]\n"
     ]
    }
   ],
   "source": [
    "df['predict_class'] = ''\n",
    "\n",
    "for i,each in tqdm(df.iterrows()):\n",
    "    each['predict_class'] = model.predict_classes(test_data[i][np.newaxis, :, :, :])"
   ]
  },
  {
   "cell_type": "code",
   "execution_count": 90,
   "metadata": {},
   "outputs": [
    {
     "data": {
      "text/plain": [
       "{'animal': 0, 'nature': 1, 'person': 2, 'urban': 3}"
      ]
     },
     "execution_count": 90,
     "metadata": {},
     "output_type": "execute_result"
    }
   ],
   "source": [
    "train_generator.class_indices"
   ]
  },
  {
   "cell_type": "code",
   "execution_count": 91,
   "metadata": {},
   "outputs": [
    {
     "name": "stderr",
     "output_type": "stream",
     "text": [
      "131it [00:00, 3130.15it/s]\n"
     ]
    }
   ],
   "source": [
    "# todo: loop through train_generator.class_indices and make the below automatic/scalable. -mt\n",
    "\n",
    "df['predict_name'] = ''\n",
    "\n",
    "for i,each in tqdm(df.iterrows()):\n",
    "    if each['predict_class'] == ([0]):\n",
    "        each['predict_name'] = 'animal'\n",
    "    elif each['predict_class'] == ([1]):\n",
    "        each['predict_name'] = 'nature'\n",
    "    elif each['predict_class'] == ([2]):\n",
    "        each['predict_name'] = 'person'\n",
    "    elif each['predict_class'] == ([3]):\n",
    "        each['predict_name'] = 'urban'"
   ]
  },
  {
   "cell_type": "code",
   "execution_count": 92,
   "metadata": {
    "collapsed": true
   },
   "outputs": [],
   "source": [
    "from IPython.display import HTML"
   ]
  },
  {
   "cell_type": "code",
   "execution_count": 93,
   "metadata": {
    "scrolled": true
   },
   "outputs": [
    {
     "data": {
      "text/html": [
       "<table border=\"1\" class=\"dataframe\">\n",
       "  <thead>\n",
       "    <tr style=\"text-align: right;\">\n",
       "      <th></th>\n",
       "      <th>image_name</th>\n",
       "      <th>image</th>\n",
       "      <th>predict_class</th>\n",
       "      <th>predict_name</th>\n",
       "    </tr>\n",
       "  </thead>\n",
       "  <tbody>\n",
       "    <tr>\n",
       "      <th>0</th>\n",
       "      <td>final_testing_dir/1581371490_0e20ce0abb.jpg</td>\n",
       "      <td><img src=\"final_testing_dir/1581371490_0e20ce0abb.jpg\" style=\"max-height: 300px; max-width: 300px;\" ></img></td>\n",
       "      <td>[3]</td>\n",
       "      <td>urban</td>\n",
       "    </tr>\n",
       "    <tr>\n",
       "      <th>1</th>\n",
       "      <td>final_testing_dir/4048396736_481fa86fbf.jpg</td>\n",
       "      <td><img src=\"final_testing_dir/4048396736_481fa86fbf.jpg\" style=\"max-height: 300px; max-width: 300px;\" ></img></td>\n",
       "      <td>[2]</td>\n",
       "      <td>person</td>\n",
       "    </tr>\n",
       "    <tr>\n",
       "      <th>2</th>\n",
       "      <td>final_testing_dir/317103720_0c9d8384b1.jpg</td>\n",
       "      <td><img src=\"final_testing_dir/317103720_0c9d8384b1.jpg\" style=\"max-height: 300px; max-width: 300px;\" ></img></td>\n",
       "      <td>[2]</td>\n",
       "      <td>person</td>\n",
       "    </tr>\n",
       "    <tr>\n",
       "      <th>3</th>\n",
       "      <td>final_testing_dir/2185120496_9c543f6196.jpg</td>\n",
       "      <td><img src=\"final_testing_dir/2185120496_9c543f6196.jpg\" style=\"max-height: 300px; max-width: 300px;\" ></img></td>\n",
       "      <td>[3]</td>\n",
       "      <td>urban</td>\n",
       "    </tr>\n",
       "    <tr>\n",
       "      <th>4</th>\n",
       "      <td>final_testing_dir/4117718041_5a6295c543.jpg</td>\n",
       "      <td><img src=\"final_testing_dir/4117718041_5a6295c543.jpg\" style=\"max-height: 300px; max-width: 300px;\" ></img></td>\n",
       "      <td>[3]</td>\n",
       "      <td>urban</td>\n",
       "    </tr>\n",
       "    <tr>\n",
       "      <th>5</th>\n",
       "      <td>final_testing_dir/355922840_270440cb22.jpg</td>\n",
       "      <td><img src=\"final_testing_dir/355922840_270440cb22.jpg\" style=\"max-height: 300px; max-width: 300px;\" ></img></td>\n",
       "      <td>[2]</td>\n",
       "      <td>person</td>\n",
       "    </tr>\n",
       "    <tr>\n",
       "      <th>6</th>\n",
       "      <td>final_testing_dir/zwijn-wild01.jpg</td>\n",
       "      <td><img src=\"final_testing_dir/zwijn-wild01.jpg\" style=\"max-height: 300px; max-width: 300px;\" ></img></td>\n",
       "      <td>[0]</td>\n",
       "      <td>animal</td>\n",
       "    </tr>\n",
       "    <tr>\n",
       "      <th>7</th>\n",
       "      <td>final_testing_dir/2702247832_43ce9e399e.jpg</td>\n",
       "      <td><img src=\"final_testing_dir/2702247832_43ce9e399e.jpg\" style=\"max-height: 300px; max-width: 300px;\" ></img></td>\n",
       "      <td>[3]</td>\n",
       "      <td>urban</td>\n",
       "    </tr>\n",
       "    <tr>\n",
       "      <th>8</th>\n",
       "      <td>final_testing_dir/4368083778_8b9fe62c1a.jpg</td>\n",
       "      <td><img src=\"final_testing_dir/4368083778_8b9fe62c1a.jpg\" style=\"max-height: 300px; max-width: 300px;\" ></img></td>\n",
       "      <td>[2]</td>\n",
       "      <td>person</td>\n",
       "    </tr>\n",
       "    <tr>\n",
       "      <th>9</th>\n",
       "      <td>final_testing_dir/3090992202_b87f3eb479.jpg</td>\n",
       "      <td><img src=\"final_testing_dir/3090992202_b87f3eb479.jpg\" style=\"max-height: 300px; max-width: 300px;\" ></img></td>\n",
       "      <td>[2]</td>\n",
       "      <td>person</td>\n",
       "    </tr>\n",
       "    <tr>\n",
       "      <th>10</th>\n",
       "      <td>final_testing_dir/1241604538_a78f17dd20.jpg</td>\n",
       "      <td><img src=\"final_testing_dir/1241604538_a78f17dd20.jpg\" style=\"max-height: 300px; max-width: 300px;\" ></img></td>\n",
       "      <td>[3]</td>\n",
       "      <td>urban</td>\n",
       "    </tr>\n",
       "    <tr>\n",
       "      <th>11</th>\n",
       "      <td>final_testing_dir/2205104374_eeba08bef7.jpg</td>\n",
       "      <td><img src=\"final_testing_dir/2205104374_eeba08bef7.jpg\" style=\"max-height: 300px; max-width: 300px;\" ></img></td>\n",
       "      <td>[2]</td>\n",
       "      <td>person</td>\n",
       "    </tr>\n",
       "    <tr>\n",
       "      <th>12</th>\n",
       "      <td>final_testing_dir/2129734107_284b0255be.jpg</td>\n",
       "      <td><img src=\"final_testing_dir/2129734107_284b0255be.jpg\" style=\"max-height: 300px; max-width: 300px;\" ></img></td>\n",
       "      <td>[1]</td>\n",
       "      <td>nature</td>\n",
       "    </tr>\n",
       "    <tr>\n",
       "      <th>13</th>\n",
       "      <td>final_testing_dir/2046932988_91cb366b4d.jpg</td>\n",
       "      <td><img src=\"final_testing_dir/2046932988_91cb366b4d.jpg\" style=\"max-height: 300px; max-width: 300px;\" ></img></td>\n",
       "      <td>[2]</td>\n",
       "      <td>person</td>\n",
       "    </tr>\n",
       "    <tr>\n",
       "      <th>14</th>\n",
       "      <td>final_testing_dir/368591659_687342bf23.jpg</td>\n",
       "      <td><img src=\"final_testing_dir/368591659_687342bf23.jpg\" style=\"max-height: 300px; max-width: 300px;\" ></img></td>\n",
       "      <td>[3]</td>\n",
       "      <td>urban</td>\n",
       "    </tr>\n",
       "    <tr>\n",
       "      <th>15</th>\n",
       "      <td>final_testing_dir/477946102_c0b3a8294b.jpg</td>\n",
       "      <td><img src=\"final_testing_dir/477946102_c0b3a8294b.jpg\" style=\"max-height: 300px; max-width: 300px;\" ></img></td>\n",
       "      <td>[0]</td>\n",
       "      <td>animal</td>\n",
       "    </tr>\n",
       "    <tr>\n",
       "      <th>16</th>\n",
       "      <td>final_testing_dir/3226500247_00676054bb.jpg</td>\n",
       "      <td><img src=\"final_testing_dir/3226500247_00676054bb.jpg\" style=\"max-height: 300px; max-width: 300px;\" ></img></td>\n",
       "      <td>[2]</td>\n",
       "      <td>person</td>\n",
       "    </tr>\n",
       "    <tr>\n",
       "      <th>17</th>\n",
       "      <td>final_testing_dir/353085865_dd0c41f4f8.jpg</td>\n",
       "      <td><img src=\"final_testing_dir/353085865_dd0c41f4f8.jpg\" style=\"max-height: 300px; max-width: 300px;\" ></img></td>\n",
       "      <td>[2]</td>\n",
       "      <td>person</td>\n",
       "    </tr>\n",
       "    <tr>\n",
       "      <th>18</th>\n",
       "      <td>final_testing_dir/3400003975_710773ffc2.jpg</td>\n",
       "      <td><img src=\"final_testing_dir/3400003975_710773ffc2.jpg\" style=\"max-height: 300px; max-width: 300px;\" ></img></td>\n",
       "      <td>[3]</td>\n",
       "      <td>urban</td>\n",
       "    </tr>\n",
       "    <tr>\n",
       "      <th>19</th>\n",
       "      <td>final_testing_dir/406_cl_12_south.jpg</td>\n",
       "      <td><img src=\"final_testing_dir/406_cl_12_south.jpg\" style=\"max-height: 300px; max-width: 300px;\" ></img></td>\n",
       "      <td>[1]</td>\n",
       "      <td>nature</td>\n",
       "    </tr>\n",
       "    <tr>\n",
       "      <th>20</th>\n",
       "      <td>final_testing_dir/1383023626_8a49e4879a.jpg</td>\n",
       "      <td><img src=\"final_testing_dir/1383023626_8a49e4879a.jpg\" style=\"max-height: 300px; max-width: 300px;\" ></img></td>\n",
       "      <td>[2]</td>\n",
       "      <td>person</td>\n",
       "    </tr>\n",
       "    <tr>\n",
       "      <th>21</th>\n",
       "      <td>final_testing_dir/231102582_7479b59825.jpg</td>\n",
       "      <td><img src=\"final_testing_dir/231102582_7479b59825.jpg\" style=\"max-height: 300px; max-width: 300px;\" ></img></td>\n",
       "      <td>[0]</td>\n",
       "      <td>animal</td>\n",
       "    </tr>\n",
       "    <tr>\n",
       "      <th>22</th>\n",
       "      <td>final_testing_dir/big_cat.jpg</td>\n",
       "      <td><img src=\"final_testing_dir/big_cat.jpg\" style=\"max-height: 300px; max-width: 300px;\" ></img></td>\n",
       "      <td>[2]</td>\n",
       "      <td>person</td>\n",
       "    </tr>\n",
       "    <tr>\n",
       "      <th>23</th>\n",
       "      <td>final_testing_dir/3177257994_91ff8f59b6.jpg</td>\n",
       "      <td><img src=\"final_testing_dir/3177257994_91ff8f59b6.jpg\" style=\"max-height: 300px; max-width: 300px;\" ></img></td>\n",
       "      <td>[1]</td>\n",
       "      <td>nature</td>\n",
       "    </tr>\n",
       "    <tr>\n",
       "      <th>24</th>\n",
       "      <td>final_testing_dir/603937996_6b2d92045c.jpg</td>\n",
       "      <td><img src=\"final_testing_dir/603937996_6b2d92045c.jpg\" style=\"max-height: 300px; max-width: 300px;\" ></img></td>\n",
       "      <td>[3]</td>\n",
       "      <td>urban</td>\n",
       "    </tr>\n",
       "    <tr>\n",
       "      <th>25</th>\n",
       "      <td>final_testing_dir/2047177862_7783cb9f0e.jpg</td>\n",
       "      <td><img src=\"final_testing_dir/2047177862_7783cb9f0e.jpg\" style=\"max-height: 300px; max-width: 300px;\" ></img></td>\n",
       "      <td>[3]</td>\n",
       "      <td>urban</td>\n",
       "    </tr>\n",
       "    <tr>\n",
       "      <th>26</th>\n",
       "      <td>final_testing_dir/2370961440_6bc8ce346c.jpg</td>\n",
       "      <td><img src=\"final_testing_dir/2370961440_6bc8ce346c.jpg\" style=\"max-height: 300px; max-width: 300px;\" ></img></td>\n",
       "      <td>[2]</td>\n",
       "      <td>person</td>\n",
       "    </tr>\n",
       "    <tr>\n",
       "      <th>27</th>\n",
       "      <td>final_testing_dir/2102516379_a4894b6b1b.jpg</td>\n",
       "      <td><img src=\"final_testing_dir/2102516379_a4894b6b1b.jpg\" style=\"max-height: 300px; max-width: 300px;\" ></img></td>\n",
       "      <td>[2]</td>\n",
       "      <td>person</td>\n",
       "    </tr>\n",
       "    <tr>\n",
       "      <th>28</th>\n",
       "      <td>final_testing_dir/2813247197_e5efc7c565.jpg</td>\n",
       "      <td><img src=\"final_testing_dir/2813247197_e5efc7c565.jpg\" style=\"max-height: 300px; max-width: 300px;\" ></img></td>\n",
       "      <td>[2]</td>\n",
       "      <td>person</td>\n",
       "    </tr>\n",
       "    <tr>\n",
       "      <th>29</th>\n",
       "      <td>final_testing_dir/4189265234_23841edaba.jpg</td>\n",
       "      <td><img src=\"final_testing_dir/4189265234_23841edaba.jpg\" style=\"max-height: 300px; max-width: 300px;\" ></img></td>\n",
       "      <td>[3]</td>\n",
       "      <td>urban</td>\n",
       "    </tr>\n",
       "    <tr>\n",
       "      <th>30</th>\n",
       "      <td>final_testing_dir/2262012090_8d1552be75.jpg</td>\n",
       "      <td><img src=\"final_testing_dir/2262012090_8d1552be75.jpg\" style=\"max-height: 300px; max-width: 300px;\" ></img></td>\n",
       "      <td>[2]</td>\n",
       "      <td>person</td>\n",
       "    </tr>\n",
       "    <tr>\n",
       "      <th>31</th>\n",
       "      <td>final_testing_dir/352592623_7655d56116.jpg</td>\n",
       "      <td><img src=\"final_testing_dir/352592623_7655d56116.jpg\" style=\"max-height: 300px; max-width: 300px;\" ></img></td>\n",
       "      <td>[2]</td>\n",
       "      <td>person</td>\n",
       "    </tr>\n",
       "    <tr>\n",
       "      <th>32</th>\n",
       "      <td>final_testing_dir/471029763_7138fdbd3c.jpg</td>\n",
       "      <td><img src=\"final_testing_dir/471029763_7138fdbd3c.jpg\" style=\"max-height: 300px; max-width: 300px;\" ></img></td>\n",
       "      <td>[2]</td>\n",
       "      <td>person</td>\n",
       "    </tr>\n",
       "    <tr>\n",
       "      <th>33</th>\n",
       "      <td>final_testing_dir/2180094539_cc193e1ce5.jpg</td>\n",
       "      <td><img src=\"final_testing_dir/2180094539_cc193e1ce5.jpg\" style=\"max-height: 300px; max-width: 300px;\" ></img></td>\n",
       "      <td>[2]</td>\n",
       "      <td>person</td>\n",
       "    </tr>\n",
       "    <tr>\n",
       "      <th>34</th>\n",
       "      <td>final_testing_dir/1357645746_8dc6db71f1.jpg</td>\n",
       "      <td><img src=\"final_testing_dir/1357645746_8dc6db71f1.jpg\" style=\"max-height: 300px; max-width: 300px;\" ></img></td>\n",
       "      <td>[1]</td>\n",
       "      <td>nature</td>\n",
       "    </tr>\n",
       "    <tr>\n",
       "      <th>35</th>\n",
       "      <td>final_testing_dir/0180560065.jpg</td>\n",
       "      <td><img src=\"final_testing_dir/0180560065.jpg\" style=\"max-height: 300px; max-width: 300px;\" ></img></td>\n",
       "      <td>[1]</td>\n",
       "      <td>nature</td>\n",
       "    </tr>\n",
       "    <tr>\n",
       "      <th>36</th>\n",
       "      <td>final_testing_dir/2571491910_4bbc73ae50.jpg</td>\n",
       "      <td><img src=\"final_testing_dir/2571491910_4bbc73ae50.jpg\" style=\"max-height: 300px; max-width: 300px;\" ></img></td>\n",
       "      <td>[0]</td>\n",
       "      <td>animal</td>\n",
       "    </tr>\n",
       "    <tr>\n",
       "      <th>37</th>\n",
       "      <td>final_testing_dir/3411174459_58e8fc3813.jpg</td>\n",
       "      <td><img src=\"final_testing_dir/3411174459_58e8fc3813.jpg\" style=\"max-height: 300px; max-width: 300px;\" ></img></td>\n",
       "      <td>[2]</td>\n",
       "      <td>person</td>\n",
       "    </tr>\n",
       "    <tr>\n",
       "      <th>38</th>\n",
       "      <td>final_testing_dir/55630910_54e5df0496.jpg</td>\n",
       "      <td><img src=\"final_testing_dir/55630910_54e5df0496.jpg\" style=\"max-height: 300px; max-width: 300px;\" ></img></td>\n",
       "      <td>[3]</td>\n",
       "      <td>urban</td>\n",
       "    </tr>\n",
       "    <tr>\n",
       "      <th>39</th>\n",
       "      <td>final_testing_dir/3410658041_6f6180fe95.jpg</td>\n",
       "      <td><img src=\"final_testing_dir/3410658041_6f6180fe95.jpg\" style=\"max-height: 300px; max-width: 300px;\" ></img></td>\n",
       "      <td>[2]</td>\n",
       "      <td>person</td>\n",
       "    </tr>\n",
       "    <tr>\n",
       "      <th>40</th>\n",
       "      <td>final_testing_dir/3332670615_1b02ec59ca.jpg</td>\n",
       "      <td><img src=\"final_testing_dir/3332670615_1b02ec59ca.jpg\" style=\"max-height: 300px; max-width: 300px;\" ></img></td>\n",
       "      <td>[2]</td>\n",
       "      <td>person</td>\n",
       "    </tr>\n",
       "    <tr>\n",
       "      <th>41</th>\n",
       "      <td>final_testing_dir/3375250039_8d4704c93f.jpg</td>\n",
       "      <td><img src=\"final_testing_dir/3375250039_8d4704c93f.jpg\" style=\"max-height: 300px; max-width: 300px;\" ></img></td>\n",
       "      <td>[2]</td>\n",
       "      <td>person</td>\n",
       "    </tr>\n",
       "    <tr>\n",
       "      <th>42</th>\n",
       "      <td>final_testing_dir/2291391593_3ed2622a23.jpg</td>\n",
       "      <td><img src=\"final_testing_dir/2291391593_3ed2622a23.jpg\" style=\"max-height: 300px; max-width: 300px;\" ></img></td>\n",
       "      <td>[2]</td>\n",
       "      <td>person</td>\n",
       "    </tr>\n",
       "    <tr>\n",
       "      <th>43</th>\n",
       "      <td>final_testing_dir/2131011793_cbe075cacd.jpg</td>\n",
       "      <td><img src=\"final_testing_dir/2131011793_cbe075cacd.jpg\" style=\"max-height: 300px; max-width: 300px;\" ></img></td>\n",
       "      <td>[2]</td>\n",
       "      <td>person</td>\n",
       "    </tr>\n",
       "    <tr>\n",
       "      <th>44</th>\n",
       "      <td>final_testing_dir/fish3sm.jpg</td>\n",
       "      <td><img src=\"final_testing_dir/fish3sm.jpg\" style=\"max-height: 300px; max-width: 300px;\" ></img></td>\n",
       "      <td>[2]</td>\n",
       "      <td>person</td>\n",
       "    </tr>\n",
       "    <tr>\n",
       "      <th>45</th>\n",
       "      <td>final_testing_dir/374251995_da572aced5.jpg</td>\n",
       "      <td><img src=\"final_testing_dir/374251995_da572aced5.jpg\" style=\"max-height: 300px; max-width: 300px;\" ></img></td>\n",
       "      <td>[3]</td>\n",
       "      <td>urban</td>\n",
       "    </tr>\n",
       "    <tr>\n",
       "      <th>46</th>\n",
       "      <td>final_testing_dir/1333156318_9be86b7d3e.jpg</td>\n",
       "      <td><img src=\"final_testing_dir/1333156318_9be86b7d3e.jpg\" style=\"max-height: 300px; max-width: 300px;\" ></img></td>\n",
       "      <td>[2]</td>\n",
       "      <td>person</td>\n",
       "    </tr>\n",
       "    <tr>\n",
       "      <th>47</th>\n",
       "      <td>final_testing_dir/2181161418_ca883629f2.jpg</td>\n",
       "      <td><img src=\"final_testing_dir/2181161418_ca883629f2.jpg\" style=\"max-height: 300px; max-width: 300px;\" ></img></td>\n",
       "      <td>[3]</td>\n",
       "      <td>urban</td>\n",
       "    </tr>\n",
       "    <tr>\n",
       "      <th>48</th>\n",
       "      <td>final_testing_dir/3084275147_b08b947050.jpg</td>\n",
       "      <td><img src=\"final_testing_dir/3084275147_b08b947050.jpg\" style=\"max-height: 300px; max-width: 300px;\" ></img></td>\n",
       "      <td>[0]</td>\n",
       "      <td>animal</td>\n",
       "    </tr>\n",
       "    <tr>\n",
       "      <th>49</th>\n",
       "      <td>final_testing_dir/4163862240_d2cfbfe32b.jpg</td>\n",
       "      <td><img src=\"final_testing_dir/4163862240_d2cfbfe32b.jpg\" style=\"max-height: 300px; max-width: 300px;\" ></img></td>\n",
       "      <td>[0]</td>\n",
       "      <td>animal</td>\n",
       "    </tr>\n",
       "    <tr>\n",
       "      <th>50</th>\n",
       "      <td>final_testing_dir/10743455_1e367f2207.jpg</td>\n",
       "      <td><img src=\"final_testing_dir/10743455_1e367f2207.jpg\" style=\"max-height: 300px; max-width: 300px;\" ></img></td>\n",
       "      <td>[0]</td>\n",
       "      <td>animal</td>\n",
       "    </tr>\n",
       "    <tr>\n",
       "      <th>51</th>\n",
       "      <td>final_testing_dir/2288526558_fa2259206f.jpg</td>\n",
       "      <td><img src=\"final_testing_dir/2288526558_fa2259206f.jpg\" style=\"max-height: 300px; max-width: 300px;\" ></img></td>\n",
       "      <td>[0]</td>\n",
       "      <td>animal</td>\n",
       "    </tr>\n",
       "    <tr>\n",
       "      <th>52</th>\n",
       "      <td>final_testing_dir/394157001_9020dc062a.jpg</td>\n",
       "      <td><img src=\"final_testing_dir/394157001_9020dc062a.jpg\" style=\"max-height: 300px; max-width: 300px;\" ></img></td>\n",
       "      <td>[2]</td>\n",
       "      <td>person</td>\n",
       "    </tr>\n",
       "    <tr>\n",
       "      <th>53</th>\n",
       "      <td>final_testing_dir/1506348988_0a9852fc91.jpg</td>\n",
       "      <td><img src=\"final_testing_dir/1506348988_0a9852fc91.jpg\" style=\"max-height: 300px; max-width: 300px;\" ></img></td>\n",
       "      <td>[2]</td>\n",
       "      <td>person</td>\n",
       "    </tr>\n",
       "    <tr>\n",
       "      <th>54</th>\n",
       "      <td>final_testing_dir/2085686964_fea1511593.jpg</td>\n",
       "      <td><img src=\"final_testing_dir/2085686964_fea1511593.jpg\" style=\"max-height: 300px; max-width: 300px;\" ></img></td>\n",
       "      <td>[2]</td>\n",
       "      <td>person</td>\n",
       "    </tr>\n",
       "    <tr>\n",
       "      <th>55</th>\n",
       "      <td>final_testing_dir/2849263766_e3e7c507f2.jpg</td>\n",
       "      <td><img src=\"final_testing_dir/2849263766_e3e7c507f2.jpg\" style=\"max-height: 300px; max-width: 300px;\" ></img></td>\n",
       "      <td>[1]</td>\n",
       "      <td>nature</td>\n",
       "    </tr>\n",
       "    <tr>\n",
       "      <th>56</th>\n",
       "      <td>final_testing_dir/1802646444_2ff8f3a030.jpg</td>\n",
       "      <td><img src=\"final_testing_dir/1802646444_2ff8f3a030.jpg\" style=\"max-height: 300px; max-width: 300px;\" ></img></td>\n",
       "      <td>[2]</td>\n",
       "      <td>person</td>\n",
       "    </tr>\n",
       "    <tr>\n",
       "      <th>57</th>\n",
       "      <td>final_testing_dir/938851715_6607b19f62.jpg</td>\n",
       "      <td><img src=\"final_testing_dir/938851715_6607b19f62.jpg\" style=\"max-height: 300px; max-width: 300px;\" ></img></td>\n",
       "      <td>[2]</td>\n",
       "      <td>person</td>\n",
       "    </tr>\n",
       "    <tr>\n",
       "      <th>58</th>\n",
       "      <td>final_testing_dir/2342223314_ddd4a4ed71.jpg</td>\n",
       "      <td><img src=\"final_testing_dir/2342223314_ddd4a4ed71.jpg\" style=\"max-height: 300px; max-width: 300px;\" ></img></td>\n",
       "      <td>[2]</td>\n",
       "      <td>person</td>\n",
       "    </tr>\n",
       "    <tr>\n",
       "      <th>59</th>\n",
       "      <td>final_testing_dir/2127122882_0742e0a7f0.jpg</td>\n",
       "      <td><img src=\"final_testing_dir/2127122882_0742e0a7f0.jpg\" style=\"max-height: 300px; max-width: 300px;\" ></img></td>\n",
       "      <td>[3]</td>\n",
       "      <td>urban</td>\n",
       "    </tr>\n",
       "    <tr>\n",
       "      <th>60</th>\n",
       "      <td>final_testing_dir/2716656721_f4e858d156.jpg</td>\n",
       "      <td><img src=\"final_testing_dir/2716656721_f4e858d156.jpg\" style=\"max-height: 300px; max-width: 300px;\" ></img></td>\n",
       "      <td>[3]</td>\n",
       "      <td>urban</td>\n",
       "    </tr>\n",
       "    <tr>\n",
       "      <th>61</th>\n",
       "      <td>final_testing_dir/2838701529_481c142d0d.jpg</td>\n",
       "      <td><img src=\"final_testing_dir/2838701529_481c142d0d.jpg\" style=\"max-height: 300px; max-width: 300px;\" ></img></td>\n",
       "      <td>[2]</td>\n",
       "      <td>person</td>\n",
       "    </tr>\n",
       "    <tr>\n",
       "      <th>62</th>\n",
       "      <td>final_testing_dir/154695907_154d229833.jpg</td>\n",
       "      <td><img src=\"final_testing_dir/154695907_154d229833.jpg\" style=\"max-height: 300px; max-width: 300px;\" ></img></td>\n",
       "      <td>[2]</td>\n",
       "      <td>person</td>\n",
       "    </tr>\n",
       "    <tr>\n",
       "      <th>63</th>\n",
       "      <td>final_testing_dir/2063429313_75d46b8dcf.jpg</td>\n",
       "      <td><img src=\"final_testing_dir/2063429313_75d46b8dcf.jpg\" style=\"max-height: 300px; max-width: 300px;\" ></img></td>\n",
       "      <td>[3]</td>\n",
       "      <td>urban</td>\n",
       "    </tr>\n",
       "    <tr>\n",
       "      <th>64</th>\n",
       "      <td>final_testing_dir/AustinDowntown.jpg</td>\n",
       "      <td><img src=\"final_testing_dir/AustinDowntown.jpg\" style=\"max-height: 300px; max-width: 300px;\" ></img></td>\n",
       "      <td>[3]</td>\n",
       "      <td>urban</td>\n",
       "    </tr>\n",
       "    <tr>\n",
       "      <th>65</th>\n",
       "      <td>final_testing_dir/456290732_b0a76b4c13.jpg</td>\n",
       "      <td><img src=\"final_testing_dir/456290732_b0a76b4c13.jpg\" style=\"max-height: 300px; max-width: 300px;\" ></img></td>\n",
       "      <td>[3]</td>\n",
       "      <td>urban</td>\n",
       "    </tr>\n",
       "    <tr>\n",
       "      <th>66</th>\n",
       "      <td>final_testing_dir/1361105968_5339738f77.jpg</td>\n",
       "      <td><img src=\"final_testing_dir/1361105968_5339738f77.jpg\" style=\"max-height: 300px; max-width: 300px;\" ></img></td>\n",
       "      <td>[0]</td>\n",
       "      <td>animal</td>\n",
       "    </tr>\n",
       "    <tr>\n",
       "      <th>67</th>\n",
       "      <td>final_testing_dir/2495892362_91d36941fb.jpg</td>\n",
       "      <td><img src=\"final_testing_dir/2495892362_91d36941fb.jpg\" style=\"max-height: 300px; max-width: 300px;\" ></img></td>\n",
       "      <td>[0]</td>\n",
       "      <td>animal</td>\n",
       "    </tr>\n",
       "    <tr>\n",
       "      <th>68</th>\n",
       "      <td>final_testing_dir/2276470514_0b8ca35b47.jpg</td>\n",
       "      <td><img src=\"final_testing_dir/2276470514_0b8ca35b47.jpg\" style=\"max-height: 300px; max-width: 300px;\" ></img></td>\n",
       "      <td>[3]</td>\n",
       "      <td>urban</td>\n",
       "    </tr>\n",
       "    <tr>\n",
       "      <th>69</th>\n",
       "      <td>final_testing_dir/3301208635_bac29432bd.jpg</td>\n",
       "      <td><img src=\"final_testing_dir/3301208635_bac29432bd.jpg\" style=\"max-height: 300px; max-width: 300px;\" ></img></td>\n",
       "      <td>[2]</td>\n",
       "      <td>person</td>\n",
       "    </tr>\n",
       "    <tr>\n",
       "      <th>70</th>\n",
       "      <td>final_testing_dir/2612620696_bcb39c19c7.jpg</td>\n",
       "      <td><img src=\"final_testing_dir/2612620696_bcb39c19c7.jpg\" style=\"max-height: 300px; max-width: 300px;\" ></img></td>\n",
       "      <td>[3]</td>\n",
       "      <td>urban</td>\n",
       "    </tr>\n",
       "    <tr>\n",
       "      <th>71</th>\n",
       "      <td>final_testing_dir/3871167391_bf63b1cc55.jpg</td>\n",
       "      <td><img src=\"final_testing_dir/3871167391_bf63b1cc55.jpg\" style=\"max-height: 300px; max-width: 300px;\" ></img></td>\n",
       "      <td>[2]</td>\n",
       "      <td>person</td>\n",
       "    </tr>\n",
       "    <tr>\n",
       "      <th>72</th>\n",
       "      <td>final_testing_dir/313018635_0748adebbb.jpg</td>\n",
       "      <td><img src=\"final_testing_dir/313018635_0748adebbb.jpg\" style=\"max-height: 300px; max-width: 300px;\" ></img></td>\n",
       "      <td>[2]</td>\n",
       "      <td>person</td>\n",
       "    </tr>\n",
       "    <tr>\n",
       "      <th>73</th>\n",
       "      <td>final_testing_dir/Special-grass.jpg</td>\n",
       "      <td><img src=\"final_testing_dir/Special-grass.jpg\" style=\"max-height: 300px; max-width: 300px;\" ></img></td>\n",
       "      <td>[0]</td>\n",
       "      <td>animal</td>\n",
       "    </tr>\n",
       "    <tr>\n",
       "      <th>74</th>\n",
       "      <td>final_testing_dir/480600577_50daf216e0.jpg</td>\n",
       "      <td><img src=\"final_testing_dir/480600577_50daf216e0.jpg\" style=\"max-height: 300px; max-width: 300px;\" ></img></td>\n",
       "      <td>[2]</td>\n",
       "      <td>person</td>\n",
       "    </tr>\n",
       "    <tr>\n",
       "      <th>75</th>\n",
       "      <td>final_testing_dir/375139071_c2722a6f9d.jpg</td>\n",
       "      <td><img src=\"final_testing_dir/375139071_c2722a6f9d.jpg\" style=\"max-height: 300px; max-width: 300px;\" ></img></td>\n",
       "      <td>[2]</td>\n",
       "      <td>person</td>\n",
       "    </tr>\n",
       "    <tr>\n",
       "      <th>76</th>\n",
       "      <td>final_testing_dir/WA392H.jpg</td>\n",
       "      <td><img src=\"final_testing_dir/WA392H.jpg\" style=\"max-height: 300px; max-width: 300px;\" ></img></td>\n",
       "      <td>[1]</td>\n",
       "      <td>nature</td>\n",
       "    </tr>\n",
       "    <tr>\n",
       "      <th>77</th>\n",
       "      <td>final_testing_dir/2059278062_263000372d.jpg</td>\n",
       "      <td><img src=\"final_testing_dir/2059278062_263000372d.jpg\" style=\"max-height: 300px; max-width: 300px;\" ></img></td>\n",
       "      <td>[2]</td>\n",
       "      <td>person</td>\n",
       "    </tr>\n",
       "    <tr>\n",
       "      <th>78</th>\n",
       "      <td>final_testing_dir/compu.jpg</td>\n",
       "      <td><img src=\"final_testing_dir/compu.jpg\" style=\"max-height: 300px; max-width: 300px;\" ></img></td>\n",
       "      <td>[1]</td>\n",
       "      <td>nature</td>\n",
       "    </tr>\n",
       "    <tr>\n",
       "      <th>79</th>\n",
       "      <td>final_testing_dir/Punta_Cana-Max-spiaggia.jpg</td>\n",
       "      <td><img src=\"final_testing_dir/Punta_Cana-Max-spiaggia.jpg\" style=\"max-height: 300px; max-width: 300px;\" ></img></td>\n",
       "      <td>[2]</td>\n",
       "      <td>person</td>\n",
       "    </tr>\n",
       "    <tr>\n",
       "      <th>80</th>\n",
       "      <td>final_testing_dir/545226688_4c9e318083.jpg</td>\n",
       "      <td><img src=\"final_testing_dir/545226688_4c9e318083.jpg\" style=\"max-height: 300px; max-width: 300px;\" ></img></td>\n",
       "      <td>[2]</td>\n",
       "      <td>person</td>\n",
       "    </tr>\n",
       "    <tr>\n",
       "      <th>81</th>\n",
       "      <td>final_testing_dir/400_F_504399_Wm1B7HDAbPLIEA6l4MJl3M9SuhVRtB.jpg</td>\n",
       "      <td><img src=\"final_testing_dir/400_F_504399_Wm1B7HDAbPLIEA6l4MJl3M9SuhVRtB.jpg\" style=\"max-height: 300px; max-width: 300px;\" ></img></td>\n",
       "      <td>[2]</td>\n",
       "      <td>person</td>\n",
       "    </tr>\n",
       "    <tr>\n",
       "      <th>82</th>\n",
       "      <td>final_testing_dir/3387108993_e1f2707fdb.jpg</td>\n",
       "      <td><img src=\"final_testing_dir/3387108993_e1f2707fdb.jpg\" style=\"max-height: 300px; max-width: 300px;\" ></img></td>\n",
       "      <td>[2]</td>\n",
       "      <td>person</td>\n",
       "    </tr>\n",
       "    <tr>\n",
       "      <th>83</th>\n",
       "      <td>final_testing_dir/2713129636_32bde4736a.jpg</td>\n",
       "      <td><img src=\"final_testing_dir/2713129636_32bde4736a.jpg\" style=\"max-height: 300px; max-width: 300px;\" ></img></td>\n",
       "      <td>[3]</td>\n",
       "      <td>urban</td>\n",
       "    </tr>\n",
       "    <tr>\n",
       "      <th>84</th>\n",
       "      <td>final_testing_dir/507905552_661a063c28.jpg</td>\n",
       "      <td><img src=\"final_testing_dir/507905552_661a063c28.jpg\" style=\"max-height: 300px; max-width: 300px;\" ></img></td>\n",
       "      <td>[3]</td>\n",
       "      <td>urban</td>\n",
       "    </tr>\n",
       "    <tr>\n",
       "      <th>85</th>\n",
       "      <td>final_testing_dir/435374841_063a5a93ee.jpg</td>\n",
       "      <td><img src=\"final_testing_dir/435374841_063a5a93ee.jpg\" style=\"max-height: 300px; max-width: 300px;\" ></img></td>\n",
       "      <td>[2]</td>\n",
       "      <td>person</td>\n",
       "    </tr>\n",
       "    <tr>\n",
       "      <th>86</th>\n",
       "      <td>final_testing_dir/2539536492_87af950106.jpg</td>\n",
       "      <td><img src=\"final_testing_dir/2539536492_87af950106.jpg\" style=\"max-height: 300px; max-width: 300px;\" ></img></td>\n",
       "      <td>[2]</td>\n",
       "      <td>person</td>\n",
       "    </tr>\n",
       "    <tr>\n",
       "      <th>87</th>\n",
       "      <td>final_testing_dir/r173842_657785.jpg</td>\n",
       "      <td><img src=\"final_testing_dir/r173842_657785.jpg\" style=\"max-height: 300px; max-width: 300px;\" ></img></td>\n",
       "      <td>[3]</td>\n",
       "      <td>urban</td>\n",
       "    </tr>\n",
       "    <tr>\n",
       "      <th>88</th>\n",
       "      <td>final_testing_dir/690883918_0a2ebf2d4a.jpg</td>\n",
       "      <td><img src=\"final_testing_dir/690883918_0a2ebf2d4a.jpg\" style=\"max-height: 300px; max-width: 300px;\" ></img></td>\n",
       "      <td>[2]</td>\n",
       "      <td>person</td>\n",
       "    </tr>\n",
       "    <tr>\n",
       "      <th>89</th>\n",
       "      <td>final_testing_dir/1313019302_a15c9444db.jpg</td>\n",
       "      <td><img src=\"final_testing_dir/1313019302_a15c9444db.jpg\" style=\"max-height: 300px; max-width: 300px;\" ></img></td>\n",
       "      <td>[1]</td>\n",
       "      <td>nature</td>\n",
       "    </tr>\n",
       "    <tr>\n",
       "      <th>90</th>\n",
       "      <td>final_testing_dir/3084675589_cd23eb2b31.jpg</td>\n",
       "      <td><img src=\"final_testing_dir/3084675589_cd23eb2b31.jpg\" style=\"max-height: 300px; max-width: 300px;\" ></img></td>\n",
       "      <td>[1]</td>\n",
       "      <td>nature</td>\n",
       "    </tr>\n",
       "    <tr>\n",
       "      <th>91</th>\n",
       "      <td>final_testing_dir/2798189664_fc96a6d573.jpg</td>\n",
       "      <td><img src=\"final_testing_dir/2798189664_fc96a6d573.jpg\" style=\"max-height: 300px; max-width: 300px;\" ></img></td>\n",
       "      <td>[2]</td>\n",
       "      <td>person</td>\n",
       "    </tr>\n",
       "    <tr>\n",
       "      <th>92</th>\n",
       "      <td>final_testing_dir/September20062062.jpg</td>\n",
       "      <td><img src=\"final_testing_dir/September20062062.jpg\" style=\"max-height: 300px; max-width: 300px;\" ></img></td>\n",
       "      <td>[1]</td>\n",
       "      <td>nature</td>\n",
       "    </tr>\n",
       "    <tr>\n",
       "      <th>93</th>\n",
       "      <td>final_testing_dir/2397385742_5a5583b3eb.jpg</td>\n",
       "      <td><img src=\"final_testing_dir/2397385742_5a5583b3eb.jpg\" style=\"max-height: 300px; max-width: 300px;\" ></img></td>\n",
       "      <td>[0]</td>\n",
       "      <td>animal</td>\n",
       "    </tr>\n",
       "    <tr>\n",
       "      <th>94</th>\n",
       "      <td>final_testing_dir/69785789_86a6be82ee.jpg</td>\n",
       "      <td><img src=\"final_testing_dir/69785789_86a6be82ee.jpg\" style=\"max-height: 300px; max-width: 300px;\" ></img></td>\n",
       "      <td>[2]</td>\n",
       "      <td>person</td>\n",
       "    </tr>\n",
       "    <tr>\n",
       "      <th>95</th>\n",
       "      <td>final_testing_dir/FB100_2304.jpg</td>\n",
       "      <td><img src=\"final_testing_dir/FB100_2304.jpg\" style=\"max-height: 300px; max-width: 300px;\" ></img></td>\n",
       "      <td>[2]</td>\n",
       "      <td>person</td>\n",
       "    </tr>\n",
       "    <tr>\n",
       "      <th>96</th>\n",
       "      <td>final_testing_dir/3290549858_8165095f7d.jpg</td>\n",
       "      <td><img src=\"final_testing_dir/3290549858_8165095f7d.jpg\" style=\"max-height: 300px; max-width: 300px;\" ></img></td>\n",
       "      <td>[3]</td>\n",
       "      <td>urban</td>\n",
       "    </tr>\n",
       "    <tr>\n",
       "      <th>97</th>\n",
       "      <td>final_testing_dir/3006589267_5d0f287b6c.jpg</td>\n",
       "      <td><img src=\"final_testing_dir/3006589267_5d0f287b6c.jpg\" style=\"max-height: 300px; max-width: 300px;\" ></img></td>\n",
       "      <td>[1]</td>\n",
       "      <td>nature</td>\n",
       "    </tr>\n",
       "    <tr>\n",
       "      <th>98</th>\n",
       "      <td>final_testing_dir/3539346849_6ee5eedd97.jpg</td>\n",
       "      <td><img src=\"final_testing_dir/3539346849_6ee5eedd97.jpg\" style=\"max-height: 300px; max-width: 300px;\" ></img></td>\n",
       "      <td>[2]</td>\n",
       "      <td>person</td>\n",
       "    </tr>\n",
       "    <tr>\n",
       "      <th>99</th>\n",
       "      <td>final_testing_dir/2303566039_6353e8cb95.jpg</td>\n",
       "      <td><img src=\"final_testing_dir/2303566039_6353e8cb95.jpg\" style=\"max-height: 300px; max-width: 300px;\" ></img></td>\n",
       "      <td>[2]</td>\n",
       "      <td>person</td>\n",
       "    </tr>\n",
       "    <tr>\n",
       "      <th>100</th>\n",
       "      <td>final_testing_dir/3528537632_ffffb5d9c5.jpg</td>\n",
       "      <td><img src=\"final_testing_dir/3528537632_ffffb5d9c5.jpg\" style=\"max-height: 300px; max-width: 300px;\" ></img></td>\n",
       "      <td>[2]</td>\n",
       "      <td>person</td>\n",
       "    </tr>\n",
       "    <tr>\n",
       "      <th>101</th>\n",
       "      <td>final_testing_dir/2890172057_43ed588333.jpg</td>\n",
       "      <td><img src=\"final_testing_dir/2890172057_43ed588333.jpg\" style=\"max-height: 300px; max-width: 300px;\" ></img></td>\n",
       "      <td>[2]</td>\n",
       "      <td>person</td>\n",
       "    </tr>\n",
       "    <tr>\n",
       "      <th>102</th>\n",
       "      <td>final_testing_dir/2959025047_45912faf16.jpg</td>\n",
       "      <td><img src=\"final_testing_dir/2959025047_45912faf16.jpg\" style=\"max-height: 300px; max-width: 300px;\" ></img></td>\n",
       "      <td>[1]</td>\n",
       "      <td>nature</td>\n",
       "    </tr>\n",
       "    <tr>\n",
       "      <th>103</th>\n",
       "      <td>final_testing_dir/2827360974_2b840420d3.jpg</td>\n",
       "      <td><img src=\"final_testing_dir/2827360974_2b840420d3.jpg\" style=\"max-height: 300px; max-width: 300px;\" ></img></td>\n",
       "      <td>[3]</td>\n",
       "      <td>urban</td>\n",
       "    </tr>\n",
       "    <tr>\n",
       "      <th>104</th>\n",
       "      <td>final_testing_dir/2045760017_e797c945d4.jpg</td>\n",
       "      <td><img src=\"final_testing_dir/2045760017_e797c945d4.jpg\" style=\"max-height: 300px; max-width: 300px;\" ></img></td>\n",
       "      <td>[1]</td>\n",
       "      <td>nature</td>\n",
       "    </tr>\n",
       "    <tr>\n",
       "      <th>105</th>\n",
       "      <td>final_testing_dir/4244992606_b6e80d4323.jpg</td>\n",
       "      <td><img src=\"final_testing_dir/4244992606_b6e80d4323.jpg\" style=\"max-height: 300px; max-width: 300px;\" ></img></td>\n",
       "      <td>[2]</td>\n",
       "      <td>person</td>\n",
       "    </tr>\n",
       "    <tr>\n",
       "      <th>106</th>\n",
       "      <td>final_testing_dir/335369825_5a4877d311.jpg</td>\n",
       "      <td><img src=\"final_testing_dir/335369825_5a4877d311.jpg\" style=\"max-height: 300px; max-width: 300px;\" ></img></td>\n",
       "      <td>[2]</td>\n",
       "      <td>person</td>\n",
       "    </tr>\n",
       "    <tr>\n",
       "      <th>107</th>\n",
       "      <td>final_testing_dir/54530504_ee2c919383.jpg</td>\n",
       "      <td><img src=\"final_testing_dir/54530504_ee2c919383.jpg\" style=\"max-height: 300px; max-width: 300px;\" ></img></td>\n",
       "      <td>[1]</td>\n",
       "      <td>nature</td>\n",
       "    </tr>\n",
       "    <tr>\n",
       "      <th>108</th>\n",
       "      <td>final_testing_dir/1394528461_f12733f627.jpg</td>\n",
       "      <td><img src=\"final_testing_dir/1394528461_f12733f627.jpg\" style=\"max-height: 300px; max-width: 300px;\" ></img></td>\n",
       "      <td>[0]</td>\n",
       "      <td>animal</td>\n",
       "    </tr>\n",
       "    <tr>\n",
       "      <th>109</th>\n",
       "      <td>final_testing_dir/3236951594_92d40866b9.jpg</td>\n",
       "      <td><img src=\"final_testing_dir/3236951594_92d40866b9.jpg\" style=\"max-height: 300px; max-width: 300px;\" ></img></td>\n",
       "      <td>[2]</td>\n",
       "      <td>person</td>\n",
       "    </tr>\n",
       "    <tr>\n",
       "      <th>110</th>\n",
       "      <td>final_testing_dir/3190265258_c6f55c0861.jpg</td>\n",
       "      <td><img src=\"final_testing_dir/3190265258_c6f55c0861.jpg\" style=\"max-height: 300px; max-width: 300px;\" ></img></td>\n",
       "      <td>[1]</td>\n",
       "      <td>nature</td>\n",
       "    </tr>\n",
       "    <tr>\n",
       "      <th>111</th>\n",
       "      <td>final_testing_dir/1467748832_7d289a045b.jpg</td>\n",
       "      <td><img src=\"final_testing_dir/1467748832_7d289a045b.jpg\" style=\"max-height: 300px; max-width: 300px;\" ></img></td>\n",
       "      <td>[2]</td>\n",
       "      <td>person</td>\n",
       "    </tr>\n",
       "    <tr>\n",
       "      <th>112</th>\n",
       "      <td>final_testing_dir/palazzo-dei-ciompi.jpg</td>\n",
       "      <td><img src=\"final_testing_dir/palazzo-dei-ciompi.jpg\" style=\"max-height: 300px; max-width: 300px;\" ></img></td>\n",
       "      <td>[3]</td>\n",
       "      <td>urban</td>\n",
       "    </tr>\n",
       "    <tr>\n",
       "      <th>113</th>\n",
       "      <td>final_testing_dir/spiaggia.jpg</td>\n",
       "      <td><img src=\"final_testing_dir/spiaggia.jpg\" style=\"max-height: 300px; max-width: 300px;\" ></img></td>\n",
       "      <td>[1]</td>\n",
       "      <td>nature</td>\n",
       "    </tr>\n",
       "    <tr>\n",
       "      <th>114</th>\n",
       "      <td>final_testing_dir/2971970992_db862836af.jpg</td>\n",
       "      <td><img src=\"final_testing_dir/2971970992_db862836af.jpg\" style=\"max-height: 300px; max-width: 300px;\" ></img></td>\n",
       "      <td>[3]</td>\n",
       "      <td>urban</td>\n",
       "    </tr>\n",
       "    <tr>\n",
       "      <th>115</th>\n",
       "      <td>final_testing_dir/3878236648_39daf0e5fb.jpg</td>\n",
       "      <td><img src=\"final_testing_dir/3878236648_39daf0e5fb.jpg\" style=\"max-height: 300px; max-width: 300px;\" ></img></td>\n",
       "      <td>[2]</td>\n",
       "      <td>person</td>\n",
       "    </tr>\n",
       "    <tr>\n",
       "      <th>116</th>\n",
       "      <td>final_testing_dir/4274298901_e0210ac2c0.jpg</td>\n",
       "      <td><img src=\"final_testing_dir/4274298901_e0210ac2c0.jpg\" style=\"max-height: 300px; max-width: 300px;\" ></img></td>\n",
       "      <td>[2]</td>\n",
       "      <td>person</td>\n",
       "    </tr>\n",
       "    <tr>\n",
       "      <th>117</th>\n",
       "      <td>final_testing_dir/3867041354_e6cb7a8aab.jpg</td>\n",
       "      <td><img src=\"final_testing_dir/3867041354_e6cb7a8aab.jpg\" style=\"max-height: 300px; max-width: 300px;\" ></img></td>\n",
       "      <td>[2]</td>\n",
       "      <td>person</td>\n",
       "    </tr>\n",
       "    <tr>\n",
       "      <th>118</th>\n",
       "      <td>final_testing_dir/1849111187_48a489cb6f.jpg</td>\n",
       "      <td><img src=\"final_testing_dir/1849111187_48a489cb6f.jpg\" style=\"max-height: 300px; max-width: 300px;\" ></img></td>\n",
       "      <td>[2]</td>\n",
       "      <td>person</td>\n",
       "    </tr>\n",
       "    <tr>\n",
       "      <th>119</th>\n",
       "      <td>final_testing_dir/181312243_4926458c08.jpg</td>\n",
       "      <td><img src=\"final_testing_dir/181312243_4926458c08.jpg\" style=\"max-height: 300px; max-width: 300px;\" ></img></td>\n",
       "      <td>[2]</td>\n",
       "      <td>person</td>\n",
       "    </tr>\n",
       "    <tr>\n",
       "      <th>120</th>\n",
       "      <td>final_testing_dir/1385065298_3ba6439a20.jpg</td>\n",
       "      <td><img src=\"final_testing_dir/1385065298_3ba6439a20.jpg\" style=\"max-height: 300px; max-width: 300px;\" ></img></td>\n",
       "      <td>[2]</td>\n",
       "      <td>person</td>\n",
       "    </tr>\n",
       "    <tr>\n",
       "      <th>121</th>\n",
       "      <td>final_testing_dir/1222812014_850215_0000000000_sumario_normal.jpg</td>\n",
       "      <td><img src=\"final_testing_dir/1222812014_850215_0000000000_sumario_normal.jpg\" style=\"max-height: 300px; max-width: 300px;\" ></img></td>\n",
       "      <td>[2]</td>\n",
       "      <td>person</td>\n",
       "    </tr>\n",
       "    <tr>\n",
       "      <th>122</th>\n",
       "      <td>final_testing_dir/741895858_60b89334d7.jpg</td>\n",
       "      <td><img src=\"final_testing_dir/741895858_60b89334d7.jpg\" style=\"max-height: 300px; max-width: 300px;\" ></img></td>\n",
       "      <td>[2]</td>\n",
       "      <td>person</td>\n",
       "    </tr>\n",
       "    <tr>\n",
       "      <th>123</th>\n",
       "      <td>final_testing_dir/alien_big_cat.jpg</td>\n",
       "      <td><img src=\"final_testing_dir/alien_big_cat.jpg\" style=\"max-height: 300px; max-width: 300px;\" ></img></td>\n",
       "      <td>[2]</td>\n",
       "      <td>person</td>\n",
       "    </tr>\n",
       "    <tr>\n",
       "      <th>124</th>\n",
       "      <td>final_testing_dir/Palazzo_della_Ragione.jpg</td>\n",
       "      <td><img src=\"final_testing_dir/Palazzo_della_Ragione.jpg\" style=\"max-height: 300px; max-width: 300px;\" ></img></td>\n",
       "      <td>[2]</td>\n",
       "      <td>person</td>\n",
       "    </tr>\n",
       "    <tr>\n",
       "      <th>125</th>\n",
       "      <td>final_testing_dir/66981750_519207c171.jpg</td>\n",
       "      <td><img src=\"final_testing_dir/66981750_519207c171.jpg\" style=\"max-height: 300px; max-width: 300px;\" ></img></td>\n",
       "      <td>[2]</td>\n",
       "      <td>person</td>\n",
       "    </tr>\n",
       "    <tr>\n",
       "      <th>126</th>\n",
       "      <td>final_testing_dir/prev__1176709681.jpg</td>\n",
       "      <td><img src=\"final_testing_dir/prev__1176709681.jpg\" style=\"max-height: 300px; max-width: 300px;\" ></img></td>\n",
       "      <td>[0]</td>\n",
       "      <td>animal</td>\n",
       "    </tr>\n",
       "    <tr>\n",
       "      <th>127</th>\n",
       "      <td>final_testing_dir/4181369815_84ef2e71b7.jpg</td>\n",
       "      <td><img src=\"final_testing_dir/4181369815_84ef2e71b7.jpg\" style=\"max-height: 300px; max-width: 300px;\" ></img></td>\n",
       "      <td>[3]</td>\n",
       "      <td>urban</td>\n",
       "    </tr>\n",
       "    <tr>\n",
       "      <th>128</th>\n",
       "      <td>final_testing_dir/254542186_92716bc097.jpg</td>\n",
       "      <td><img src=\"final_testing_dir/254542186_92716bc097.jpg\" style=\"max-height: 300px; max-width: 300px;\" ></img></td>\n",
       "      <td>[0]</td>\n",
       "      <td>animal</td>\n",
       "    </tr>\n",
       "    <tr>\n",
       "      <th>129</th>\n",
       "      <td>final_testing_dir/1812492751_42bde8a7d9.jpg</td>\n",
       "      <td><img src=\"final_testing_dir/1812492751_42bde8a7d9.jpg\" style=\"max-height: 300px; max-width: 300px;\" ></img></td>\n",
       "      <td>[0]</td>\n",
       "      <td>animal</td>\n",
       "    </tr>\n",
       "    <tr>\n",
       "      <th>130</th>\n",
       "      <td>final_testing_dir/147381467_c4aba99f97.jpg</td>\n",
       "      <td><img src=\"final_testing_dir/147381467_c4aba99f97.jpg\" style=\"max-height: 300px; max-width: 300px;\" ></img></td>\n",
       "      <td>[3]</td>\n",
       "      <td>urban</td>\n",
       "    </tr>\n",
       "  </tbody>\n",
       "</table>"
      ],
      "text/plain": [
       "<IPython.core.display.HTML object>"
      ]
     },
     "execution_count": 93,
     "metadata": {},
     "output_type": "execute_result"
    }
   ],
   "source": [
    "pd.set_option('max_colwidth', 300)\n",
    "HTML(df.to_html(escape=False))"
   ]
  },
  {
   "cell_type": "code",
   "execution_count": 95,
   "metadata": {},
   "outputs": [
    {
     "data": {
      "text/plain": [
       "person    69\n",
       "urban     29\n",
       "nature    17\n",
       "animal    16\n",
       "Name: predict_name, dtype: int64"
      ]
     },
     "execution_count": 95,
     "metadata": {},
     "output_type": "execute_result"
    }
   ],
   "source": [
    "df['predict_name'].value_counts()"
   ]
  },
  {
   "cell_type": "code",
   "execution_count": null,
   "metadata": {
    "collapsed": true
   },
   "outputs": [],
   "source": [
    "break"
   ]
  },
  {
   "cell_type": "markdown",
   "metadata": {},
   "source": [
    "### Retrain model as needed\n",
    "10 more epochs"
   ]
  },
  {
   "cell_type": "code",
   "execution_count": 83,
   "metadata": {
    "collapsed": true
   },
   "outputs": [],
   "source": [
    "del model"
   ]
  },
  {
   "cell_type": "code",
   "execution_count": 84,
   "metadata": {
    "collapsed": true
   },
   "outputs": [],
   "source": [
    "model = load_model('20180201_final_30epochs.h5')"
   ]
  },
  {
   "cell_type": "code",
   "execution_count": 86,
   "metadata": {},
   "outputs": [
    {
     "name": "stdout",
     "output_type": "stream",
     "text": [
      "Epoch 1/10\n",
      "127/127 [==============================] - 476s 4s/step - loss: 0.8486 - acc: 0.6616 - val_loss: 0.9091 - val_acc: 0.6166\n",
      "Epoch 2/10\n",
      "127/127 [==============================] - 457s 4s/step - loss: 0.8491 - acc: 0.6596 - val_loss: 0.8893 - val_acc: 0.6404\n",
      "Epoch 3/10\n",
      "127/127 [==============================] - 457s 4s/step - loss: 0.8564 - acc: 0.6530 - val_loss: 0.8253 - val_acc: 0.6634\n",
      "Epoch 4/10\n",
      "127/127 [==============================] - 465s 4s/step - loss: 0.8350 - acc: 0.6759 - val_loss: 0.8462 - val_acc: 0.6534\n",
      "Epoch 5/10\n",
      "127/127 [==============================] - 466s 4s/step - loss: 0.8360 - acc: 0.6677 - val_loss: 0.8443 - val_acc: 0.6603\n",
      "Epoch 6/10\n",
      "127/127 [==============================] - 468s 4s/step - loss: 0.8242 - acc: 0.6698 - val_loss: 0.8390 - val_acc: 0.6580\n",
      "Epoch 7/10\n",
      "127/127 [==============================] - 470s 4s/step - loss: 0.8225 - acc: 0.6709 - val_loss: 0.8448 - val_acc: 0.6572\n",
      "Epoch 8/10\n",
      "127/127 [==============================] - 470s 4s/step - loss: 0.8242 - acc: 0.6657 - val_loss: 0.8354 - val_acc: 0.6611\n",
      "Epoch 9/10\n",
      "127/127 [==============================] - 472s 4s/step - loss: 0.8151 - acc: 0.6798 - val_loss: 0.8330 - val_acc: 0.6557\n",
      "Epoch 10/10\n",
      "127/127 [==============================] - 471s 4s/step - loss: 0.8237 - acc: 0.6711 - val_loss: 0.8174 - val_acc: 0.6725\n"
     ]
    },
    {
     "data": {
      "text/plain": [
       "<keras.callbacks.History at 0x1817bc8c90>"
      ]
     },
     "execution_count": 86,
     "metadata": {},
     "output_type": "execute_result"
    }
   ],
   "source": [
    "history = model.fit_generator(\n",
    "    train_generator,\n",
    "    steps_per_epoch=nb_train_samples // batch_size,\n",
    "    epochs=10,\n",
    "    validation_data=validation_generator,\n",
    "    validation_steps=nb_validation_samples // batch_size)"
   ]
  },
  {
   "cell_type": "code",
   "execution_count": 87,
   "metadata": {
    "collapsed": true
   },
   "outputs": [],
   "source": [
    "model.save(str(datetime.date.today()).replace(\"-\",\"\") + '_final_40epochs.h5')"
   ]
  },
  {
   "cell_type": "code",
   "execution_count": null,
   "metadata": {
    "collapsed": true
   },
   "outputs": [],
   "source": []
  }
 ],
 "metadata": {
  "kernelspec": {
   "display_name": "Python 2",
   "language": "python",
   "name": "python2"
  },
  "language_info": {
   "codemirror_mode": {
    "name": "ipython",
    "version": 2
   },
   "file_extension": ".py",
   "mimetype": "text/x-python",
   "name": "python",
   "nbconvert_exporter": "python",
   "pygments_lexer": "ipython2",
   "version": "2.7.14"
  }
 },
 "nbformat": 4,
 "nbformat_minor": 2
}
