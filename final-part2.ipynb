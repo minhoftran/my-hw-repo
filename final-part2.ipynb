{
 "cells": [
  {
   "cell_type": "markdown",
   "metadata": {},
   "source": [
    "# Project Design Writeup and Approval Template\n",
    "\n",
    "Follow this as a guide to completing the project design writeup. The questions for each section are merely there to\n",
    "suggest what the baseline should cover; be sure to use detail as it will make the project much easier to approach as\n",
    "the class moves on."
   ]
  },
  {
   "cell_type": "markdown",
   "metadata": {},
   "source": [
    "## Image/Photography Classification Model"
   ]
  },
  {
   "cell_type": "markdown",
   "metadata": {},
   "source": [
    "### Problem:\n",
    "Take an assorted, unlabelled, disorganized collection of digital photographs and programmatically sort them into the following categories based on subject matter:\n",
    "\n",
    "    • Humans\n",
    "    • Animals\n",
    "    • Cityscapes\n",
    "    • Nature scenes\n",
    "    \n",
    "Based on the nature of the problem, I feel like a logistical regression / classification model would be the best method to tackle the issue.\n",
    "\n",
    "Im choosing a logistical regression (or mutually exclusive) model specifically in this case, despite being aware that the proposed categories can easily overlap, because I intend on simply taking the category with the largest predicted percentage and categorizing it as that--both for the sake of simplicity and my own current programming levels."
   ]
  },
  {
   "cell_type": "markdown",
   "metadata": {},
   "source": [
    "### Datasets:\n",
    "The initial training and test set will come from http://image-net.org/, selectively searching and scraping across various synonyms for the categories:\n",
    "    \n",
    "    • humans, people, person, man, woman, child, crowd, etc\n",
    "    • animals, dogs, cats, birds, etc\n",
    "    • cityscapes, cities, buildings, construction, bridges, streets, etc\n",
    "    • nature, trees, forest, park, grass, autumn, etc\n",
    "\n",
    "The collection of images to run the completed model against will consist of an assortment of personal photographs from myself taken over the years."
   ]
  },
  {
   "cell_type": "markdown",
   "metadata": {},
   "source": [
    "### Domain knowledge:\n",
    "Having worked as an image curator, specifically finding/locating/scraping images and videos for the sake of training machine learning models, I've built up a (very general) intuition on how robusts a dataset needs to be for these sorts of things. More importantly, I know how to poke around and find gaps in coverage plus where to go to find more data to fill those gaps.\n",
    "\n",
    "Ideally, this knowledge would help be quickly source appropriate data, letting me focus on the actual model building process.\n",
    "\n",
    "Other research efforts:\n",
    "    • Step-by-step guide for a model https://elitedatascience.com/keras-tutorial-deep-learning-in-python\n",
    "    • Coworkers brains"
   ]
  },
  {
   "cell_type": "markdown",
   "metadata": {},
   "source": [
    "### Project Concerns:\n",
    "Steps/questions:\n",
    "\n",
    "    • Need to setup Keras\n",
    "    • Need to setup PIL\n",
    "\n",
    "Assumptions:\n",
    "\n",
    "    • Pictures not in the four categories have low predictions and can be dealt with using thresholding.\n",
    "    • Personal image collection mostly consists of the four categories and are from real life images (not graphics).\n",
    "    \n",
    "Risks/Costs:\n",
    "\n",
    "    • Costs: Photos would either not be categorized or be categorized incorrectly. Small loss.\n",
    "    • Benefit: Quickly sort photos into smaller, slightly more useful categories.\n",
    "    • Training/testing data will most likely have incorrect labels or consist of overlapping categories."
   ]
  },
  {
   "cell_type": "markdown",
   "metadata": {},
   "source": [
    "### Outcomes:\n",
    "The output workflow would ideally look like this:\n",
    "\n",
    "    1. Feed images through trained model.\n",
    "    2. Get predictions and filter out the largest one, using a threshold of n%.\n",
    "    3a. If highest prediction doesn't reach n% threshold:\n",
    "        • Move image into an 'Uncategorized' category. (mkdir if needed)\n",
    "    3b. If highest prediction on highest (x) category is above n% threshold:\n",
    "        • Move image into x category. (mkdir if needed)\n",
    "        \n",
    "As the script is running, the images in the target folder should slowly move into one of five new folders:\n",
    "\n",
    "    • Humans\n",
    "    • Animals\n",
    "    • Cityscapes\n",
    "    • Nature scenes\n",
    "    • Uncategorized\n",
    "    \n",
    "### Success metric:\n",
    "If the project correctly categorizes a majority of the images, I will consider this a success. If only some of the images are correctly categorized, but most of the are marked as 'Uncategorized', then I would consider it a minor success that could be further iterated on.\n",
    "\n",
    "If the project fails, then hopefully it's merely a matter of needing more training data."
   ]
  },
  {
   "cell_type": "code",
   "execution_count": null,
   "metadata": {
    "collapsed": true
   },
   "outputs": [],
   "source": []
  }
 ],
 "metadata": {
  "kernelspec": {
   "display_name": "Python 2",
   "language": "python",
   "name": "python2"
  },
  "language_info": {
   "codemirror_mode": {
    "name": "ipython",
    "version": 2
   },
   "file_extension": ".py",
   "mimetype": "text/x-python",
   "name": "python",
   "nbconvert_exporter": "python",
   "pygments_lexer": "ipython2",
   "version": "2.7.14"
  }
 },
 "nbformat": 4,
 "nbformat_minor": 2
}
