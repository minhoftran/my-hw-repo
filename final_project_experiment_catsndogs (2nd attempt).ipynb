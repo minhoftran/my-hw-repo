{
 "cells": [
  {
   "cell_type": "code",
   "execution_count": 1,
   "metadata": {
    "collapsed": true
   },
   "outputs": [],
   "source": [
    "# following along with https://elitedatascience.com/keras-tutorial-deep-learning-in-python (MNIST dataset) -mt\n",
    "# attempting to fit model for cats and dogs kaggle dataset: https://www.kaggle.com/c/dogs-vs-cats -mt"
   ]
  },
  {
   "cell_type": "markdown",
   "metadata": {},
   "source": [
    "### Step 3: Import libraries and modules"
   ]
  },
  {
   "cell_type": "code",
   "execution_count": 2,
   "metadata": {
    "collapsed": true
   },
   "outputs": [],
   "source": [
    "# importing numpy and setting a seed for reproductibility\n",
    "import numpy as np\n",
    "np.random.seed(123) # kinda irrelevant. not really using randomness. -mt\n",
    "\n",
    "import os\n",
    "from tqdm import tqdm\n",
    "import pandas as pd"
   ]
  },
  {
   "cell_type": "code",
   "execution_count": 3,
   "metadata": {},
   "outputs": [
    {
     "name": "stderr",
     "output_type": "stream",
     "text": [
      "Using TensorFlow backend.\n"
     ]
    }
   ],
   "source": [
    "# importing standard keras modules/layers/utilities\n",
    "from keras.models import Sequential, load_model\n",
    "from keras.layers import Dense, Dropout, Activation, Flatten\n",
    "from keras.layers import Convolution2D, MaxPooling2D\n",
    "from keras.utils import np_utils\n",
    "\n",
    "from keras.preprocessing.image import ImageDataGenerator\n",
    "from keras import backend as K"
   ]
  },
  {
   "cell_type": "code",
   "execution_count": 4,
   "metadata": {
    "collapsed": true
   },
   "outputs": [],
   "source": [
    "from keras.preprocessing.image import ImageDataGenerator, array_to_img, img_to_array, load_img"
   ]
  },
  {
   "cell_type": "code",
   "execution_count": 5,
   "metadata": {
    "collapsed": true
   },
   "outputs": [],
   "source": [
    "from matplotlib import pyplot as plt\n",
    "%matplotlib inline"
   ]
  },
  {
   "cell_type": "markdown",
   "metadata": {},
   "source": [
    "#### Second attempt using: https://blog.keras.io/building-powerful-image-classification-models-using-very-little-data.html -mt"
   ]
  },
  {
   "cell_type": "markdown",
   "metadata": {},
   "source": [
    "Directory structure looks like:\n",
    "```\n",
    "catdog_small_training_dir/\n",
    "    train/\n",
    "        dogs/\n",
    "            dog001.jpg\n",
    "            dog002.jpg\n",
    "            ...\n",
    "        cats/\n",
    "            cat001.jpg\n",
    "            cat002.jpg\n",
    "            ...\n",
    "    validation/\n",
    "        dogs/\n",
    "            dog001.jpg\n",
    "            dog002.jpg\n",
    "            ...\n",
    "        cats/\n",
    "            cat001.jpg\n",
    "            cat002.jpg\n",
    "            ...\n",
    "```            "
   ]
  },
  {
   "cell_type": "markdown",
   "metadata": {},
   "source": [
    "### Step 4: Point to images for dataset creation (later)"
   ]
  },
  {
   "cell_type": "code",
   "execution_count": 6,
   "metadata": {
    "collapsed": true
   },
   "outputs": [],
   "source": [
    "# dimensions of our images.\n",
    "img_width, img_height = 250, 250\n",
    "\n",
    "train_data_dir = 'catdog_small_training_dir/train'\n",
    "validation_data_dir = 'catdog_small_training_dir/validation'"
   ]
  },
  {
   "cell_type": "code",
   "execution_count": 7,
   "metadata": {
    "collapsed": true
   },
   "outputs": [],
   "source": [
    "nb_train_samples = 10000\n",
    "nb_validation_samples = 200\n",
    "epochs = 60\n",
    "batch_size = 64"
   ]
  },
  {
   "cell_type": "code",
   "execution_count": 8,
   "metadata": {
    "collapsed": true
   },
   "outputs": [],
   "source": [
    "# reshape array shapes as needed (tensorflow vs theano)\n",
    "if K.image_data_format() == 'channels_first':\n",
    "    input_shape = (3, img_width, img_height)\n",
    "else:\n",
    "    input_shape = (img_width, img_height, 3)"
   ]
  },
  {
   "cell_type": "markdown",
   "metadata": {},
   "source": [
    "### Step 5: Define model"
   ]
  },
  {
   "cell_type": "code",
   "execution_count": 9,
   "metadata": {
    "collapsed": true
   },
   "outputs": [],
   "source": [
    "model = Sequential()\n",
    "model.add(Convolution2D(32, (3, 3), input_shape=input_shape))\n",
    "model.add(Activation('relu'))\n",
    "model.add(MaxPooling2D(pool_size=(2, 2)))\n",
    "\n",
    "model.add(Convolution2D(32, (3, 3)))\n",
    "model.add(Activation('relu'))\n",
    "model.add(MaxPooling2D(pool_size=(2, 2)))\n",
    "\n",
    "model.add(Convolution2D(64, (3, 3)))\n",
    "model.add(Activation('relu'))\n",
    "model.add(MaxPooling2D(pool_size=(2, 2)))\n",
    "\n",
    "model.add(Flatten())\n",
    "model.add(Dense(64))\n",
    "model.add(Activation('relu'))\n",
    "model.add(Dropout(0.5))\n",
    "model.add(Dense(1))\n",
    "model.add(Activation('sigmoid'))"
   ]
  },
  {
   "cell_type": "code",
   "execution_count": 10,
   "metadata": {},
   "outputs": [
    {
     "name": "stdout",
     "output_type": "stream",
     "text": [
      "_________________________________________________________________\n",
      "Layer (type)                 Output Shape              Param #   \n",
      "=================================================================\n",
      "conv2d_1 (Conv2D)            (None, 248, 248, 32)      896       \n",
      "_________________________________________________________________\n",
      "activation_1 (Activation)    (None, 248, 248, 32)      0         \n",
      "_________________________________________________________________\n",
      "max_pooling2d_1 (MaxPooling2 (None, 124, 124, 32)      0         \n",
      "_________________________________________________________________\n",
      "conv2d_2 (Conv2D)            (None, 122, 122, 32)      9248      \n",
      "_________________________________________________________________\n",
      "activation_2 (Activation)    (None, 122, 122, 32)      0         \n",
      "_________________________________________________________________\n",
      "max_pooling2d_2 (MaxPooling2 (None, 61, 61, 32)        0         \n",
      "_________________________________________________________________\n",
      "conv2d_3 (Conv2D)            (None, 59, 59, 64)        18496     \n",
      "_________________________________________________________________\n",
      "activation_3 (Activation)    (None, 59, 59, 64)        0         \n",
      "_________________________________________________________________\n",
      "max_pooling2d_3 (MaxPooling2 (None, 29, 29, 64)        0         \n",
      "_________________________________________________________________\n",
      "flatten_1 (Flatten)          (None, 53824)             0         \n",
      "_________________________________________________________________\n",
      "dense_1 (Dense)              (None, 64)                3444800   \n",
      "_________________________________________________________________\n",
      "activation_4 (Activation)    (None, 64)                0         \n",
      "_________________________________________________________________\n",
      "dropout_1 (Dropout)          (None, 64)                0         \n",
      "_________________________________________________________________\n",
      "dense_2 (Dense)              (None, 1)                 65        \n",
      "_________________________________________________________________\n",
      "activation_5 (Activation)    (None, 1)                 0         \n",
      "=================================================================\n",
      "Total params: 3,473,505\n",
      "Trainable params: 3,473,505\n",
      "Non-trainable params: 0\n",
      "_________________________________________________________________\n"
     ]
    }
   ],
   "source": [
    "model.summary()"
   ]
  },
  {
   "cell_type": "code",
   "execution_count": 11,
   "metadata": {
    "collapsed": true
   },
   "outputs": [],
   "source": [
    "model.compile(loss='binary_crossentropy',\n",
    "              optimizer='rmsprop',\n",
    "              metrics=['accuracy'])"
   ]
  },
  {
   "cell_type": "markdown",
   "metadata": {},
   "source": [
    "### Step 6: Data augmentation"
   ]
  },
  {
   "cell_type": "code",
   "execution_count": 12,
   "metadata": {
    "collapsed": true
   },
   "outputs": [],
   "source": [
    "# this is the augmentation configuration we will use for training\n",
    "train_datagen = ImageDataGenerator(\n",
    "    rotation_range=40,\n",
    "    rescale=1. / 255,\n",
    "    shear_range=0.2,\n",
    "    zoom_range=0.2,\n",
    "    fill_mode='nearest',\n",
    "    horizontal_flip=True)"
   ]
  },
  {
   "cell_type": "code",
   "execution_count": 13,
   "metadata": {
    "collapsed": true
   },
   "outputs": [],
   "source": [
    "# this is the augmentation configuration we will use for testing:\n",
    "# only rescaling\n",
    "test_datagen = ImageDataGenerator(rescale=1. / 255)"
   ]
  },
  {
   "cell_type": "code",
   "execution_count": 14,
   "metadata": {},
   "outputs": [
    {
     "name": "stdout",
     "output_type": "stream",
     "text": [
      "Found 10000 images belonging to 2 classes.\n"
     ]
    }
   ],
   "source": [
    "train_generator = train_datagen.flow_from_directory(\n",
    "    train_data_dir,\n",
    "    target_size=(img_width, img_height),\n",
    "    batch_size=batch_size,\n",
    "    class_mode='binary')"
   ]
  },
  {
   "cell_type": "code",
   "execution_count": 15,
   "metadata": {},
   "outputs": [
    {
     "name": "stdout",
     "output_type": "stream",
     "text": [
      "Found 200 images belonging to 2 classes.\n"
     ]
    }
   ],
   "source": [
    "validation_generator = test_datagen.flow_from_directory(\n",
    "    validation_data_dir,\n",
    "    target_size=(img_width, img_height),\n",
    "    batch_size=batch_size,\n",
    "    class_mode='binary')"
   ]
  },
  {
   "cell_type": "markdown",
   "metadata": {},
   "source": [
    "#### Test data augmentation"
   ]
  },
  {
   "cell_type": "code",
   "execution_count": 16,
   "metadata": {
    "collapsed": true
   },
   "outputs": [],
   "source": [
    "# img = load_img('/Users/minhgeneralassembly/Downloads/kaggle_catsanddogs/small_training_dir/train/cats/cat.0.jpg')  # this is a PIL image\n",
    "# x = img_to_array(img)  # this is a Numpy array with shape (3, 150, 150)\n",
    "# x = x.reshape((1,) + x.shape)  # this is a Numpy array with shape (1, 3, 150, 150)"
   ]
  },
  {
   "cell_type": "code",
   "execution_count": 17,
   "metadata": {
    "collapsed": true
   },
   "outputs": [],
   "source": [
    "# i = 0\n",
    "# for batch in train_datagen.flow(x, batch_size=1,\n",
    "#                           save_to_dir='/Users/minhgeneralassembly/Downloads/kaggle_catsanddogs/preview', save_prefix='cat', save_format='jpeg'):\n",
    "#     i += 1\n",
    "#     if i > 20:\n",
    "#         break  # otherwise the generator would loop indefinitely"
   ]
  },
  {
   "cell_type": "markdown",
   "metadata": {},
   "source": [
    "### Step 7: Fit model"
   ]
  },
  {
   "cell_type": "code",
   "execution_count": 18,
   "metadata": {},
   "outputs": [
    {
     "name": "stdout",
     "output_type": "stream",
     "text": [
      "Epoch 1/60\n",
      "156/156 [==============================] - 1028s 7s/step - loss: 0.7182 - acc: 0.5413 - val_loss: 0.6515 - val_acc: 0.6406\n",
      "Epoch 2/60\n",
      "156/156 [==============================] - 999s 6s/step - loss: 0.6366 - acc: 0.6440 - val_loss: 0.4902 - val_acc: 0.7941\n",
      "Epoch 3/60\n",
      "156/156 [==============================] - 1003s 6s/step - loss: 0.5935 - acc: 0.6899 - val_loss: 0.5389 - val_acc: 0.7941\n",
      "Epoch 4/60\n",
      "156/156 [==============================] - 992s 6s/step - loss: 0.5609 - acc: 0.7147 - val_loss: 0.4783 - val_acc: 0.7426\n",
      "Epoch 5/60\n",
      "156/156 [==============================] - 990s 6s/step - loss: 0.5443 - acc: 0.7348 - val_loss: 0.3795 - val_acc: 0.8438\n",
      "Epoch 6/60\n",
      "156/156 [==============================] - 988s 6s/step - loss: 0.5297 - acc: 0.7408 - val_loss: 0.4224 - val_acc: 0.8235\n",
      "Epoch 7/60\n",
      "156/156 [==============================] - 991s 6s/step - loss: 0.5172 - acc: 0.7490 - val_loss: 0.4576 - val_acc: 0.7794\n",
      "Epoch 8/60\n",
      "156/156 [==============================] - 986s 6s/step - loss: 0.5059 - acc: 0.7627 - val_loss: 0.4486 - val_acc: 0.7794\n",
      "Epoch 9/60\n",
      "156/156 [==============================] - 991s 6s/step - loss: 0.4999 - acc: 0.7653 - val_loss: 0.3382 - val_acc: 0.8594\n",
      "Epoch 10/60\n",
      "156/156 [==============================] - 995s 6s/step - loss: 0.4909 - acc: 0.7704 - val_loss: 0.3233 - val_acc: 0.8603\n",
      "Epoch 11/60\n",
      "156/156 [==============================] - 992s 6s/step - loss: 0.4802 - acc: 0.7767 - val_loss: 0.4333 - val_acc: 0.8162\n",
      "Epoch 12/60\n",
      "156/156 [==============================] - 989s 6s/step - loss: 0.4757 - acc: 0.7808 - val_loss: 0.3764 - val_acc: 0.8603\n",
      "Epoch 13/60\n",
      "156/156 [==============================] - 991s 6s/step - loss: 0.4698 - acc: 0.7841 - val_loss: 0.3283 - val_acc: 0.8385\n",
      "Epoch 14/60\n",
      "156/156 [==============================] - 990s 6s/step - loss: 0.4602 - acc: 0.7906 - val_loss: 0.3608 - val_acc: 0.8382\n",
      "Epoch 15/60\n",
      "156/156 [==============================] - 990s 6s/step - loss: 0.4538 - acc: 0.7938 - val_loss: 0.3359 - val_acc: 0.8824\n",
      "Epoch 16/60\n",
      "156/156 [==============================] - 989s 6s/step - loss: 0.4547 - acc: 0.7961 - val_loss: 0.3896 - val_acc: 0.8603\n",
      "Epoch 17/60\n",
      "156/156 [==============================] - 992s 6s/step - loss: 0.4589 - acc: 0.7900 - val_loss: 0.3218 - val_acc: 0.8906\n",
      "Epoch 18/60\n",
      "156/156 [==============================] - 990s 6s/step - loss: 0.4449 - acc: 0.8020 - val_loss: 0.3522 - val_acc: 0.8750\n",
      "Epoch 19/60\n",
      "156/156 [==============================] - 989s 6s/step - loss: 0.4449 - acc: 0.8055 - val_loss: 0.3790 - val_acc: 0.8529\n",
      "Epoch 20/60\n",
      "156/156 [==============================] - 989s 6s/step - loss: 0.4371 - acc: 0.8060 - val_loss: 0.3002 - val_acc: 0.8456\n",
      "Epoch 21/60\n",
      "156/156 [==============================] - 992s 6s/step - loss: 0.4330 - acc: 0.8095 - val_loss: 0.3334 - val_acc: 0.8698\n",
      "Epoch 22/60\n",
      "156/156 [==============================] - 990s 6s/step - loss: 0.4364 - acc: 0.8088 - val_loss: 0.3740 - val_acc: 0.8676\n",
      "Epoch 23/60\n",
      "156/156 [==============================] - 987s 6s/step - loss: 0.4246 - acc: 0.8165 - val_loss: 0.3562 - val_acc: 0.8529\n",
      "Epoch 24/60\n",
      "156/156 [==============================] - 988s 6s/step - loss: 0.4334 - acc: 0.8051 - val_loss: 0.2527 - val_acc: 0.9044\n",
      "Epoch 25/60\n",
      "156/156 [==============================] - 996s 6s/step - loss: 0.4243 - acc: 0.8136 - val_loss: 0.3054 - val_acc: 0.8802\n",
      "Epoch 26/60\n",
      "156/156 [==============================] - 989s 6s/step - loss: 0.4246 - acc: 0.8136 - val_loss: 0.3262 - val_acc: 0.8676\n",
      "Epoch 27/60\n",
      "156/156 [==============================] - 988s 6s/step - loss: 0.4259 - acc: 0.8152 - val_loss: 0.3081 - val_acc: 0.8750\n",
      "Epoch 28/60\n",
      "156/156 [==============================] - 999s 6s/step - loss: 0.4190 - acc: 0.8160 - val_loss: 0.2914 - val_acc: 0.8971\n",
      "Epoch 29/60\n",
      "156/156 [==============================] - 988s 6s/step - loss: 0.4188 - acc: 0.8203 - val_loss: 0.3564 - val_acc: 0.8594\n",
      "Epoch 30/60\n",
      "156/156 [==============================] - 992s 6s/step - loss: 0.4113 - acc: 0.8232 - val_loss: 0.3486 - val_acc: 0.8750\n",
      "Epoch 31/60\n",
      "156/156 [==============================] - 992s 6s/step - loss: 0.4105 - acc: 0.8224 - val_loss: 0.2293 - val_acc: 0.9191\n",
      "Epoch 32/60\n",
      "156/156 [==============================] - 990s 6s/step - loss: 0.4111 - acc: 0.8205 - val_loss: 0.2881 - val_acc: 0.8971\n",
      "Epoch 33/60\n",
      "156/156 [==============================] - 1000s 6s/step - loss: 0.4023 - acc: 0.8213 - val_loss: 0.3488 - val_acc: 0.8854\n",
      "Epoch 34/60\n",
      "156/156 [==============================] - 999s 6s/step - loss: 0.4006 - acc: 0.8278 - val_loss: 0.4578 - val_acc: 0.8603\n",
      "Epoch 35/60\n",
      "156/156 [==============================] - 990s 6s/step - loss: 0.4025 - acc: 0.8274 - val_loss: 0.2578 - val_acc: 0.8750\n",
      "Epoch 36/60\n",
      "156/156 [==============================] - 994s 6s/step - loss: 0.4019 - acc: 0.8279 - val_loss: 0.3345 - val_acc: 0.8750\n",
      "Epoch 37/60\n",
      "156/156 [==============================] - 988s 6s/step - loss: 0.3945 - acc: 0.8274 - val_loss: 0.3078 - val_acc: 0.8698\n",
      "Epoch 38/60\n",
      "156/156 [==============================] - 988s 6s/step - loss: 0.4024 - acc: 0.8241 - val_loss: 0.2938 - val_acc: 0.8750\n",
      "Epoch 39/60\n",
      "156/156 [==============================] - 989s 6s/step - loss: 0.3931 - acc: 0.8310 - val_loss: 0.3372 - val_acc: 0.8750\n",
      "Epoch 40/60\n",
      "156/156 [==============================] - 998s 6s/step - loss: 0.3932 - acc: 0.8304 - val_loss: 0.3143 - val_acc: 0.9044\n",
      "Epoch 41/60\n",
      "156/156 [==============================] - 996s 6s/step - loss: 0.3927 - acc: 0.8309 - val_loss: 0.3306 - val_acc: 0.8646\n",
      "Epoch 42/60\n",
      "156/156 [==============================] - 991s 6s/step - loss: 0.3971 - acc: 0.8335 - val_loss: 0.3151 - val_acc: 0.8529\n",
      "Epoch 43/60\n",
      "156/156 [==============================] - 992s 6s/step - loss: 0.3958 - acc: 0.8334 - val_loss: 0.3858 - val_acc: 0.8456\n",
      "Epoch 44/60\n",
      "156/156 [==============================] - 991s 6s/step - loss: 0.3822 - acc: 0.8386 - val_loss: 0.3146 - val_acc: 0.9191\n",
      "Epoch 45/60\n",
      "156/156 [==============================] - 989s 6s/step - loss: 0.3864 - acc: 0.8356 - val_loss: 0.3793 - val_acc: 0.8594\n",
      "Epoch 46/60\n",
      "156/156 [==============================] - 990s 6s/step - loss: 0.3870 - acc: 0.8341 - val_loss: 0.2619 - val_acc: 0.8971\n",
      "Epoch 47/60\n",
      "156/156 [==============================] - 983s 6s/step - loss: 0.3847 - acc: 0.8346 - val_loss: 0.3058 - val_acc: 0.8603\n",
      "Epoch 48/60\n",
      "156/156 [==============================] - 995s 6s/step - loss: 0.3823 - acc: 0.8400 - val_loss: 0.3830 - val_acc: 0.8676\n",
      "Epoch 49/60\n",
      "156/156 [==============================] - 988s 6s/step - loss: 0.3952 - acc: 0.8318 - val_loss: 0.3294 - val_acc: 0.8698\n",
      "Epoch 50/60\n",
      "156/156 [==============================] - 1010s 6s/step - loss: 0.3867 - acc: 0.8292 - val_loss: 0.4814 - val_acc: 0.8235\n",
      "Epoch 51/60\n",
      "156/156 [==============================] - 1000s 6s/step - loss: 0.3843 - acc: 0.8410 - val_loss: 0.3877 - val_acc: 0.8603\n",
      "Epoch 52/60\n",
      "156/156 [==============================] - 1018s 7s/step - loss: 0.3878 - acc: 0.8411 - val_loss: 0.2460 - val_acc: 0.9044\n",
      "Epoch 53/60\n",
      "156/156 [==============================] - 993s 6s/step - loss: 0.3884 - acc: 0.8322 - val_loss: 0.3106 - val_acc: 0.9062\n",
      "Epoch 54/60\n",
      "156/156 [==============================] - 997s 6s/step - loss: 0.3804 - acc: 0.8350 - val_loss: 0.2845 - val_acc: 0.9118\n",
      "Epoch 55/60\n",
      "156/156 [==============================] - 989s 6s/step - loss: 0.3777 - acc: 0.8449 - val_loss: 0.3277 - val_acc: 0.8382\n",
      "Epoch 56/60\n",
      "156/156 [==============================] - 989s 6s/step - loss: 0.3772 - acc: 0.8388 - val_loss: 0.3610 - val_acc: 0.8750\n",
      "Epoch 57/60\n",
      "156/156 [==============================] - 992s 6s/step - loss: 0.3792 - acc: 0.8374 - val_loss: 0.3265 - val_acc: 0.8854\n",
      "Epoch 58/60\n",
      "156/156 [==============================] - 990s 6s/step - loss: 0.3762 - acc: 0.8428 - val_loss: 0.3730 - val_acc: 0.8603\n",
      "Epoch 59/60\n",
      "156/156 [==============================] - 990s 6s/step - loss: 0.3822 - acc: 0.8373 - val_loss: 0.2262 - val_acc: 0.9191\n",
      "Epoch 60/60\n",
      "156/156 [==============================] - 995s 6s/step - loss: 0.3691 - acc: 0.8449 - val_loss: 0.3788 - val_acc: 0.9044\n"
     ]
    }
   ],
   "source": [
    "history = model.fit_generator(\n",
    "    train_generator,\n",
    "    steps_per_epoch=nb_train_samples // batch_size,\n",
    "    epochs=epochs,\n",
    "    validation_data=validation_generator,\n",
    "    validation_steps=nb_validation_samples // batch_size)"
   ]
  },
  {
   "cell_type": "markdown",
   "metadata": {},
   "source": [
    "### Step 7.5: Save model"
   ]
  },
  {
   "cell_type": "code",
   "execution_count": 19,
   "metadata": {
    "collapsed": true
   },
   "outputs": [],
   "source": [
    "import datetime"
   ]
  },
  {
   "cell_type": "code",
   "execution_count": 20,
   "metadata": {
    "collapsed": true
   },
   "outputs": [],
   "source": [
    "model.save('catsndogs_' + str(datetime.date.today()).replace(\"-\",\"\") + '.h5')"
   ]
  },
  {
   "cell_type": "markdown",
   "metadata": {},
   "source": [
    "### Step 7.9: Reload model (if needed)"
   ]
  },
  {
   "cell_type": "code",
   "execution_count": 21,
   "metadata": {
    "collapsed": true
   },
   "outputs": [],
   "source": [
    "# model = load_model('catsndogs.h5')"
   ]
  },
  {
   "cell_type": "markdown",
   "metadata": {},
   "source": [
    "### Step 8: Evaluate model"
   ]
  },
  {
   "cell_type": "code",
   "execution_count": 22,
   "metadata": {},
   "outputs": [
    {
     "name": "stdout",
     "output_type": "stream",
     "text": [
      "['acc', 'loss', 'val_acc', 'val_loss']\n"
     ]
    }
   ],
   "source": [
    "print(history.history.keys())"
   ]
  },
  {
   "cell_type": "code",
   "execution_count": 23,
   "metadata": {},
   "outputs": [
    {
     "data": {
      "image/png": "[encoded data removed]",
      "text/plain": [
       "<matplotlib.figure.Figure at 0x1812bddf50>"
      ]
     },
     "metadata": {},
     "output_type": "display_data"
    }
   ],
   "source": [
    "plt.plot(history.history['loss'])\n",
    "plt.plot(history.history['val_loss'])\n",
    "plt.title('model loss')\n",
    "plt.ylabel('loss')\n",
    "plt.xlabel('epoch')\n",
    "plt.legend(['train', 'validation'], loc='upper left')\n",
    "plt.show()"
   ]
  },
  {
   "cell_type": "code",
   "execution_count": 24,
   "metadata": {},
   "outputs": [
    {
     "data": {
      "image/png": "[encoded data removed]",
      "text/plain": [
       "<matplotlib.figure.Figure at 0x1826e9d9d0>"
      ]
     },
     "metadata": {},
     "output_type": "display_data"
    }
   ],
   "source": [
    "plt.plot(history.history['acc'])\n",
    "plt.plot(history.history['val_acc'])\n",
    "plt.title('model acc')\n",
    "plt.ylabel('acc')\n",
    "plt.xlabel('epoch')\n",
    "plt.legend(['train', 'validation'], loc='upper left')\n",
    "plt.show()"
   ]
  },
  {
   "cell_type": "code",
   "execution_count": null,
   "metadata": {
    "collapsed": true
   },
   "outputs": [],
   "source": []
  },
  {
   "cell_type": "code",
   "execution_count": null,
   "metadata": {
    "collapsed": true
   },
   "outputs": [],
   "source": [
    "break"
   ]
  },
  {
   "cell_type": "markdown",
   "metadata": {},
   "source": [
    "To do:\n",
    "\n",
    "• tinker with pipelines (see lesson 18)\n",
    "\n",
    "• figure out a way to display images with their predicted class (see lesson 17)"
   ]
  },
  {
   "cell_type": "markdown",
   "metadata": {},
   "source": [
    "### Step 10: Compare test images vs predicted classes"
   ]
  },
  {
   "cell_type": "code",
   "execution_count": 25,
   "metadata": {
    "collapsed": true
   },
   "outputs": [],
   "source": [
    "def cropResizeImages(img):\n",
    "    width, height = img.size\n",
    "\n",
    "    if width > height:\n",
    "        left = (width - height)/2\n",
    "        top = (height - height)/2\n",
    "        right = (width + height)/2\n",
    "        bottom = (height + height)/2\n",
    "        \n",
    "        img = img.crop((left, top, right, bottom))\n",
    "        img = img.resize([img_width,img_height])\n",
    "    \n",
    "    elif height > width:\n",
    "        left = (width - width)/2\n",
    "        top = (height - width)/2\n",
    "        right = (width + width)/2\n",
    "        bottom = (height + width)/2\n",
    "        \n",
    "        img = img.crop((left, top, right, bottom))\n",
    "        img = img.resize([img_width,img_height])\n",
    "        \n",
    "    return img"
   ]
  },
  {
   "cell_type": "code",
   "execution_count": 26,
   "metadata": {
    "collapsed": true
   },
   "outputs": [],
   "source": [
    "# taken from lesson 17 + tinkering. -mt"
   ]
  },
  {
   "cell_type": "code",
   "execution_count": 27,
   "metadata": {
    "collapsed": true
   },
   "outputs": [],
   "source": [
    "test_img_dir = \"catdog_small_testing_dir/\" # actual testing directory\n",
    "\n",
    "test_images = [test_img_dir + f for f in os.listdir(test_img_dir) if f.endswith('.jpg')]"
   ]
  },
  {
   "cell_type": "code",
   "execution_count": 28,
   "metadata": {},
   "outputs": [
    {
     "data": {
      "text/plain": [
       "'catdog_small_testing_dir/63.jpg'"
      ]
     },
     "execution_count": 28,
     "metadata": {},
     "output_type": "execute_result"
    }
   ],
   "source": [
    "test_images[0]"
   ]
  },
  {
   "cell_type": "code",
   "execution_count": 29,
   "metadata": {},
   "outputs": [
    {
     "name": "stderr",
     "output_type": "stream",
     "text": [
      "100%|██████████| 100/100 [00:00<00:00, 193.29it/s]\n"
     ]
    }
   ],
   "source": [
    "test_data = []\n",
    "\n",
    "for test_image in tqdm(test_images):\n",
    "    img = load_img(test_image)\n",
    "    img = cropResizeImages(img)\n",
    "    img = np.array(img)\n",
    "    test_data.append(img)"
   ]
  },
  {
   "cell_type": "code",
   "execution_count": 30,
   "metadata": {
    "collapsed": true
   },
   "outputs": [],
   "source": [
    "df = pd.DataFrame(test_images, columns=['image_name'])"
   ]
  },
  {
   "cell_type": "code",
   "execution_count": 31,
   "metadata": {},
   "outputs": [
    {
     "data": {
      "text/html": [
       "<div>\n",
       "<style>\n",
       "    .dataframe thead tr:only-child th {\n",
       "        text-align: right;\n",
       "    }\n",
       "\n",
       "    .dataframe thead th {\n",
       "        text-align: left;\n",
       "    }\n",
       "\n",
       "    .dataframe tbody tr th {\n",
       "        vertical-align: top;\n",
       "    }\n",
       "</style>\n",
       "<table border=\"1\" class=\"dataframe\">\n",
       "  <thead>\n",
       "    <tr style=\"text-align: right;\">\n",
       "      <th></th>\n",
       "      <th>image_name</th>\n",
       "    </tr>\n",
       "  </thead>\n",
       "  <tbody>\n",
       "    <tr>\n",
       "      <th>0</th>\n",
       "      <td>catdog_small_testing_dir/63.jpg</td>\n",
       "    </tr>\n",
       "    <tr>\n",
       "      <th>1</th>\n",
       "      <td>catdog_small_testing_dir/77.jpg</td>\n",
       "    </tr>\n",
       "    <tr>\n",
       "      <th>2</th>\n",
       "      <td>catdog_small_testing_dir/88.jpg</td>\n",
       "    </tr>\n",
       "    <tr>\n",
       "      <th>3</th>\n",
       "      <td>catdog_small_testing_dir/89.jpg</td>\n",
       "    </tr>\n",
       "    <tr>\n",
       "      <th>4</th>\n",
       "      <td>catdog_small_testing_dir/76.jpg</td>\n",
       "    </tr>\n",
       "  </tbody>\n",
       "</table>\n",
       "</div>"
      ],
      "text/plain": [
       "                        image_name\n",
       "0  catdog_small_testing_dir/63.jpg\n",
       "1  catdog_small_testing_dir/77.jpg\n",
       "2  catdog_small_testing_dir/88.jpg\n",
       "3  catdog_small_testing_dir/89.jpg\n",
       "4  catdog_small_testing_dir/76.jpg"
      ]
     },
     "execution_count": 31,
     "metadata": {},
     "output_type": "execute_result"
    }
   ],
   "source": [
    "df.head()"
   ]
  },
  {
   "cell_type": "code",
   "execution_count": 32,
   "metadata": {
    "collapsed": true
   },
   "outputs": [],
   "source": [
    "df['image'] = df['image_name'].map(lambda x: '<img src=\"{}\" style=\"max-height: 300px; max-width: 300px;\" ></img>'.format(x) )"
   ]
  },
  {
   "cell_type": "code",
   "execution_count": 33,
   "metadata": {},
   "outputs": [
    {
     "data": {
      "text/html": [
       "<div>\n",
       "<style>\n",
       "    .dataframe thead tr:only-child th {\n",
       "        text-align: right;\n",
       "    }\n",
       "\n",
       "    .dataframe thead th {\n",
       "        text-align: left;\n",
       "    }\n",
       "\n",
       "    .dataframe tbody tr th {\n",
       "        vertical-align: top;\n",
       "    }\n",
       "</style>\n",
       "<table border=\"1\" class=\"dataframe\">\n",
       "  <thead>\n",
       "    <tr style=\"text-align: right;\">\n",
       "      <th></th>\n",
       "      <th>image_name</th>\n",
       "      <th>image</th>\n",
       "    </tr>\n",
       "  </thead>\n",
       "  <tbody>\n",
       "    <tr>\n",
       "      <th>0</th>\n",
       "      <td>catdog_small_testing_dir/63.jpg</td>\n",
       "      <td>&lt;img src=\"catdog_small_testing_dir/63.jpg\" sty...</td>\n",
       "    </tr>\n",
       "    <tr>\n",
       "      <th>1</th>\n",
       "      <td>catdog_small_testing_dir/77.jpg</td>\n",
       "      <td>&lt;img src=\"catdog_small_testing_dir/77.jpg\" sty...</td>\n",
       "    </tr>\n",
       "    <tr>\n",
       "      <th>2</th>\n",
       "      <td>catdog_small_testing_dir/88.jpg</td>\n",
       "      <td>&lt;img src=\"catdog_small_testing_dir/88.jpg\" sty...</td>\n",
       "    </tr>\n",
       "    <tr>\n",
       "      <th>3</th>\n",
       "      <td>catdog_small_testing_dir/89.jpg</td>\n",
       "      <td>&lt;img src=\"catdog_small_testing_dir/89.jpg\" sty...</td>\n",
       "    </tr>\n",
       "    <tr>\n",
       "      <th>4</th>\n",
       "      <td>catdog_small_testing_dir/76.jpg</td>\n",
       "      <td>&lt;img src=\"catdog_small_testing_dir/76.jpg\" sty...</td>\n",
       "    </tr>\n",
       "  </tbody>\n",
       "</table>\n",
       "</div>"
      ],
      "text/plain": [
       "                        image_name  \\\n",
       "0  catdog_small_testing_dir/63.jpg   \n",
       "1  catdog_small_testing_dir/77.jpg   \n",
       "2  catdog_small_testing_dir/88.jpg   \n",
       "3  catdog_small_testing_dir/89.jpg   \n",
       "4  catdog_small_testing_dir/76.jpg   \n",
       "\n",
       "                                               image  \n",
       "0  <img src=\"catdog_small_testing_dir/63.jpg\" sty...  \n",
       "1  <img src=\"catdog_small_testing_dir/77.jpg\" sty...  \n",
       "2  <img src=\"catdog_small_testing_dir/88.jpg\" sty...  \n",
       "3  <img src=\"catdog_small_testing_dir/89.jpg\" sty...  \n",
       "4  <img src=\"catdog_small_testing_dir/76.jpg\" sty...  "
      ]
     },
     "execution_count": 33,
     "metadata": {},
     "output_type": "execute_result"
    }
   ],
   "source": [
    "df.head()"
   ]
  },
  {
   "cell_type": "code",
   "execution_count": 34,
   "metadata": {},
   "outputs": [
    {
     "name": "stderr",
     "output_type": "stream",
     "text": [
      "100it [00:04, 24.82it/s]\n"
     ]
    }
   ],
   "source": [
    "df['predict_class'] = ''\n",
    "\n",
    "for i,each in tqdm(df.iterrows()):\n",
    "    each['predict_class'] = model.predict_classes(test_data[i][np.newaxis, :, :, :])"
   ]
  },
  {
   "cell_type": "code",
   "execution_count": 35,
   "metadata": {},
   "outputs": [
    {
     "data": {
      "text/html": [
       "<div>\n",
       "<style>\n",
       "    .dataframe thead tr:only-child th {\n",
       "        text-align: right;\n",
       "    }\n",
       "\n",
       "    .dataframe thead th {\n",
       "        text-align: left;\n",
       "    }\n",
       "\n",
       "    .dataframe tbody tr th {\n",
       "        vertical-align: top;\n",
       "    }\n",
       "</style>\n",
       "<table border=\"1\" class=\"dataframe\">\n",
       "  <thead>\n",
       "    <tr style=\"text-align: right;\">\n",
       "      <th></th>\n",
       "      <th>image_name</th>\n",
       "      <th>image</th>\n",
       "      <th>predict_class</th>\n",
       "    </tr>\n",
       "  </thead>\n",
       "  <tbody>\n",
       "    <tr>\n",
       "      <th>0</th>\n",
       "      <td>catdog_small_testing_dir/63.jpg</td>\n",
       "      <td>&lt;img src=\"catdog_small_testing_dir/63.jpg\" sty...</td>\n",
       "      <td>[[1]]</td>\n",
       "    </tr>\n",
       "    <tr>\n",
       "      <th>1</th>\n",
       "      <td>catdog_small_testing_dir/77.jpg</td>\n",
       "      <td>&lt;img src=\"catdog_small_testing_dir/77.jpg\" sty...</td>\n",
       "      <td>[[1]]</td>\n",
       "    </tr>\n",
       "    <tr>\n",
       "      <th>2</th>\n",
       "      <td>catdog_small_testing_dir/88.jpg</td>\n",
       "      <td>&lt;img src=\"catdog_small_testing_dir/88.jpg\" sty...</td>\n",
       "      <td>[[0]]</td>\n",
       "    </tr>\n",
       "    <tr>\n",
       "      <th>3</th>\n",
       "      <td>catdog_small_testing_dir/89.jpg</td>\n",
       "      <td>&lt;img src=\"catdog_small_testing_dir/89.jpg\" sty...</td>\n",
       "      <td>[[0]]</td>\n",
       "    </tr>\n",
       "    <tr>\n",
       "      <th>4</th>\n",
       "      <td>catdog_small_testing_dir/76.jpg</td>\n",
       "      <td>&lt;img src=\"catdog_small_testing_dir/76.jpg\" sty...</td>\n",
       "      <td>[[1]]</td>\n",
       "    </tr>\n",
       "  </tbody>\n",
       "</table>\n",
       "</div>"
      ],
      "text/plain": [
       "                        image_name  \\\n",
       "0  catdog_small_testing_dir/63.jpg   \n",
       "1  catdog_small_testing_dir/77.jpg   \n",
       "2  catdog_small_testing_dir/88.jpg   \n",
       "3  catdog_small_testing_dir/89.jpg   \n",
       "4  catdog_small_testing_dir/76.jpg   \n",
       "\n",
       "                                               image predict_class  \n",
       "0  <img src=\"catdog_small_testing_dir/63.jpg\" sty...         [[1]]  \n",
       "1  <img src=\"catdog_small_testing_dir/77.jpg\" sty...         [[1]]  \n",
       "2  <img src=\"catdog_small_testing_dir/88.jpg\" sty...         [[0]]  \n",
       "3  <img src=\"catdog_small_testing_dir/89.jpg\" sty...         [[0]]  \n",
       "4  <img src=\"catdog_small_testing_dir/76.jpg\" sty...         [[1]]  "
      ]
     },
     "execution_count": 35,
     "metadata": {},
     "output_type": "execute_result"
    }
   ],
   "source": [
    "df.head()"
   ]
  },
  {
   "cell_type": "code",
   "execution_count": 36,
   "metadata": {
    "collapsed": true
   },
   "outputs": [],
   "source": [
    "from IPython.display import HTML"
   ]
  },
  {
   "cell_type": "code",
   "execution_count": 37,
   "metadata": {
    "scrolled": false
   },
   "outputs": [
    {
     "data": {
      "text/html": [
       "<table border=\"1\" class=\"dataframe\">\n",
       "  <thead>\n",
       "    <tr style=\"text-align: right;\">\n",
       "      <th></th>\n",
       "      <th>image_name</th>\n",
       "      <th>image</th>\n",
       "      <th>predict_class</th>\n",
       "    </tr>\n",
       "  </thead>\n",
       "  <tbody>\n",
       "    <tr>\n",
       "      <th>0</th>\n",
       "      <td>catdog_small_testing_dir/63.jpg</td>\n",
       "      <td><img src=\"catdog_small_testing_dir/63.jpg\" style=\"max-height: 300px; max-width: 300px;\" ></img></td>\n",
       "      <td>[[1]]</td>\n",
       "    </tr>\n",
       "    <tr>\n",
       "      <th>1</th>\n",
       "      <td>catdog_small_testing_dir/77.jpg</td>\n",
       "      <td><img src=\"catdog_small_testing_dir/77.jpg\" style=\"max-height: 300px; max-width: 300px;\" ></img></td>\n",
       "      <td>[[1]]</td>\n",
       "    </tr>\n",
       "    <tr>\n",
       "      <th>2</th>\n",
       "      <td>catdog_small_testing_dir/88.jpg</td>\n",
       "      <td><img src=\"catdog_small_testing_dir/88.jpg\" style=\"max-height: 300px; max-width: 300px;\" ></img></td>\n",
       "      <td>[[0]]</td>\n",
       "    </tr>\n",
       "    <tr>\n",
       "      <th>3</th>\n",
       "      <td>catdog_small_testing_dir/89.jpg</td>\n",
       "      <td><img src=\"catdog_small_testing_dir/89.jpg\" style=\"max-height: 300px; max-width: 300px;\" ></img></td>\n",
       "      <td>[[0]]</td>\n",
       "    </tr>\n",
       "    <tr>\n",
       "      <th>4</th>\n",
       "      <td>catdog_small_testing_dir/76.jpg</td>\n",
       "      <td><img src=\"catdog_small_testing_dir/76.jpg\" style=\"max-height: 300px; max-width: 300px;\" ></img></td>\n",
       "      <td>[[1]]</td>\n",
       "    </tr>\n",
       "    <tr>\n",
       "      <th>5</th>\n",
       "      <td>catdog_small_testing_dir/62.jpg</td>\n",
       "      <td><img src=\"catdog_small_testing_dir/62.jpg\" style=\"max-height: 300px; max-width: 300px;\" ></img></td>\n",
       "      <td>[[0]]</td>\n",
       "    </tr>\n",
       "    <tr>\n",
       "      <th>6</th>\n",
       "      <td>catdog_small_testing_dir/74.jpg</td>\n",
       "      <td><img src=\"catdog_small_testing_dir/74.jpg\" style=\"max-height: 300px; max-width: 300px;\" ></img></td>\n",
       "      <td>[[1]]</td>\n",
       "    </tr>\n",
       "    <tr>\n",
       "      <th>7</th>\n",
       "      <td>catdog_small_testing_dir/60.jpg</td>\n",
       "      <td><img src=\"catdog_small_testing_dir/60.jpg\" style=\"max-height: 300px; max-width: 300px;\" ></img></td>\n",
       "      <td>[[0]]</td>\n",
       "    </tr>\n",
       "    <tr>\n",
       "      <th>8</th>\n",
       "      <td>catdog_small_testing_dir/48.jpg</td>\n",
       "      <td><img src=\"catdog_small_testing_dir/48.jpg\" style=\"max-height: 300px; max-width: 300px;\" ></img></td>\n",
       "      <td>[[1]]</td>\n",
       "    </tr>\n",
       "    <tr>\n",
       "      <th>9</th>\n",
       "      <td>catdog_small_testing_dir/49.jpg</td>\n",
       "      <td><img src=\"catdog_small_testing_dir/49.jpg\" style=\"max-height: 300px; max-width: 300px;\" ></img></td>\n",
       "      <td>[[1]]</td>\n",
       "    </tr>\n",
       "    <tr>\n",
       "      <th>10</th>\n",
       "      <td>catdog_small_testing_dir/61.jpg</td>\n",
       "      <td><img src=\"catdog_small_testing_dir/61.jpg\" style=\"max-height: 300px; max-width: 300px;\" ></img></td>\n",
       "      <td>[[0]]</td>\n",
       "    </tr>\n",
       "    <tr>\n",
       "      <th>11</th>\n",
       "      <td>catdog_small_testing_dir/75.jpg</td>\n",
       "      <td><img src=\"catdog_small_testing_dir/75.jpg\" style=\"max-height: 300px; max-width: 300px;\" ></img></td>\n",
       "      <td>[[1]]</td>\n",
       "    </tr>\n",
       "    <tr>\n",
       "      <th>12</th>\n",
       "      <td>catdog_small_testing_dir/59.jpg</td>\n",
       "      <td><img src=\"catdog_small_testing_dir/59.jpg\" style=\"max-height: 300px; max-width: 300px;\" ></img></td>\n",
       "      <td>[[1]]</td>\n",
       "    </tr>\n",
       "    <tr>\n",
       "      <th>13</th>\n",
       "      <td>catdog_small_testing_dir/71.jpg</td>\n",
       "      <td><img src=\"catdog_small_testing_dir/71.jpg\" style=\"max-height: 300px; max-width: 300px;\" ></img></td>\n",
       "      <td>[[0]]</td>\n",
       "    </tr>\n",
       "    <tr>\n",
       "      <th>14</th>\n",
       "      <td>catdog_small_testing_dir/65.jpg</td>\n",
       "      <td><img src=\"catdog_small_testing_dir/65.jpg\" style=\"max-height: 300px; max-width: 300px;\" ></img></td>\n",
       "      <td>[[1]]</td>\n",
       "    </tr>\n",
       "    <tr>\n",
       "      <th>15</th>\n",
       "      <td>catdog_small_testing_dir/64.jpg</td>\n",
       "      <td><img src=\"catdog_small_testing_dir/64.jpg\" style=\"max-height: 300px; max-width: 300px;\" ></img></td>\n",
       "      <td>[[1]]</td>\n",
       "    </tr>\n",
       "    <tr>\n",
       "      <th>16</th>\n",
       "      <td>catdog_small_testing_dir/70.jpg</td>\n",
       "      <td><img src=\"catdog_small_testing_dir/70.jpg\" style=\"max-height: 300px; max-width: 300px;\" ></img></td>\n",
       "      <td>[[1]]</td>\n",
       "    </tr>\n",
       "    <tr>\n",
       "      <th>17</th>\n",
       "      <td>catdog_small_testing_dir/58.jpg</td>\n",
       "      <td><img src=\"catdog_small_testing_dir/58.jpg\" style=\"max-height: 300px; max-width: 300px;\" ></img></td>\n",
       "      <td>[[0]]</td>\n",
       "    </tr>\n",
       "    <tr>\n",
       "      <th>18</th>\n",
       "      <td>catdog_small_testing_dir/8.jpg</td>\n",
       "      <td><img src=\"catdog_small_testing_dir/8.jpg\" style=\"max-height: 300px; max-width: 300px;\" ></img></td>\n",
       "      <td>[[0]]</td>\n",
       "    </tr>\n",
       "    <tr>\n",
       "      <th>19</th>\n",
       "      <td>catdog_small_testing_dir/66.jpg</td>\n",
       "      <td><img src=\"catdog_small_testing_dir/66.jpg\" style=\"max-height: 300px; max-width: 300px;\" ></img></td>\n",
       "      <td>[[1]]</td>\n",
       "    </tr>\n",
       "    <tr>\n",
       "      <th>20</th>\n",
       "      <td>catdog_small_testing_dir/72.jpg</td>\n",
       "      <td><img src=\"catdog_small_testing_dir/72.jpg\" style=\"max-height: 300px; max-width: 300px;\" ></img></td>\n",
       "      <td>[[1]]</td>\n",
       "    </tr>\n",
       "    <tr>\n",
       "      <th>21</th>\n",
       "      <td>catdog_small_testing_dir/99.jpg</td>\n",
       "      <td><img src=\"catdog_small_testing_dir/99.jpg\" style=\"max-height: 300px; max-width: 300px;\" ></img></td>\n",
       "      <td>[[0]]</td>\n",
       "    </tr>\n",
       "    <tr>\n",
       "      <th>22</th>\n",
       "      <td>catdog_small_testing_dir/98.jpg</td>\n",
       "      <td><img src=\"catdog_small_testing_dir/98.jpg\" style=\"max-height: 300px; max-width: 300px;\" ></img></td>\n",
       "      <td>[[1]]</td>\n",
       "    </tr>\n",
       "    <tr>\n",
       "      <th>23</th>\n",
       "      <td>catdog_small_testing_dir/73.jpg</td>\n",
       "      <td><img src=\"catdog_small_testing_dir/73.jpg\" style=\"max-height: 300px; max-width: 300px;\" ></img></td>\n",
       "      <td>[[1]]</td>\n",
       "    </tr>\n",
       "    <tr>\n",
       "      <th>24</th>\n",
       "      <td>catdog_small_testing_dir/67.jpg</td>\n",
       "      <td><img src=\"catdog_small_testing_dir/67.jpg\" style=\"max-height: 300px; max-width: 300px;\" ></img></td>\n",
       "      <td>[[1]]</td>\n",
       "    </tr>\n",
       "    <tr>\n",
       "      <th>25</th>\n",
       "      <td>catdog_small_testing_dir/9.jpg</td>\n",
       "      <td><img src=\"catdog_small_testing_dir/9.jpg\" style=\"max-height: 300px; max-width: 300px;\" ></img></td>\n",
       "      <td>[[1]]</td>\n",
       "    </tr>\n",
       "    <tr>\n",
       "      <th>26</th>\n",
       "      <td>catdog_small_testing_dir/14.jpg</td>\n",
       "      <td><img src=\"catdog_small_testing_dir/14.jpg\" style=\"max-height: 300px; max-width: 300px;\" ></img></td>\n",
       "      <td>[[0]]</td>\n",
       "    </tr>\n",
       "    <tr>\n",
       "      <th>27</th>\n",
       "      <td>catdog_small_testing_dir/28.jpg</td>\n",
       "      <td><img src=\"catdog_small_testing_dir/28.jpg\" style=\"max-height: 300px; max-width: 300px;\" ></img></td>\n",
       "      <td>[[0]]</td>\n",
       "    </tr>\n",
       "    <tr>\n",
       "      <th>28</th>\n",
       "      <td>catdog_small_testing_dir/100.jpg</td>\n",
       "      <td><img src=\"catdog_small_testing_dir/100.jpg\" style=\"max-height: 300px; max-width: 300px;\" ></img></td>\n",
       "      <td>[[1]]</td>\n",
       "    </tr>\n",
       "    <tr>\n",
       "      <th>29</th>\n",
       "      <td>catdog_small_testing_dir/29.jpg</td>\n",
       "      <td><img src=\"catdog_small_testing_dir/29.jpg\" style=\"max-height: 300px; max-width: 300px;\" ></img></td>\n",
       "      <td>[[1]]</td>\n",
       "    </tr>\n",
       "    <tr>\n",
       "      <th>30</th>\n",
       "      <td>catdog_small_testing_dir/15.jpg</td>\n",
       "      <td><img src=\"catdog_small_testing_dir/15.jpg\" style=\"max-height: 300px; max-width: 300px;\" ></img></td>\n",
       "      <td>[[0]]</td>\n",
       "    </tr>\n",
       "    <tr>\n",
       "      <th>31</th>\n",
       "      <td>catdog_small_testing_dir/17.jpg</td>\n",
       "      <td><img src=\"catdog_small_testing_dir/17.jpg\" style=\"max-height: 300px; max-width: 300px;\" ></img></td>\n",
       "      <td>[[1]]</td>\n",
       "    </tr>\n",
       "    <tr>\n",
       "      <th>32</th>\n",
       "      <td>catdog_small_testing_dir/16.jpg</td>\n",
       "      <td><img src=\"catdog_small_testing_dir/16.jpg\" style=\"max-height: 300px; max-width: 300px;\" ></img></td>\n",
       "      <td>[[0]]</td>\n",
       "    </tr>\n",
       "    <tr>\n",
       "      <th>33</th>\n",
       "      <td>catdog_small_testing_dir/12.jpg</td>\n",
       "      <td><img src=\"catdog_small_testing_dir/12.jpg\" style=\"max-height: 300px; max-width: 300px;\" ></img></td>\n",
       "      <td>[[1]]</td>\n",
       "    </tr>\n",
       "    <tr>\n",
       "      <th>34</th>\n",
       "      <td>catdog_small_testing_dir/13.jpg</td>\n",
       "      <td><img src=\"catdog_small_testing_dir/13.jpg\" style=\"max-height: 300px; max-width: 300px;\" ></img></td>\n",
       "      <td>[[1]]</td>\n",
       "    </tr>\n",
       "    <tr>\n",
       "      <th>35</th>\n",
       "      <td>catdog_small_testing_dir/39.jpg</td>\n",
       "      <td><img src=\"catdog_small_testing_dir/39.jpg\" style=\"max-height: 300px; max-width: 300px;\" ></img></td>\n",
       "      <td>[[1]]</td>\n",
       "    </tr>\n",
       "    <tr>\n",
       "      <th>36</th>\n",
       "      <td>catdog_small_testing_dir/11.jpg</td>\n",
       "      <td><img src=\"catdog_small_testing_dir/11.jpg\" style=\"max-height: 300px; max-width: 300px;\" ></img></td>\n",
       "      <td>[[0]]</td>\n",
       "    </tr>\n",
       "    <tr>\n",
       "      <th>37</th>\n",
       "      <td>catdog_small_testing_dir/10.jpg</td>\n",
       "      <td><img src=\"catdog_small_testing_dir/10.jpg\" style=\"max-height: 300px; max-width: 300px;\" ></img></td>\n",
       "      <td>[[0]]</td>\n",
       "    </tr>\n",
       "    <tr>\n",
       "      <th>38</th>\n",
       "      <td>catdog_small_testing_dir/38.jpg</td>\n",
       "      <td><img src=\"catdog_small_testing_dir/38.jpg\" style=\"max-height: 300px; max-width: 300px;\" ></img></td>\n",
       "      <td>[[0]]</td>\n",
       "    </tr>\n",
       "    <tr>\n",
       "      <th>39</th>\n",
       "      <td>catdog_small_testing_dir/21.jpg</td>\n",
       "      <td><img src=\"catdog_small_testing_dir/21.jpg\" style=\"max-height: 300px; max-width: 300px;\" ></img></td>\n",
       "      <td>[[1]]</td>\n",
       "    </tr>\n",
       "    <tr>\n",
       "      <th>40</th>\n",
       "      <td>catdog_small_testing_dir/35.jpg</td>\n",
       "      <td><img src=\"catdog_small_testing_dir/35.jpg\" style=\"max-height: 300px; max-width: 300px;\" ></img></td>\n",
       "      <td>[[0]]</td>\n",
       "    </tr>\n",
       "    <tr>\n",
       "      <th>41</th>\n",
       "      <td>catdog_small_testing_dir/34.jpg</td>\n",
       "      <td><img src=\"catdog_small_testing_dir/34.jpg\" style=\"max-height: 300px; max-width: 300px;\" ></img></td>\n",
       "      <td>[[0]]</td>\n",
       "    </tr>\n",
       "    <tr>\n",
       "      <th>42</th>\n",
       "      <td>catdog_small_testing_dir/20.jpg</td>\n",
       "      <td><img src=\"catdog_small_testing_dir/20.jpg\" style=\"max-height: 300px; max-width: 300px;\" ></img></td>\n",
       "      <td>[[0]]</td>\n",
       "    </tr>\n",
       "    <tr>\n",
       "      <th>43</th>\n",
       "      <td>catdog_small_testing_dir/36.jpg</td>\n",
       "      <td><img src=\"catdog_small_testing_dir/36.jpg\" style=\"max-height: 300px; max-width: 300px;\" ></img></td>\n",
       "      <td>[[0]]</td>\n",
       "    </tr>\n",
       "    <tr>\n",
       "      <th>44</th>\n",
       "      <td>catdog_small_testing_dir/22.jpg</td>\n",
       "      <td><img src=\"catdog_small_testing_dir/22.jpg\" style=\"max-height: 300px; max-width: 300px;\" ></img></td>\n",
       "      <td>[[1]]</td>\n",
       "    </tr>\n",
       "    <tr>\n",
       "      <th>45</th>\n",
       "      <td>catdog_small_testing_dir/23.jpg</td>\n",
       "      <td><img src=\"catdog_small_testing_dir/23.jpg\" style=\"max-height: 300px; max-width: 300px;\" ></img></td>\n",
       "      <td>[[1]]</td>\n",
       "    </tr>\n",
       "    <tr>\n",
       "      <th>46</th>\n",
       "      <td>catdog_small_testing_dir/37.jpg</td>\n",
       "      <td><img src=\"catdog_small_testing_dir/37.jpg\" style=\"max-height: 300px; max-width: 300px;\" ></img></td>\n",
       "      <td>[[0]]</td>\n",
       "    </tr>\n",
       "    <tr>\n",
       "      <th>47</th>\n",
       "      <td>catdog_small_testing_dir/33.jpg</td>\n",
       "      <td><img src=\"catdog_small_testing_dir/33.jpg\" style=\"max-height: 300px; max-width: 300px;\" ></img></td>\n",
       "      <td>[[1]]</td>\n",
       "    </tr>\n",
       "    <tr>\n",
       "      <th>48</th>\n",
       "      <td>catdog_small_testing_dir/27.jpg</td>\n",
       "      <td><img src=\"catdog_small_testing_dir/27.jpg\" style=\"max-height: 300px; max-width: 300px;\" ></img></td>\n",
       "      <td>[[1]]</td>\n",
       "    </tr>\n",
       "    <tr>\n",
       "      <th>49</th>\n",
       "      <td>catdog_small_testing_dir/26.jpg</td>\n",
       "      <td><img src=\"catdog_small_testing_dir/26.jpg\" style=\"max-height: 300px; max-width: 300px;\" ></img></td>\n",
       "      <td>[[1]]</td>\n",
       "    </tr>\n",
       "    <tr>\n",
       "      <th>50</th>\n",
       "      <td>catdog_small_testing_dir/32.jpg</td>\n",
       "      <td><img src=\"catdog_small_testing_dir/32.jpg\" style=\"max-height: 300px; max-width: 300px;\" ></img></td>\n",
       "      <td>[[0]]</td>\n",
       "    </tr>\n",
       "    <tr>\n",
       "      <th>51</th>\n",
       "      <td>catdog_small_testing_dir/18.jpg</td>\n",
       "      <td><img src=\"catdog_small_testing_dir/18.jpg\" style=\"max-height: 300px; max-width: 300px;\" ></img></td>\n",
       "      <td>[[1]]</td>\n",
       "    </tr>\n",
       "    <tr>\n",
       "      <th>52</th>\n",
       "      <td>catdog_small_testing_dir/24.jpg</td>\n",
       "      <td><img src=\"catdog_small_testing_dir/24.jpg\" style=\"max-height: 300px; max-width: 300px;\" ></img></td>\n",
       "      <td>[[1]]</td>\n",
       "    </tr>\n",
       "    <tr>\n",
       "      <th>53</th>\n",
       "      <td>catdog_small_testing_dir/30.jpg</td>\n",
       "      <td><img src=\"catdog_small_testing_dir/30.jpg\" style=\"max-height: 300px; max-width: 300px;\" ></img></td>\n",
       "      <td>[[1]]</td>\n",
       "    </tr>\n",
       "    <tr>\n",
       "      <th>54</th>\n",
       "      <td>catdog_small_testing_dir/31.jpg</td>\n",
       "      <td><img src=\"catdog_small_testing_dir/31.jpg\" style=\"max-height: 300px; max-width: 300px;\" ></img></td>\n",
       "      <td>[[0]]</td>\n",
       "    </tr>\n",
       "    <tr>\n",
       "      <th>55</th>\n",
       "      <td>catdog_small_testing_dir/25.jpg</td>\n",
       "      <td><img src=\"catdog_small_testing_dir/25.jpg\" style=\"max-height: 300px; max-width: 300px;\" ></img></td>\n",
       "      <td>[[1]]</td>\n",
       "    </tr>\n",
       "    <tr>\n",
       "      <th>56</th>\n",
       "      <td>catdog_small_testing_dir/19.jpg</td>\n",
       "      <td><img src=\"catdog_small_testing_dir/19.jpg\" style=\"max-height: 300px; max-width: 300px;\" ></img></td>\n",
       "      <td>[[0]]</td>\n",
       "    </tr>\n",
       "    <tr>\n",
       "      <th>57</th>\n",
       "      <td>catdog_small_testing_dir/42.jpg</td>\n",
       "      <td><img src=\"catdog_small_testing_dir/42.jpg\" style=\"max-height: 300px; max-width: 300px;\" ></img></td>\n",
       "      <td>[[1]]</td>\n",
       "    </tr>\n",
       "    <tr>\n",
       "      <th>58</th>\n",
       "      <td>catdog_small_testing_dir/4.jpg</td>\n",
       "      <td><img src=\"catdog_small_testing_dir/4.jpg\" style=\"max-height: 300px; max-width: 300px;\" ></img></td>\n",
       "      <td>[[1]]</td>\n",
       "    </tr>\n",
       "    <tr>\n",
       "      <th>59</th>\n",
       "      <td>catdog_small_testing_dir/56.jpg</td>\n",
       "      <td><img src=\"catdog_small_testing_dir/56.jpg\" style=\"max-height: 300px; max-width: 300px;\" ></img></td>\n",
       "      <td>[[1]]</td>\n",
       "    </tr>\n",
       "    <tr>\n",
       "      <th>60</th>\n",
       "      <td>catdog_small_testing_dir/81.jpg</td>\n",
       "      <td><img src=\"catdog_small_testing_dir/81.jpg\" style=\"max-height: 300px; max-width: 300px;\" ></img></td>\n",
       "      <td>[[0]]</td>\n",
       "    </tr>\n",
       "    <tr>\n",
       "      <th>61</th>\n",
       "      <td>catdog_small_testing_dir/95.jpg</td>\n",
       "      <td><img src=\"catdog_small_testing_dir/95.jpg\" style=\"max-height: 300px; max-width: 300px;\" ></img></td>\n",
       "      <td>[[1]]</td>\n",
       "    </tr>\n",
       "    <tr>\n",
       "      <th>62</th>\n",
       "      <td>catdog_small_testing_dir/94.jpg</td>\n",
       "      <td><img src=\"catdog_small_testing_dir/94.jpg\" style=\"max-height: 300px; max-width: 300px;\" ></img></td>\n",
       "      <td>[[1]]</td>\n",
       "    </tr>\n",
       "    <tr>\n",
       "      <th>63</th>\n",
       "      <td>catdog_small_testing_dir/80.jpg</td>\n",
       "      <td><img src=\"catdog_small_testing_dir/80.jpg\" style=\"max-height: 300px; max-width: 300px;\" ></img></td>\n",
       "      <td>[[0]]</td>\n",
       "    </tr>\n",
       "    <tr>\n",
       "      <th>64</th>\n",
       "      <td>catdog_small_testing_dir/5.jpg</td>\n",
       "      <td><img src=\"catdog_small_testing_dir/5.jpg\" style=\"max-height: 300px; max-width: 300px;\" ></img></td>\n",
       "      <td>[[0]]</td>\n",
       "    </tr>\n",
       "    <tr>\n",
       "      <th>65</th>\n",
       "      <td>catdog_small_testing_dir/57.jpg</td>\n",
       "      <td><img src=\"catdog_small_testing_dir/57.jpg\" style=\"max-height: 300px; max-width: 300px;\" ></img></td>\n",
       "      <td>[[1]]</td>\n",
       "    </tr>\n",
       "    <tr>\n",
       "      <th>66</th>\n",
       "      <td>catdog_small_testing_dir/43.jpg</td>\n",
       "      <td><img src=\"catdog_small_testing_dir/43.jpg\" style=\"max-height: 300px; max-width: 300px;\" ></img></td>\n",
       "      <td>[[1]]</td>\n",
       "    </tr>\n",
       "    <tr>\n",
       "      <th>67</th>\n",
       "      <td>catdog_small_testing_dir/55.jpg</td>\n",
       "      <td><img src=\"catdog_small_testing_dir/55.jpg\" style=\"max-height: 300px; max-width: 300px;\" ></img></td>\n",
       "      <td>[[0]]</td>\n",
       "    </tr>\n",
       "    <tr>\n",
       "      <th>68</th>\n",
       "      <td>catdog_small_testing_dir/7.jpg</td>\n",
       "      <td><img src=\"catdog_small_testing_dir/7.jpg\" style=\"max-height: 300px; max-width: 300px;\" ></img></td>\n",
       "      <td>[[0]]</td>\n",
       "    </tr>\n",
       "    <tr>\n",
       "      <th>69</th>\n",
       "      <td>catdog_small_testing_dir/41.jpg</td>\n",
       "      <td><img src=\"catdog_small_testing_dir/41.jpg\" style=\"max-height: 300px; max-width: 300px;\" ></img></td>\n",
       "      <td>[[0]]</td>\n",
       "    </tr>\n",
       "    <tr>\n",
       "      <th>70</th>\n",
       "      <td>catdog_small_testing_dir/69.jpg</td>\n",
       "      <td><img src=\"catdog_small_testing_dir/69.jpg\" style=\"max-height: 300px; max-width: 300px;\" ></img></td>\n",
       "      <td>[[1]]</td>\n",
       "    </tr>\n",
       "    <tr>\n",
       "      <th>71</th>\n",
       "      <td>catdog_small_testing_dir/96.jpg</td>\n",
       "      <td><img src=\"catdog_small_testing_dir/96.jpg\" style=\"max-height: 300px; max-width: 300px;\" ></img></td>\n",
       "      <td>[[1]]</td>\n",
       "    </tr>\n",
       "    <tr>\n",
       "      <th>72</th>\n",
       "      <td>catdog_small_testing_dir/82.jpg</td>\n",
       "      <td><img src=\"catdog_small_testing_dir/82.jpg\" style=\"max-height: 300px; max-width: 300px;\" ></img></td>\n",
       "      <td>[[0]]</td>\n",
       "    </tr>\n",
       "    <tr>\n",
       "      <th>73</th>\n",
       "      <td>catdog_small_testing_dir/83.jpg</td>\n",
       "      <td><img src=\"catdog_small_testing_dir/83.jpg\" style=\"max-height: 300px; max-width: 300px;\" ></img></td>\n",
       "      <td>[[1]]</td>\n",
       "    </tr>\n",
       "    <tr>\n",
       "      <th>74</th>\n",
       "      <td>catdog_small_testing_dir/97.jpg</td>\n",
       "      <td><img src=\"catdog_small_testing_dir/97.jpg\" style=\"max-height: 300px; max-width: 300px;\" ></img></td>\n",
       "      <td>[[1]]</td>\n",
       "    </tr>\n",
       "    <tr>\n",
       "      <th>75</th>\n",
       "      <td>catdog_small_testing_dir/68.jpg</td>\n",
       "      <td><img src=\"catdog_small_testing_dir/68.jpg\" style=\"max-height: 300px; max-width: 300px;\" ></img></td>\n",
       "      <td>[[0]]</td>\n",
       "    </tr>\n",
       "    <tr>\n",
       "      <th>76</th>\n",
       "      <td>catdog_small_testing_dir/40.jpg</td>\n",
       "      <td><img src=\"catdog_small_testing_dir/40.jpg\" style=\"max-height: 300px; max-width: 300px;\" ></img></td>\n",
       "      <td>[[0]]</td>\n",
       "    </tr>\n",
       "    <tr>\n",
       "      <th>77</th>\n",
       "      <td>catdog_small_testing_dir/54.jpg</td>\n",
       "      <td><img src=\"catdog_small_testing_dir/54.jpg\" style=\"max-height: 300px; max-width: 300px;\" ></img></td>\n",
       "      <td>[[0]]</td>\n",
       "    </tr>\n",
       "    <tr>\n",
       "      <th>78</th>\n",
       "      <td>catdog_small_testing_dir/6.jpg</td>\n",
       "      <td><img src=\"catdog_small_testing_dir/6.jpg\" style=\"max-height: 300px; max-width: 300px;\" ></img></td>\n",
       "      <td>[[0]]</td>\n",
       "    </tr>\n",
       "    <tr>\n",
       "      <th>79</th>\n",
       "      <td>catdog_small_testing_dir/78.jpg</td>\n",
       "      <td><img src=\"catdog_small_testing_dir/78.jpg\" style=\"max-height: 300px; max-width: 300px;\" ></img></td>\n",
       "      <td>[[1]]</td>\n",
       "    </tr>\n",
       "    <tr>\n",
       "      <th>80</th>\n",
       "      <td>catdog_small_testing_dir/2.jpg</td>\n",
       "      <td><img src=\"catdog_small_testing_dir/2.jpg\" style=\"max-height: 300px; max-width: 300px;\" ></img></td>\n",
       "      <td>[[1]]</td>\n",
       "    </tr>\n",
       "    <tr>\n",
       "      <th>81</th>\n",
       "      <td>catdog_small_testing_dir/50.jpg</td>\n",
       "      <td><img src=\"catdog_small_testing_dir/50.jpg\" style=\"max-height: 300px; max-width: 300px;\" ></img></td>\n",
       "      <td>[[1]]</td>\n",
       "    </tr>\n",
       "    <tr>\n",
       "      <th>82</th>\n",
       "      <td>catdog_small_testing_dir/44.jpg</td>\n",
       "      <td><img src=\"catdog_small_testing_dir/44.jpg\" style=\"max-height: 300px; max-width: 300px;\" ></img></td>\n",
       "      <td>[[1]]</td>\n",
       "    </tr>\n",
       "    <tr>\n",
       "      <th>83</th>\n",
       "      <td>catdog_small_testing_dir/93.jpg</td>\n",
       "      <td><img src=\"catdog_small_testing_dir/93.jpg\" style=\"max-height: 300px; max-width: 300px;\" ></img></td>\n",
       "      <td>[[0]]</td>\n",
       "    </tr>\n",
       "    <tr>\n",
       "      <th>84</th>\n",
       "      <td>catdog_small_testing_dir/87.jpg</td>\n",
       "      <td><img src=\"catdog_small_testing_dir/87.jpg\" style=\"max-height: 300px; max-width: 300px;\" ></img></td>\n",
       "      <td>[[0]]</td>\n",
       "    </tr>\n",
       "    <tr>\n",
       "      <th>85</th>\n",
       "      <td>catdog_small_testing_dir/86.jpg</td>\n",
       "      <td><img src=\"catdog_small_testing_dir/86.jpg\" style=\"max-height: 300px; max-width: 300px;\" ></img></td>\n",
       "      <td>[[0]]</td>\n",
       "    </tr>\n",
       "    <tr>\n",
       "      <th>86</th>\n",
       "      <td>catdog_small_testing_dir/92.jpg</td>\n",
       "      <td><img src=\"catdog_small_testing_dir/92.jpg\" style=\"max-height: 300px; max-width: 300px;\" ></img></td>\n",
       "      <td>[[1]]</td>\n",
       "    </tr>\n",
       "    <tr>\n",
       "      <th>87</th>\n",
       "      <td>catdog_small_testing_dir/45.jpg</td>\n",
       "      <td><img src=\"catdog_small_testing_dir/45.jpg\" style=\"max-height: 300px; max-width: 300px;\" ></img></td>\n",
       "      <td>[[0]]</td>\n",
       "    </tr>\n",
       "    <tr>\n",
       "      <th>88</th>\n",
       "      <td>catdog_small_testing_dir/3.jpg</td>\n",
       "      <td><img src=\"catdog_small_testing_dir/3.jpg\" style=\"max-height: 300px; max-width: 300px;\" ></img></td>\n",
       "      <td>[[0]]</td>\n",
       "    </tr>\n",
       "    <tr>\n",
       "      <th>89</th>\n",
       "      <td>catdog_small_testing_dir/51.jpg</td>\n",
       "      <td><img src=\"catdog_small_testing_dir/51.jpg\" style=\"max-height: 300px; max-width: 300px;\" ></img></td>\n",
       "      <td>[[1]]</td>\n",
       "    </tr>\n",
       "    <tr>\n",
       "      <th>90</th>\n",
       "      <td>catdog_small_testing_dir/79.jpg</td>\n",
       "      <td><img src=\"catdog_small_testing_dir/79.jpg\" style=\"max-height: 300px; max-width: 300px;\" ></img></td>\n",
       "      <td>[[1]]</td>\n",
       "    </tr>\n",
       "    <tr>\n",
       "      <th>91</th>\n",
       "      <td>catdog_small_testing_dir/47.jpg</td>\n",
       "      <td><img src=\"catdog_small_testing_dir/47.jpg\" style=\"max-height: 300px; max-width: 300px;\" ></img></td>\n",
       "      <td>[[0]]</td>\n",
       "    </tr>\n",
       "    <tr>\n",
       "      <th>92</th>\n",
       "      <td>catdog_small_testing_dir/53.jpg</td>\n",
       "      <td><img src=\"catdog_small_testing_dir/53.jpg\" style=\"max-height: 300px; max-width: 300px;\" ></img></td>\n",
       "      <td>[[0]]</td>\n",
       "    </tr>\n",
       "    <tr>\n",
       "      <th>93</th>\n",
       "      <td>catdog_small_testing_dir/1.jpg</td>\n",
       "      <td><img src=\"catdog_small_testing_dir/1.jpg\" style=\"max-height: 300px; max-width: 300px;\" ></img></td>\n",
       "      <td>[[1]]</td>\n",
       "    </tr>\n",
       "    <tr>\n",
       "      <th>94</th>\n",
       "      <td>catdog_small_testing_dir/84.jpg</td>\n",
       "      <td><img src=\"catdog_small_testing_dir/84.jpg\" style=\"max-height: 300px; max-width: 300px;\" ></img></td>\n",
       "      <td>[[0]]</td>\n",
       "    </tr>\n",
       "    <tr>\n",
       "      <th>95</th>\n",
       "      <td>catdog_small_testing_dir/90.jpg</td>\n",
       "      <td><img src=\"catdog_small_testing_dir/90.jpg\" style=\"max-height: 300px; max-width: 300px;\" ></img></td>\n",
       "      <td>[[0]]</td>\n",
       "    </tr>\n",
       "    <tr>\n",
       "      <th>96</th>\n",
       "      <td>catdog_small_testing_dir/91.jpg</td>\n",
       "      <td><img src=\"catdog_small_testing_dir/91.jpg\" style=\"max-height: 300px; max-width: 300px;\" ></img></td>\n",
       "      <td>[[1]]</td>\n",
       "    </tr>\n",
       "    <tr>\n",
       "      <th>97</th>\n",
       "      <td>catdog_small_testing_dir/85.jpg</td>\n",
       "      <td><img src=\"catdog_small_testing_dir/85.jpg\" style=\"max-height: 300px; max-width: 300px;\" ></img></td>\n",
       "      <td>[[1]]</td>\n",
       "    </tr>\n",
       "    <tr>\n",
       "      <th>98</th>\n",
       "      <td>catdog_small_testing_dir/52.jpg</td>\n",
       "      <td><img src=\"catdog_small_testing_dir/52.jpg\" style=\"max-height: 300px; max-width: 300px;\" ></img></td>\n",
       "      <td>[[0]]</td>\n",
       "    </tr>\n",
       "    <tr>\n",
       "      <th>99</th>\n",
       "      <td>catdog_small_testing_dir/46.jpg</td>\n",
       "      <td><img src=\"catdog_small_testing_dir/46.jpg\" style=\"max-height: 300px; max-width: 300px;\" ></img></td>\n",
       "      <td>[[1]]</td>\n",
       "    </tr>\n",
       "  </tbody>\n",
       "</table>"
      ],
      "text/plain": [
       "<IPython.core.display.HTML object>"
      ]
     },
     "execution_count": 37,
     "metadata": {},
     "output_type": "execute_result"
    }
   ],
   "source": [
    "pd.set_option('max_colwidth', 300)\n",
    "HTML(df.to_html(escape=False))"
   ]
  },
  {
   "cell_type": "code",
   "execution_count": null,
   "metadata": {
    "collapsed": true
   },
   "outputs": [],
   "source": []
  },
  {
   "cell_type": "code",
   "execution_count": null,
   "metadata": {
    "collapsed": true
   },
   "outputs": [],
   "source": []
  },
  {
   "cell_type": "code",
   "execution_count": null,
   "metadata": {
    "collapsed": true
   },
   "outputs": [],
   "source": []
  },
  {
   "cell_type": "code",
   "execution_count": null,
   "metadata": {
    "collapsed": true
   },
   "outputs": [],
   "source": [
    "break"
   ]
  },
  {
   "cell_type": "markdown",
   "metadata": {},
   "source": [
    "### Step 10: Test things"
   ]
  },
  {
   "cell_type": "code",
   "execution_count": null,
   "metadata": {
    "collapsed": true
   },
   "outputs": [],
   "source": [
    "def cropResizeImages(img):\n",
    "    width, height = img.size\n",
    "\n",
    "    if width > height:\n",
    "        left = (width - height)/2\n",
    "        top = (height - height)/2\n",
    "        right = (width + height)/2\n",
    "        bottom = (height + height)/2\n",
    "        \n",
    "        img = img.crop((left, top, right, bottom))\n",
    "        img = img.resize([img_width,img_height])\n",
    "    \n",
    "    elif height > width:\n",
    "        left = (width - width)/2\n",
    "        top = (height - width)/2\n",
    "        right = (width + width)/2\n",
    "        bottom = (height + width)/2\n",
    "        \n",
    "        img = img.crop((left, top, right, bottom))\n",
    "        img = img.resize([img_width,img_height])\n",
    "        \n",
    "    return img"
   ]
  },
  {
   "cell_type": "code",
   "execution_count": null,
   "metadata": {
    "collapsed": true
   },
   "outputs": [],
   "source": [
    "# test_img = \"/Users/minhgeneralassembly/Downloads/kaggle_catsanddogs/small_testing_dir/11.jpg\" # cat\n",
    "# test_img = \"/Users/minhgeneralassembly/Downloads/kaggle_catsanddogs/small_testing_dir/27.jpg\" # dog\n",
    "# test_img = \"/Users/minhgeneralassembly/Downloads/kaggle_catsanddogs/small_testing_dir/82.jpg\" # cat\n",
    "test_img = \"/Users/minhgeneralassembly/Downloads/kaggle_catsanddogs/small_training_dir/train/cats/cat.100.jpg\" #cat, training\n",
    "# test_img = \"/Users/minhgeneralassembly/Downloads/kaggle_catsanddogs/small_training_dir/train/dogs/dog.100.jpg\" #dog"
   ]
  },
  {
   "cell_type": "code",
   "execution_count": null,
   "metadata": {
    "collapsed": true
   },
   "outputs": [],
   "source": [
    "test_img = load_img(test_img)"
   ]
  },
  {
   "cell_type": "code",
   "execution_count": null,
   "metadata": {
    "collapsed": true
   },
   "outputs": [],
   "source": [
    "test_img_cropped = cropResizeImages(test_img)\n",
    "test_img_in = np.array(test_img_cropped)\n",
    "plt.imshow(test_img_in);"
   ]
  },
  {
   "cell_type": "code",
   "execution_count": null,
   "metadata": {
    "collapsed": true
   },
   "outputs": [],
   "source": [
    "preds = model.predict_classes(test_img_in[np.newaxis, :, :, :])\n",
    "probs = model.predict_proba(test_img_in[np.newaxis, :, :, :])\n",
    "print(preds, probs)"
   ]
  }
 ],
 "metadata": {
  "kernelspec": {
   "display_name": "Python 3",
   "language": "python",
   "name": "python3"
  },
  "language_info": {
   "codemirror_mode": {
    "name": "ipython",
    "version": 3
   },
   "file_extension": ".py",
   "mimetype": "text/x-python",
   "name": "python",
   "nbconvert_exporter": "python",
   "pygments_lexer": "ipython3",
   "version": "3.6.3"
  }
 },
 "nbformat": 4,
 "nbformat_minor": 2
}
