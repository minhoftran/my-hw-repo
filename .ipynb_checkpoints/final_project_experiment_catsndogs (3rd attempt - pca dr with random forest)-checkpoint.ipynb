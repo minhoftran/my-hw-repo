{
 "cells": [
  {
   "cell_type": "code",
   "execution_count": 1,
   "metadata": {},
   "outputs": [
    {
     "name": "stderr",
     "output_type": "stream",
     "text": [
      "/Users/minhgeneralassembly/anaconda2/lib/python2.7/site-packages/sklearn/cross_validation.py:41: DeprecationWarning: This module was deprecated in version 0.18 in favor of the model_selection module into which all the refactored classes and functions are moved. Also note that the interface of the new CV iterators are different from that of this module. This module will be removed in 0.20.\n",
      "  \"This module will be removed in 0.20.\", DeprecationWarning)\n"
     ]
    }
   ],
   "source": [
    "from sklearn.cross_validation import cross_val_score\n",
    "from sklearn.decomposition import RandomizedPCA\n",
    "import numpy as np\n",
    "from PIL import Image\n",
    "from sklearn.ensemble import RandomForestClassifier\n",
    "from sklearn.linear_model import LogisticRegression\n",
    "import pandas as pd\n",
    "from tqdm import tqdm"
   ]
  },
  {
   "cell_type": "code",
   "execution_count": 2,
   "metadata": {
    "collapsed": true
   },
   "outputs": [],
   "source": [
    "from IPython.display import HTML"
   ]
  },
  {
   "cell_type": "code",
   "execution_count": 3,
   "metadata": {
    "collapsed": true
   },
   "outputs": [],
   "source": [
    "import os, sys\n",
    "import random"
   ]
  },
  {
   "cell_type": "code",
   "execution_count": 4,
   "metadata": {
    "collapsed": true
   },
   "outputs": [],
   "source": [
    "#setup a standard image size; this will distort some images but will get everything into the same shape\n",
    "STANDARD_SIZE = (300, 300)"
   ]
  },
  {
   "cell_type": "code",
   "execution_count": 5,
   "metadata": {
    "collapsed": true
   },
   "outputs": [],
   "source": [
    "def img_to_matrix(filename, verbose=False):\n",
    "    \"\"\"\n",
    "    takes a filename and turns it into a numpy array of RGB pixels\n",
    "    \"\"\"\n",
    "    img = Image.open(filename)\n",
    "    if verbose==True:\n",
    "        print \"changing size from %s to %s\" % (str(img.size), str(STANDARD_SIZE))\n",
    "    img = img.resize(STANDARD_SIZE)\n",
    "    img = list(img.getdata())\n",
    "    img = map(list, img)\n",
    "    img = np.array(img)\n",
    "    return img"
   ]
  },
  {
   "cell_type": "code",
   "execution_count": 6,
   "metadata": {
    "collapsed": true
   },
   "outputs": [],
   "source": [
    "def flatten_image(img):\n",
    "    \"\"\"\n",
    "    takes in an (m, n) numpy array and flattens it \n",
    "    into an array of shape (1, m * n)\n",
    "    \"\"\"\n",
    "    s = img.shape[0] * img.shape[1]\n",
    "    img_wide = img.reshape(1, s)\n",
    "    return img_wide[0]"
   ]
  },
  {
   "cell_type": "code",
   "execution_count": 15,
   "metadata": {
    "collapsed": true
   },
   "outputs": [],
   "source": [
    "img_dir = \"/Users/minhgeneralassembly/Downloads/kaggle_catsanddogs/pca_train/\"\n",
    "images = [img_dir + f for f in os.listdir(img_dir) if f.endswith('.jpg')]\n",
    "random.shuffle(images)\n",
    "### Right now this says the target is true if the file has 'kittens' in the name.\n",
    "### This means we are building a binary classifier of kitten or not.  Change this is so you can pass an argument \n",
    "### to build a classifier for any set of images.  Use sys.argv ('import sys' first)\n",
    "\n",
    "# added and renamed classes -mt\n",
    "# labels = np.array([\"kitten\" if \"kitten\" in f.split('/')[-1] else \"bicycle\" if \"bicycle\" in f.split('/')[-1] else \"pumpkin\" for f in images])\n",
    "\n",
    "labels = np.array([1 if \"cat\" in f.split('/')[-1] else 0 for f in images])"
   ]
  },
  {
   "cell_type": "code",
   "execution_count": 16,
   "metadata": {
    "collapsed": true
   },
   "outputs": [],
   "source": [
    "data = []"
   ]
  },
  {
   "cell_type": "code",
   "execution_count": 17,
   "metadata": {},
   "outputs": [
    {
     "name": "stderr",
     "output_type": "stream",
     "text": [
      "100%|██████████| 500/500 [01:22<00:00,  6.08it/s]\n"
     ]
    }
   ],
   "source": [
    "### Apply transformation for each matrix\n",
    "for image in tqdm(images):\n",
    "  img = img_to_matrix(image)\n",
    "  img = flatten_image(img)\n",
    "  data.append(img)"
   ]
  },
  {
   "cell_type": "code",
   "execution_count": 18,
   "metadata": {
    "collapsed": true
   },
   "outputs": [],
   "source": [
    "data = np.array(data)"
   ]
  },
  {
   "cell_type": "code",
   "execution_count": 19,
   "metadata": {},
   "outputs": [
    {
     "name": "stderr",
     "output_type": "stream",
     "text": [
      "/Users/minhgeneralassembly/anaconda2/lib/python2.7/site-packages/sklearn/utils/deprecation.py:58: DeprecationWarning: Class RandomizedPCA is deprecated; RandomizedPCA was deprecated in 0.18 and will be removed in 0.20. Use PCA(svd_solver='randomized') instead. The new implementation DOES NOT store whiten ``components_``. Apply transform to get them.\n",
      "  warnings.warn(msg, category=DeprecationWarning)\n"
     ]
    }
   ],
   "source": [
    "### This creates a simpler representation of the images other than the raw pixels\n",
    "### Change the number of components to see how this effects classification accuracy\n",
    "pca = RandomizedPCA(n_components=50)"
   ]
  },
  {
   "cell_type": "code",
   "execution_count": 20,
   "metadata": {
    "collapsed": true
   },
   "outputs": [],
   "source": [
    "### Transform your dataset `data` into a feature setX \n",
    "X = pca.fit_transform(data)"
   ]
  },
  {
   "cell_type": "code",
   "execution_count": 21,
   "metadata": {
    "collapsed": true
   },
   "outputs": [],
   "source": [
    "### Setup a classifier (or multiple, play around with different models) \n",
    "### How much data do you have?  Do you think the relationships are linear?\n",
    "model = RandomForestClassifier(n_estimators=10)"
   ]
  },
  {
   "cell_type": "code",
   "execution_count": 22,
   "metadata": {
    "scrolled": false
   },
   "outputs": [
    {
     "name": "stdout",
     "output_type": "stream",
     "text": [
      "[ 0.57440476  0.56350704  0.56372478]\n"
     ]
    }
   ],
   "source": [
    "## Do some cross validation\n",
    "print cross_val_score(model, X, labels, scoring='roc_auc')"
   ]
  },
  {
   "cell_type": "code",
   "execution_count": 23,
   "metadata": {},
   "outputs": [
    {
     "data": {
      "text/plain": [
       "RandomForestClassifier(bootstrap=True, class_weight=None, criterion='gini',\n",
       "            max_depth=None, max_features='auto', max_leaf_nodes=None,\n",
       "            min_impurity_decrease=0.0, min_impurity_split=None,\n",
       "            min_samples_leaf=1, min_samples_split=2,\n",
       "            min_weight_fraction_leaf=0.0, n_estimators=10, n_jobs=1,\n",
       "            oob_score=False, random_state=None, verbose=0,\n",
       "            warm_start=False)"
      ]
     },
     "execution_count": 23,
     "metadata": {},
     "output_type": "execute_result"
    }
   ],
   "source": [
    "model.fit(X, labels)"
   ]
  },
  {
   "cell_type": "markdown",
   "metadata": {},
   "source": [
    "### test images"
   ]
  },
  {
   "cell_type": "code",
   "execution_count": 24,
   "metadata": {},
   "outputs": [],
   "source": [
    "test_img_dir = \"small_testing_dir/\"\n",
    "test_images = [test_img_dir + f for f in os.listdir(test_img_dir) if f.endswith('.jpg')]"
   ]
  },
  {
   "cell_type": "code",
   "execution_count": 25,
   "metadata": {},
   "outputs": [
    {
     "name": "stderr",
     "output_type": "stream",
     "text": [
      "100%|██████████| 100/100 [00:16<00:00,  6.02it/s]\n"
     ]
    }
   ],
   "source": [
    "test_data = []\n",
    "\n",
    "for test_image in tqdm(test_images):\n",
    "  img = img_to_matrix(test_image)\n",
    "  img = flatten_image(img)\n",
    "  test_data.append(img)"
   ]
  },
  {
   "cell_type": "code",
   "execution_count": 26,
   "metadata": {
    "collapsed": true
   },
   "outputs": [],
   "source": [
    "test_data = np.array(test_data)"
   ]
  },
  {
   "cell_type": "code",
   "execution_count": 27,
   "metadata": {
    "collapsed": true
   },
   "outputs": [],
   "source": [
    "test_X = pca.fit_transform(test_data)"
   ]
  },
  {
   "cell_type": "code",
   "execution_count": 28,
   "metadata": {
    "collapsed": true
   },
   "outputs": [],
   "source": [
    "df = pd.DataFrame(test_images, columns=['image_name'])"
   ]
  },
  {
   "cell_type": "code",
   "execution_count": 29,
   "metadata": {},
   "outputs": [],
   "source": [
    "df['image'] = df['image_name'].map(lambda x: '<img src=\"{}\" style=\"max-height: 400px; max-width: 400px;\" ></img>'.format(x) )"
   ]
  },
  {
   "cell_type": "code",
   "execution_count": 30,
   "metadata": {},
   "outputs": [],
   "source": [
    "df['pred'] = model.predict(test_X)"
   ]
  },
  {
   "cell_type": "code",
   "execution_count": 31,
   "metadata": {
    "scrolled": false
   },
   "outputs": [
    {
     "data": {
      "text/html": [
       "<table border=\"1\" class=\"dataframe\">\n",
       "  <thead>\n",
       "    <tr style=\"text-align: right;\">\n",
       "      <th></th>\n",
       "      <th>image_name</th>\n",
       "      <th>image</th>\n",
       "      <th>pred</th>\n",
       "    </tr>\n",
       "  </thead>\n",
       "  <tbody>\n",
       "    <tr>\n",
       "      <th>0</th>\n",
       "      <td>small_testing_dir/63.jpg</td>\n",
       "      <td><img src=\"small_testing_dir/63.jpg\" style=\"max-height: 400px; max-width: 400px;\" ></img></td>\n",
       "      <td>1</td>\n",
       "    </tr>\n",
       "    <tr>\n",
       "      <th>1</th>\n",
       "      <td>small_testing_dir/77.jpg</td>\n",
       "      <td><img src=\"small_testing_dir/77.jpg\" style=\"max-height: 400px; max-width: 400px;\" ></img></td>\n",
       "      <td>1</td>\n",
       "    </tr>\n",
       "    <tr>\n",
       "      <th>2</th>\n",
       "      <td>small_testing_dir/88.jpg</td>\n",
       "      <td><img src=\"small_testing_dir/88.jpg\" style=\"max-height: 400px; max-width: 400px;\" ></img></td>\n",
       "      <td>0</td>\n",
       "    </tr>\n",
       "    <tr>\n",
       "      <th>3</th>\n",
       "      <td>small_testing_dir/89.jpg</td>\n",
       "      <td><img src=\"small_testing_dir/89.jpg\" style=\"max-height: 400px; max-width: 400px;\" ></img></td>\n",
       "      <td>1</td>\n",
       "    </tr>\n",
       "    <tr>\n",
       "      <th>4</th>\n",
       "      <td>small_testing_dir/76.jpg</td>\n",
       "      <td><img src=\"small_testing_dir/76.jpg\" style=\"max-height: 400px; max-width: 400px;\" ></img></td>\n",
       "      <td>1</td>\n",
       "    </tr>\n",
       "    <tr>\n",
       "      <th>5</th>\n",
       "      <td>small_testing_dir/62.jpg</td>\n",
       "      <td><img src=\"small_testing_dir/62.jpg\" style=\"max-height: 400px; max-width: 400px;\" ></img></td>\n",
       "      <td>1</td>\n",
       "    </tr>\n",
       "    <tr>\n",
       "      <th>6</th>\n",
       "      <td>small_testing_dir/74.jpg</td>\n",
       "      <td><img src=\"small_testing_dir/74.jpg\" style=\"max-height: 400px; max-width: 400px;\" ></img></td>\n",
       "      <td>0</td>\n",
       "    </tr>\n",
       "    <tr>\n",
       "      <th>7</th>\n",
       "      <td>small_testing_dir/60.jpg</td>\n",
       "      <td><img src=\"small_testing_dir/60.jpg\" style=\"max-height: 400px; max-width: 400px;\" ></img></td>\n",
       "      <td>0</td>\n",
       "    </tr>\n",
       "    <tr>\n",
       "      <th>8</th>\n",
       "      <td>small_testing_dir/48.jpg</td>\n",
       "      <td><img src=\"small_testing_dir/48.jpg\" style=\"max-height: 400px; max-width: 400px;\" ></img></td>\n",
       "      <td>0</td>\n",
       "    </tr>\n",
       "    <tr>\n",
       "      <th>9</th>\n",
       "      <td>small_testing_dir/49.jpg</td>\n",
       "      <td><img src=\"small_testing_dir/49.jpg\" style=\"max-height: 400px; max-width: 400px;\" ></img></td>\n",
       "      <td>0</td>\n",
       "    </tr>\n",
       "    <tr>\n",
       "      <th>10</th>\n",
       "      <td>small_testing_dir/61.jpg</td>\n",
       "      <td><img src=\"small_testing_dir/61.jpg\" style=\"max-height: 400px; max-width: 400px;\" ></img></td>\n",
       "      <td>0</td>\n",
       "    </tr>\n",
       "    <tr>\n",
       "      <th>11</th>\n",
       "      <td>small_testing_dir/75.jpg</td>\n",
       "      <td><img src=\"small_testing_dir/75.jpg\" style=\"max-height: 400px; max-width: 400px;\" ></img></td>\n",
       "      <td>0</td>\n",
       "    </tr>\n",
       "    <tr>\n",
       "      <th>12</th>\n",
       "      <td>small_testing_dir/59.jpg</td>\n",
       "      <td><img src=\"small_testing_dir/59.jpg\" style=\"max-height: 400px; max-width: 400px;\" ></img></td>\n",
       "      <td>1</td>\n",
       "    </tr>\n",
       "    <tr>\n",
       "      <th>13</th>\n",
       "      <td>small_testing_dir/71.jpg</td>\n",
       "      <td><img src=\"small_testing_dir/71.jpg\" style=\"max-height: 400px; max-width: 400px;\" ></img></td>\n",
       "      <td>1</td>\n",
       "    </tr>\n",
       "    <tr>\n",
       "      <th>14</th>\n",
       "      <td>small_testing_dir/65.jpg</td>\n",
       "      <td><img src=\"small_testing_dir/65.jpg\" style=\"max-height: 400px; max-width: 400px;\" ></img></td>\n",
       "      <td>1</td>\n",
       "    </tr>\n",
       "    <tr>\n",
       "      <th>15</th>\n",
       "      <td>small_testing_dir/64.jpg</td>\n",
       "      <td><img src=\"small_testing_dir/64.jpg\" style=\"max-height: 400px; max-width: 400px;\" ></img></td>\n",
       "      <td>1</td>\n",
       "    </tr>\n",
       "    <tr>\n",
       "      <th>16</th>\n",
       "      <td>small_testing_dir/70.jpg</td>\n",
       "      <td><img src=\"small_testing_dir/70.jpg\" style=\"max-height: 400px; max-width: 400px;\" ></img></td>\n",
       "      <td>0</td>\n",
       "    </tr>\n",
       "    <tr>\n",
       "      <th>17</th>\n",
       "      <td>small_testing_dir/58.jpg</td>\n",
       "      <td><img src=\"small_testing_dir/58.jpg\" style=\"max-height: 400px; max-width: 400px;\" ></img></td>\n",
       "      <td>0</td>\n",
       "    </tr>\n",
       "    <tr>\n",
       "      <th>18</th>\n",
       "      <td>small_testing_dir/8.jpg</td>\n",
       "      <td><img src=\"small_testing_dir/8.jpg\" style=\"max-height: 400px; max-width: 400px;\" ></img></td>\n",
       "      <td>1</td>\n",
       "    </tr>\n",
       "    <tr>\n",
       "      <th>19</th>\n",
       "      <td>small_testing_dir/66.jpg</td>\n",
       "      <td><img src=\"small_testing_dir/66.jpg\" style=\"max-height: 400px; max-width: 400px;\" ></img></td>\n",
       "      <td>0</td>\n",
       "    </tr>\n",
       "    <tr>\n",
       "      <th>20</th>\n",
       "      <td>small_testing_dir/72.jpg</td>\n",
       "      <td><img src=\"small_testing_dir/72.jpg\" style=\"max-height: 400px; max-width: 400px;\" ></img></td>\n",
       "      <td>0</td>\n",
       "    </tr>\n",
       "    <tr>\n",
       "      <th>21</th>\n",
       "      <td>small_testing_dir/99.jpg</td>\n",
       "      <td><img src=\"small_testing_dir/99.jpg\" style=\"max-height: 400px; max-width: 400px;\" ></img></td>\n",
       "      <td>0</td>\n",
       "    </tr>\n",
       "    <tr>\n",
       "      <th>22</th>\n",
       "      <td>small_testing_dir/98.jpg</td>\n",
       "      <td><img src=\"small_testing_dir/98.jpg\" style=\"max-height: 400px; max-width: 400px;\" ></img></td>\n",
       "      <td>0</td>\n",
       "    </tr>\n",
       "    <tr>\n",
       "      <th>23</th>\n",
       "      <td>small_testing_dir/73.jpg</td>\n",
       "      <td><img src=\"small_testing_dir/73.jpg\" style=\"max-height: 400px; max-width: 400px;\" ></img></td>\n",
       "      <td>1</td>\n",
       "    </tr>\n",
       "    <tr>\n",
       "      <th>24</th>\n",
       "      <td>small_testing_dir/67.jpg</td>\n",
       "      <td><img src=\"small_testing_dir/67.jpg\" style=\"max-height: 400px; max-width: 400px;\" ></img></td>\n",
       "      <td>0</td>\n",
       "    </tr>\n",
       "    <tr>\n",
       "      <th>25</th>\n",
       "      <td>small_testing_dir/9.jpg</td>\n",
       "      <td><img src=\"small_testing_dir/9.jpg\" style=\"max-height: 400px; max-width: 400px;\" ></img></td>\n",
       "      <td>0</td>\n",
       "    </tr>\n",
       "    <tr>\n",
       "      <th>26</th>\n",
       "      <td>small_testing_dir/14.jpg</td>\n",
       "      <td><img src=\"small_testing_dir/14.jpg\" style=\"max-height: 400px; max-width: 400px;\" ></img></td>\n",
       "      <td>0</td>\n",
       "    </tr>\n",
       "    <tr>\n",
       "      <th>27</th>\n",
       "      <td>small_testing_dir/28.jpg</td>\n",
       "      <td><img src=\"small_testing_dir/28.jpg\" style=\"max-height: 400px; max-width: 400px;\" ></img></td>\n",
       "      <td>0</td>\n",
       "    </tr>\n",
       "    <tr>\n",
       "      <th>28</th>\n",
       "      <td>small_testing_dir/100.jpg</td>\n",
       "      <td><img src=\"small_testing_dir/100.jpg\" style=\"max-height: 400px; max-width: 400px;\" ></img></td>\n",
       "      <td>0</td>\n",
       "    </tr>\n",
       "    <tr>\n",
       "      <th>29</th>\n",
       "      <td>small_testing_dir/29.jpg</td>\n",
       "      <td><img src=\"small_testing_dir/29.jpg\" style=\"max-height: 400px; max-width: 400px;\" ></img></td>\n",
       "      <td>0</td>\n",
       "    </tr>\n",
       "    <tr>\n",
       "      <th>30</th>\n",
       "      <td>small_testing_dir/15.jpg</td>\n",
       "      <td><img src=\"small_testing_dir/15.jpg\" style=\"max-height: 400px; max-width: 400px;\" ></img></td>\n",
       "      <td>0</td>\n",
       "    </tr>\n",
       "    <tr>\n",
       "      <th>31</th>\n",
       "      <td>small_testing_dir/17.jpg</td>\n",
       "      <td><img src=\"small_testing_dir/17.jpg\" style=\"max-height: 400px; max-width: 400px;\" ></img></td>\n",
       "      <td>1</td>\n",
       "    </tr>\n",
       "    <tr>\n",
       "      <th>32</th>\n",
       "      <td>small_testing_dir/16.jpg</td>\n",
       "      <td><img src=\"small_testing_dir/16.jpg\" style=\"max-height: 400px; max-width: 400px;\" ></img></td>\n",
       "      <td>1</td>\n",
       "    </tr>\n",
       "    <tr>\n",
       "      <th>33</th>\n",
       "      <td>small_testing_dir/12.jpg</td>\n",
       "      <td><img src=\"small_testing_dir/12.jpg\" style=\"max-height: 400px; max-width: 400px;\" ></img></td>\n",
       "      <td>1</td>\n",
       "    </tr>\n",
       "    <tr>\n",
       "      <th>34</th>\n",
       "      <td>small_testing_dir/13.jpg</td>\n",
       "      <td><img src=\"small_testing_dir/13.jpg\" style=\"max-height: 400px; max-width: 400px;\" ></img></td>\n",
       "      <td>0</td>\n",
       "    </tr>\n",
       "    <tr>\n",
       "      <th>35</th>\n",
       "      <td>small_testing_dir/39.jpg</td>\n",
       "      <td><img src=\"small_testing_dir/39.jpg\" style=\"max-height: 400px; max-width: 400px;\" ></img></td>\n",
       "      <td>0</td>\n",
       "    </tr>\n",
       "    <tr>\n",
       "      <th>36</th>\n",
       "      <td>small_testing_dir/11.jpg</td>\n",
       "      <td><img src=\"small_testing_dir/11.jpg\" style=\"max-height: 400px; max-width: 400px;\" ></img></td>\n",
       "      <td>0</td>\n",
       "    </tr>\n",
       "    <tr>\n",
       "      <th>37</th>\n",
       "      <td>small_testing_dir/10.jpg</td>\n",
       "      <td><img src=\"small_testing_dir/10.jpg\" style=\"max-height: 400px; max-width: 400px;\" ></img></td>\n",
       "      <td>1</td>\n",
       "    </tr>\n",
       "    <tr>\n",
       "      <th>38</th>\n",
       "      <td>small_testing_dir/38.jpg</td>\n",
       "      <td><img src=\"small_testing_dir/38.jpg\" style=\"max-height: 400px; max-width: 400px;\" ></img></td>\n",
       "      <td>0</td>\n",
       "    </tr>\n",
       "    <tr>\n",
       "      <th>39</th>\n",
       "      <td>small_testing_dir/21.jpg</td>\n",
       "      <td><img src=\"small_testing_dir/21.jpg\" style=\"max-height: 400px; max-width: 400px;\" ></img></td>\n",
       "      <td>0</td>\n",
       "    </tr>\n",
       "    <tr>\n",
       "      <th>40</th>\n",
       "      <td>small_testing_dir/35.jpg</td>\n",
       "      <td><img src=\"small_testing_dir/35.jpg\" style=\"max-height: 400px; max-width: 400px;\" ></img></td>\n",
       "      <td>1</td>\n",
       "    </tr>\n",
       "    <tr>\n",
       "      <th>41</th>\n",
       "      <td>small_testing_dir/34.jpg</td>\n",
       "      <td><img src=\"small_testing_dir/34.jpg\" style=\"max-height: 400px; max-width: 400px;\" ></img></td>\n",
       "      <td>0</td>\n",
       "    </tr>\n",
       "    <tr>\n",
       "      <th>42</th>\n",
       "      <td>small_testing_dir/20.jpg</td>\n",
       "      <td><img src=\"small_testing_dir/20.jpg\" style=\"max-height: 400px; max-width: 400px;\" ></img></td>\n",
       "      <td>0</td>\n",
       "    </tr>\n",
       "    <tr>\n",
       "      <th>43</th>\n",
       "      <td>small_testing_dir/36.jpg</td>\n",
       "      <td><img src=\"small_testing_dir/36.jpg\" style=\"max-height: 400px; max-width: 400px;\" ></img></td>\n",
       "      <td>0</td>\n",
       "    </tr>\n",
       "    <tr>\n",
       "      <th>44</th>\n",
       "      <td>small_testing_dir/22.jpg</td>\n",
       "      <td><img src=\"small_testing_dir/22.jpg\" style=\"max-height: 400px; max-width: 400px;\" ></img></td>\n",
       "      <td>0</td>\n",
       "    </tr>\n",
       "    <tr>\n",
       "      <th>45</th>\n",
       "      <td>small_testing_dir/23.jpg</td>\n",
       "      <td><img src=\"small_testing_dir/23.jpg\" style=\"max-height: 400px; max-width: 400px;\" ></img></td>\n",
       "      <td>1</td>\n",
       "    </tr>\n",
       "    <tr>\n",
       "      <th>46</th>\n",
       "      <td>small_testing_dir/37.jpg</td>\n",
       "      <td><img src=\"small_testing_dir/37.jpg\" style=\"max-height: 400px; max-width: 400px;\" ></img></td>\n",
       "      <td>1</td>\n",
       "    </tr>\n",
       "    <tr>\n",
       "      <th>47</th>\n",
       "      <td>small_testing_dir/33.jpg</td>\n",
       "      <td><img src=\"small_testing_dir/33.jpg\" style=\"max-height: 400px; max-width: 400px;\" ></img></td>\n",
       "      <td>0</td>\n",
       "    </tr>\n",
       "    <tr>\n",
       "      <th>48</th>\n",
       "      <td>small_testing_dir/27.jpg</td>\n",
       "      <td><img src=\"small_testing_dir/27.jpg\" style=\"max-height: 400px; max-width: 400px;\" ></img></td>\n",
       "      <td>0</td>\n",
       "    </tr>\n",
       "    <tr>\n",
       "      <th>49</th>\n",
       "      <td>small_testing_dir/26.jpg</td>\n",
       "      <td><img src=\"small_testing_dir/26.jpg\" style=\"max-height: 400px; max-width: 400px;\" ></img></td>\n",
       "      <td>1</td>\n",
       "    </tr>\n",
       "    <tr>\n",
       "      <th>50</th>\n",
       "      <td>small_testing_dir/32.jpg</td>\n",
       "      <td><img src=\"small_testing_dir/32.jpg\" style=\"max-height: 400px; max-width: 400px;\" ></img></td>\n",
       "      <td>1</td>\n",
       "    </tr>\n",
       "    <tr>\n",
       "      <th>51</th>\n",
       "      <td>small_testing_dir/18.jpg</td>\n",
       "      <td><img src=\"small_testing_dir/18.jpg\" style=\"max-height: 400px; max-width: 400px;\" ></img></td>\n",
       "      <td>1</td>\n",
       "    </tr>\n",
       "    <tr>\n",
       "      <th>52</th>\n",
       "      <td>small_testing_dir/24.jpg</td>\n",
       "      <td><img src=\"small_testing_dir/24.jpg\" style=\"max-height: 400px; max-width: 400px;\" ></img></td>\n",
       "      <td>1</td>\n",
       "    </tr>\n",
       "    <tr>\n",
       "      <th>53</th>\n",
       "      <td>small_testing_dir/30.jpg</td>\n",
       "      <td><img src=\"small_testing_dir/30.jpg\" style=\"max-height: 400px; max-width: 400px;\" ></img></td>\n",
       "      <td>0</td>\n",
       "    </tr>\n",
       "    <tr>\n",
       "      <th>54</th>\n",
       "      <td>small_testing_dir/31.jpg</td>\n",
       "      <td><img src=\"small_testing_dir/31.jpg\" style=\"max-height: 400px; max-width: 400px;\" ></img></td>\n",
       "      <td>1</td>\n",
       "    </tr>\n",
       "    <tr>\n",
       "      <th>55</th>\n",
       "      <td>small_testing_dir/25.jpg</td>\n",
       "      <td><img src=\"small_testing_dir/25.jpg\" style=\"max-height: 400px; max-width: 400px;\" ></img></td>\n",
       "      <td>0</td>\n",
       "    </tr>\n",
       "    <tr>\n",
       "      <th>56</th>\n",
       "      <td>small_testing_dir/19.jpg</td>\n",
       "      <td><img src=\"small_testing_dir/19.jpg\" style=\"max-height: 400px; max-width: 400px;\" ></img></td>\n",
       "      <td>0</td>\n",
       "    </tr>\n",
       "    <tr>\n",
       "      <th>57</th>\n",
       "      <td>small_testing_dir/42.jpg</td>\n",
       "      <td><img src=\"small_testing_dir/42.jpg\" style=\"max-height: 400px; max-width: 400px;\" ></img></td>\n",
       "      <td>1</td>\n",
       "    </tr>\n",
       "    <tr>\n",
       "      <th>58</th>\n",
       "      <td>small_testing_dir/4.jpg</td>\n",
       "      <td><img src=\"small_testing_dir/4.jpg\" style=\"max-height: 400px; max-width: 400px;\" ></img></td>\n",
       "      <td>0</td>\n",
       "    </tr>\n",
       "    <tr>\n",
       "      <th>59</th>\n",
       "      <td>small_testing_dir/56.jpg</td>\n",
       "      <td><img src=\"small_testing_dir/56.jpg\" style=\"max-height: 400px; max-width: 400px;\" ></img></td>\n",
       "      <td>0</td>\n",
       "    </tr>\n",
       "    <tr>\n",
       "      <th>60</th>\n",
       "      <td>small_testing_dir/81.jpg</td>\n",
       "      <td><img src=\"small_testing_dir/81.jpg\" style=\"max-height: 400px; max-width: 400px;\" ></img></td>\n",
       "      <td>0</td>\n",
       "    </tr>\n",
       "    <tr>\n",
       "      <th>61</th>\n",
       "      <td>small_testing_dir/95.jpg</td>\n",
       "      <td><img src=\"small_testing_dir/95.jpg\" style=\"max-height: 400px; max-width: 400px;\" ></img></td>\n",
       "      <td>1</td>\n",
       "    </tr>\n",
       "    <tr>\n",
       "      <th>62</th>\n",
       "      <td>small_testing_dir/94.jpg</td>\n",
       "      <td><img src=\"small_testing_dir/94.jpg\" style=\"max-height: 400px; max-width: 400px;\" ></img></td>\n",
       "      <td>0</td>\n",
       "    </tr>\n",
       "    <tr>\n",
       "      <th>63</th>\n",
       "      <td>small_testing_dir/80.jpg</td>\n",
       "      <td><img src=\"small_testing_dir/80.jpg\" style=\"max-height: 400px; max-width: 400px;\" ></img></td>\n",
       "      <td>0</td>\n",
       "    </tr>\n",
       "    <tr>\n",
       "      <th>64</th>\n",
       "      <td>small_testing_dir/5.jpg</td>\n",
       "      <td><img src=\"small_testing_dir/5.jpg\" style=\"max-height: 400px; max-width: 400px;\" ></img></td>\n",
       "      <td>1</td>\n",
       "    </tr>\n",
       "    <tr>\n",
       "      <th>65</th>\n",
       "      <td>small_testing_dir/57.jpg</td>\n",
       "      <td><img src=\"small_testing_dir/57.jpg\" style=\"max-height: 400px; max-width: 400px;\" ></img></td>\n",
       "      <td>1</td>\n",
       "    </tr>\n",
       "    <tr>\n",
       "      <th>66</th>\n",
       "      <td>small_testing_dir/43.jpg</td>\n",
       "      <td><img src=\"small_testing_dir/43.jpg\" style=\"max-height: 400px; max-width: 400px;\" ></img></td>\n",
       "      <td>0</td>\n",
       "    </tr>\n",
       "    <tr>\n",
       "      <th>67</th>\n",
       "      <td>small_testing_dir/55.jpg</td>\n",
       "      <td><img src=\"small_testing_dir/55.jpg\" style=\"max-height: 400px; max-width: 400px;\" ></img></td>\n",
       "      <td>1</td>\n",
       "    </tr>\n",
       "    <tr>\n",
       "      <th>68</th>\n",
       "      <td>small_testing_dir/7.jpg</td>\n",
       "      <td><img src=\"small_testing_dir/7.jpg\" style=\"max-height: 400px; max-width: 400px;\" ></img></td>\n",
       "      <td>1</td>\n",
       "    </tr>\n",
       "    <tr>\n",
       "      <th>69</th>\n",
       "      <td>small_testing_dir/41.jpg</td>\n",
       "      <td><img src=\"small_testing_dir/41.jpg\" style=\"max-height: 400px; max-width: 400px;\" ></img></td>\n",
       "      <td>1</td>\n",
       "    </tr>\n",
       "    <tr>\n",
       "      <th>70</th>\n",
       "      <td>small_testing_dir/69.jpg</td>\n",
       "      <td><img src=\"small_testing_dir/69.jpg\" style=\"max-height: 400px; max-width: 400px;\" ></img></td>\n",
       "      <td>1</td>\n",
       "    </tr>\n",
       "    <tr>\n",
       "      <th>71</th>\n",
       "      <td>small_testing_dir/96.jpg</td>\n",
       "      <td><img src=\"small_testing_dir/96.jpg\" style=\"max-height: 400px; max-width: 400px;\" ></img></td>\n",
       "      <td>0</td>\n",
       "    </tr>\n",
       "    <tr>\n",
       "      <th>72</th>\n",
       "      <td>small_testing_dir/82.jpg</td>\n",
       "      <td><img src=\"small_testing_dir/82.jpg\" style=\"max-height: 400px; max-width: 400px;\" ></img></td>\n",
       "      <td>1</td>\n",
       "    </tr>\n",
       "    <tr>\n",
       "      <th>73</th>\n",
       "      <td>small_testing_dir/83.jpg</td>\n",
       "      <td><img src=\"small_testing_dir/83.jpg\" style=\"max-height: 400px; max-width: 400px;\" ></img></td>\n",
       "      <td>0</td>\n",
       "    </tr>\n",
       "    <tr>\n",
       "      <th>74</th>\n",
       "      <td>small_testing_dir/97.jpg</td>\n",
       "      <td><img src=\"small_testing_dir/97.jpg\" style=\"max-height: 400px; max-width: 400px;\" ></img></td>\n",
       "      <td>1</td>\n",
       "    </tr>\n",
       "    <tr>\n",
       "      <th>75</th>\n",
       "      <td>small_testing_dir/68.jpg</td>\n",
       "      <td><img src=\"small_testing_dir/68.jpg\" style=\"max-height: 400px; max-width: 400px;\" ></img></td>\n",
       "      <td>0</td>\n",
       "    </tr>\n",
       "    <tr>\n",
       "      <th>76</th>\n",
       "      <td>small_testing_dir/40.jpg</td>\n",
       "      <td><img src=\"small_testing_dir/40.jpg\" style=\"max-height: 400px; max-width: 400px;\" ></img></td>\n",
       "      <td>0</td>\n",
       "    </tr>\n",
       "    <tr>\n",
       "      <th>77</th>\n",
       "      <td>small_testing_dir/54.jpg</td>\n",
       "      <td><img src=\"small_testing_dir/54.jpg\" style=\"max-height: 400px; max-width: 400px;\" ></img></td>\n",
       "      <td>0</td>\n",
       "    </tr>\n",
       "    <tr>\n",
       "      <th>78</th>\n",
       "      <td>small_testing_dir/6.jpg</td>\n",
       "      <td><img src=\"small_testing_dir/6.jpg\" style=\"max-height: 400px; max-width: 400px;\" ></img></td>\n",
       "      <td>0</td>\n",
       "    </tr>\n",
       "    <tr>\n",
       "      <th>79</th>\n",
       "      <td>small_testing_dir/78.jpg</td>\n",
       "      <td><img src=\"small_testing_dir/78.jpg\" style=\"max-height: 400px; max-width: 400px;\" ></img></td>\n",
       "      <td>1</td>\n",
       "    </tr>\n",
       "    <tr>\n",
       "      <th>80</th>\n",
       "      <td>small_testing_dir/2.jpg</td>\n",
       "      <td><img src=\"small_testing_dir/2.jpg\" style=\"max-height: 400px; max-width: 400px;\" ></img></td>\n",
       "      <td>0</td>\n",
       "    </tr>\n",
       "    <tr>\n",
       "      <th>81</th>\n",
       "      <td>small_testing_dir/50.jpg</td>\n",
       "      <td><img src=\"small_testing_dir/50.jpg\" style=\"max-height: 400px; max-width: 400px;\" ></img></td>\n",
       "      <td>0</td>\n",
       "    </tr>\n",
       "    <tr>\n",
       "      <th>82</th>\n",
       "      <td>small_testing_dir/44.jpg</td>\n",
       "      <td><img src=\"small_testing_dir/44.jpg\" style=\"max-height: 400px; max-width: 400px;\" ></img></td>\n",
       "      <td>1</td>\n",
       "    </tr>\n",
       "    <tr>\n",
       "      <th>83</th>\n",
       "      <td>small_testing_dir/93.jpg</td>\n",
       "      <td><img src=\"small_testing_dir/93.jpg\" style=\"max-height: 400px; max-width: 400px;\" ></img></td>\n",
       "      <td>0</td>\n",
       "    </tr>\n",
       "    <tr>\n",
       "      <th>84</th>\n",
       "      <td>small_testing_dir/87.jpg</td>\n",
       "      <td><img src=\"small_testing_dir/87.jpg\" style=\"max-height: 400px; max-width: 400px;\" ></img></td>\n",
       "      <td>1</td>\n",
       "    </tr>\n",
       "    <tr>\n",
       "      <th>85</th>\n",
       "      <td>small_testing_dir/86.jpg</td>\n",
       "      <td><img src=\"small_testing_dir/86.jpg\" style=\"max-height: 400px; max-width: 400px;\" ></img></td>\n",
       "      <td>0</td>\n",
       "    </tr>\n",
       "    <tr>\n",
       "      <th>86</th>\n",
       "      <td>small_testing_dir/92.jpg</td>\n",
       "      <td><img src=\"small_testing_dir/92.jpg\" style=\"max-height: 400px; max-width: 400px;\" ></img></td>\n",
       "      <td>1</td>\n",
       "    </tr>\n",
       "    <tr>\n",
       "      <th>87</th>\n",
       "      <td>small_testing_dir/45.jpg</td>\n",
       "      <td><img src=\"small_testing_dir/45.jpg\" style=\"max-height: 400px; max-width: 400px;\" ></img></td>\n",
       "      <td>0</td>\n",
       "    </tr>\n",
       "    <tr>\n",
       "      <th>88</th>\n",
       "      <td>small_testing_dir/3.jpg</td>\n",
       "      <td><img src=\"small_testing_dir/3.jpg\" style=\"max-height: 400px; max-width: 400px;\" ></img></td>\n",
       "      <td>0</td>\n",
       "    </tr>\n",
       "    <tr>\n",
       "      <th>89</th>\n",
       "      <td>small_testing_dir/51.jpg</td>\n",
       "      <td><img src=\"small_testing_dir/51.jpg\" style=\"max-height: 400px; max-width: 400px;\" ></img></td>\n",
       "      <td>0</td>\n",
       "    </tr>\n",
       "    <tr>\n",
       "      <th>90</th>\n",
       "      <td>small_testing_dir/79.jpg</td>\n",
       "      <td><img src=\"small_testing_dir/79.jpg\" style=\"max-height: 400px; max-width: 400px;\" ></img></td>\n",
       "      <td>0</td>\n",
       "    </tr>\n",
       "    <tr>\n",
       "      <th>91</th>\n",
       "      <td>small_testing_dir/47.jpg</td>\n",
       "      <td><img src=\"small_testing_dir/47.jpg\" style=\"max-height: 400px; max-width: 400px;\" ></img></td>\n",
       "      <td>1</td>\n",
       "    </tr>\n",
       "    <tr>\n",
       "      <th>92</th>\n",
       "      <td>small_testing_dir/53.jpg</td>\n",
       "      <td><img src=\"small_testing_dir/53.jpg\" style=\"max-height: 400px; max-width: 400px;\" ></img></td>\n",
       "      <td>0</td>\n",
       "    </tr>\n",
       "    <tr>\n",
       "      <th>93</th>\n",
       "      <td>small_testing_dir/1.jpg</td>\n",
       "      <td><img src=\"small_testing_dir/1.jpg\" style=\"max-height: 400px; max-width: 400px;\" ></img></td>\n",
       "      <td>1</td>\n",
       "    </tr>\n",
       "    <tr>\n",
       "      <th>94</th>\n",
       "      <td>small_testing_dir/84.jpg</td>\n",
       "      <td><img src=\"small_testing_dir/84.jpg\" style=\"max-height: 400px; max-width: 400px;\" ></img></td>\n",
       "      <td>1</td>\n",
       "    </tr>\n",
       "    <tr>\n",
       "      <th>95</th>\n",
       "      <td>small_testing_dir/90.jpg</td>\n",
       "      <td><img src=\"small_testing_dir/90.jpg\" style=\"max-height: 400px; max-width: 400px;\" ></img></td>\n",
       "      <td>0</td>\n",
       "    </tr>\n",
       "    <tr>\n",
       "      <th>96</th>\n",
       "      <td>small_testing_dir/91.jpg</td>\n",
       "      <td><img src=\"small_testing_dir/91.jpg\" style=\"max-height: 400px; max-width: 400px;\" ></img></td>\n",
       "      <td>0</td>\n",
       "    </tr>\n",
       "    <tr>\n",
       "      <th>97</th>\n",
       "      <td>small_testing_dir/85.jpg</td>\n",
       "      <td><img src=\"small_testing_dir/85.jpg\" style=\"max-height: 400px; max-width: 400px;\" ></img></td>\n",
       "      <td>0</td>\n",
       "    </tr>\n",
       "    <tr>\n",
       "      <th>98</th>\n",
       "      <td>small_testing_dir/52.jpg</td>\n",
       "      <td><img src=\"small_testing_dir/52.jpg\" style=\"max-height: 400px; max-width: 400px;\" ></img></td>\n",
       "      <td>1</td>\n",
       "    </tr>\n",
       "    <tr>\n",
       "      <th>99</th>\n",
       "      <td>small_testing_dir/46.jpg</td>\n",
       "      <td><img src=\"small_testing_dir/46.jpg\" style=\"max-height: 400px; max-width: 400px;\" ></img></td>\n",
       "      <td>0</td>\n",
       "    </tr>\n",
       "  </tbody>\n",
       "</table>"
      ],
      "text/plain": [
       "<IPython.core.display.HTML object>"
      ]
     },
     "execution_count": 31,
     "metadata": {},
     "output_type": "execute_result"
    }
   ],
   "source": [
    "pd.set_option('max_colwidth', 300)\n",
    "HTML(df.to_html(escape=False))"
   ]
  },
  {
   "cell_type": "code",
   "execution_count": null,
   "metadata": {
    "collapsed": true
   },
   "outputs": [],
   "source": []
  },
  {
   "cell_type": "code",
   "execution_count": null,
   "metadata": {
    "collapsed": true
   },
   "outputs": [],
   "source": []
  },
  {
   "cell_type": "code",
   "execution_count": null,
   "metadata": {
    "collapsed": true
   },
   "outputs": [],
   "source": []
  },
  {
   "cell_type": "code",
   "execution_count": null,
   "metadata": {
    "collapsed": true
   },
   "outputs": [],
   "source": []
  },
  {
   "cell_type": "code",
   "execution_count": null,
   "metadata": {
    "collapsed": true
   },
   "outputs": [],
   "source": []
  },
  {
   "cell_type": "code",
   "execution_count": null,
   "metadata": {
    "collapsed": true
   },
   "outputs": [],
   "source": []
  },
  {
   "cell_type": "code",
   "execution_count": null,
   "metadata": {
    "collapsed": true
   },
   "outputs": [],
   "source": [
    "break"
   ]
  },
  {
   "cell_type": "code",
   "execution_count": null,
   "metadata": {
    "collapsed": true
   },
   "outputs": [],
   "source": [
    "# following along with https://elitedatascience.com/keras-tutorial-deep-learning-in-python (MNIST dataset) -mt\n",
    "# attempting to fit model for cats and dogs kaggle dataset: https://www.kaggle.com/c/dogs-vs-cats -mt"
   ]
  },
  {
   "cell_type": "markdown",
   "metadata": {},
   "source": [
    "### Step 3: Import libraries and modules"
   ]
  },
  {
   "cell_type": "code",
   "execution_count": null,
   "metadata": {
    "collapsed": true
   },
   "outputs": [],
   "source": [
    "# importing numpy and setting a seed for reproductibility\n",
    "import numpy as np\n",
    "np.random.seed(123) # kinda irrelevant. not really using randomness. -mt\n",
    "\n",
    "import os"
   ]
  },
  {
   "cell_type": "code",
   "execution_count": null,
   "metadata": {},
   "outputs": [],
   "source": [
    "# importing standard keras modules/layers/utilities\n",
    "from keras.models import Sequential, load_model\n",
    "from keras.layers import Dense, Dropout, Activation, Flatten\n",
    "from keras.layers import Convolution2D, MaxPooling2D\n",
    "from keras.utils import np_utils\n",
    "\n",
    "from keras.preprocessing.image import ImageDataGenerator\n",
    "from keras import backend as K"
   ]
  },
  {
   "cell_type": "code",
   "execution_count": null,
   "metadata": {
    "collapsed": true
   },
   "outputs": [],
   "source": [
    "from keras.preprocessing.image import ImageDataGenerator, array_to_img, img_to_array, load_img"
   ]
  },
  {
   "cell_type": "code",
   "execution_count": null,
   "metadata": {
    "collapsed": true
   },
   "outputs": [],
   "source": [
    "from matplotlib import pyplot as plt\n",
    "%matplotlib inline"
   ]
  },
  {
   "cell_type": "markdown",
   "metadata": {},
   "source": [
    "#### Second attempt using: https://blog.keras.io/building-powerful-image-classification-models-using-very-little-data.html -mt"
   ]
  },
  {
   "cell_type": "markdown",
   "metadata": {},
   "source": [
    "Directory structure looks like:\n",
    "```\n",
    "small_training_dir/\n",
    "    train/\n",
    "        dogs/\n",
    "            dog001.jpg\n",
    "            dog002.jpg\n",
    "            ...\n",
    "        cats/\n",
    "            cat001.jpg\n",
    "            cat002.jpg\n",
    "            ...\n",
    "    validation/\n",
    "        dogs/\n",
    "            dog001.jpg\n",
    "            dog002.jpg\n",
    "            ...\n",
    "        cats/\n",
    "            cat001.jpg\n",
    "            cat002.jpg\n",
    "            ...\n",
    "```            "
   ]
  },
  {
   "cell_type": "markdown",
   "metadata": {},
   "source": [
    "### Step 4: Point to images for dataset creation (later)"
   ]
  },
  {
   "cell_type": "code",
   "execution_count": null,
   "metadata": {
    "collapsed": true
   },
   "outputs": [],
   "source": [
    "# dimensions of our images.\n",
    "img_width, img_height = 150, 150\n",
    "\n",
    "train_data_dir = '/Users/minhgeneralassembly/Downloads/kaggle_catsanddogs/small_training_dir/train'\n",
    "validation_data_dir = '/Users/minhgeneralassembly/Downloads/kaggle_catsanddogs/small_training_dir/validation'\n",
    "nb_train_samples = 1000\n",
    "nb_validation_samples = 200\n",
    "epochs = 30\n",
    "batch_size = 16"
   ]
  },
  {
   "cell_type": "code",
   "execution_count": null,
   "metadata": {
    "collapsed": true
   },
   "outputs": [],
   "source": [
    "# reshape array shapes as needed (tensorflow vs theano)\n",
    "if K.image_data_format() == 'channels_first':\n",
    "    input_shape = (3, img_width, img_height)\n",
    "else:\n",
    "    input_shape = (img_width, img_height, 3)"
   ]
  },
  {
   "cell_type": "markdown",
   "metadata": {},
   "source": [
    "### Step 5: Define model"
   ]
  },
  {
   "cell_type": "code",
   "execution_count": null,
   "metadata": {
    "collapsed": true
   },
   "outputs": [],
   "source": [
    "model = Sequential()\n",
    "model.add(Convolution2D(32, (3, 3), input_shape=input_shape))\n",
    "model.add(Activation('relu'))\n",
    "model.add(MaxPooling2D(pool_size=(2, 2)))\n",
    "\n",
    "model.add(Convolution2D(32, (3, 3)))\n",
    "model.add(Activation('relu'))\n",
    "model.add(MaxPooling2D(pool_size=(2, 2)))\n",
    "\n",
    "model.add(Convolution2D(64, (3, 3)))\n",
    "model.add(Activation('relu'))\n",
    "model.add(MaxPooling2D(pool_size=(2, 2)))\n",
    "\n",
    "model.add(Flatten())\n",
    "model.add(Dense(64))\n",
    "model.add(Activation('relu'))\n",
    "model.add(Dropout(0.5))\n",
    "model.add(Dense(1))\n",
    "model.add(Activation('sigmoid'))"
   ]
  },
  {
   "cell_type": "code",
   "execution_count": null,
   "metadata": {},
   "outputs": [],
   "source": [
    "model.summary()"
   ]
  },
  {
   "cell_type": "code",
   "execution_count": null,
   "metadata": {
    "collapsed": true
   },
   "outputs": [],
   "source": [
    "model.compile(loss='binary_crossentropy',\n",
    "              optimizer='rmsprop',\n",
    "              metrics=['accuracy'])"
   ]
  },
  {
   "cell_type": "markdown",
   "metadata": {},
   "source": [
    "### Step 6: Data augmentation"
   ]
  },
  {
   "cell_type": "code",
   "execution_count": null,
   "metadata": {
    "collapsed": true
   },
   "outputs": [],
   "source": [
    "# this is the augmentation configuration we will use for training\n",
    "train_datagen = ImageDataGenerator(\n",
    "    rotation_range=40,\n",
    "    rescale=1. / 255,\n",
    "    shear_range=0.2,\n",
    "    zoom_range=0.2,\n",
    "    horizontal_flip=True)"
   ]
  },
  {
   "cell_type": "code",
   "execution_count": null,
   "metadata": {
    "collapsed": true
   },
   "outputs": [],
   "source": [
    "# this is the augmentation configuration we will use for testing:\n",
    "# only rescaling\n",
    "test_datagen = ImageDataGenerator(rescale=1. / 255)"
   ]
  },
  {
   "cell_type": "code",
   "execution_count": null,
   "metadata": {},
   "outputs": [],
   "source": [
    "train_generator = train_datagen.flow_from_directory(\n",
    "    train_data_dir,\n",
    "    target_size=(img_width, img_height),\n",
    "    batch_size=batch_size,\n",
    "    class_mode='binary')"
   ]
  },
  {
   "cell_type": "code",
   "execution_count": null,
   "metadata": {},
   "outputs": [],
   "source": [
    "validation_generator = test_datagen.flow_from_directory(\n",
    "    validation_data_dir,\n",
    "    target_size=(img_width, img_height),\n",
    "    batch_size=batch_size,\n",
    "    class_mode='binary')"
   ]
  },
  {
   "cell_type": "markdown",
   "metadata": {},
   "source": [
    "#### Test data augmentation"
   ]
  },
  {
   "cell_type": "code",
   "execution_count": null,
   "metadata": {
    "collapsed": true
   },
   "outputs": [],
   "source": [
    "# img = load_img('/Users/minhgeneralassembly/Downloads/kaggle_catsanddogs/small_training_dir/train/cats/cat.0.jpg')  # this is a PIL image\n",
    "# x = img_to_array(img)  # this is a Numpy array with shape (3, 150, 150)\n",
    "# x = x.reshape((1,) + x.shape)  # this is a Numpy array with shape (1, 3, 150, 150)"
   ]
  },
  {
   "cell_type": "code",
   "execution_count": null,
   "metadata": {
    "collapsed": true
   },
   "outputs": [],
   "source": [
    "# i = 0\n",
    "# for batch in train_datagen.flow(x, batch_size=1,\n",
    "#                           save_to_dir='/Users/minhgeneralassembly/Downloads/kaggle_catsanddogs/preview', save_prefix='cat', save_format='jpeg'):\n",
    "#     i += 1\n",
    "#     if i > 20:\n",
    "#         break  # otherwise the generator would loop indefinitely"
   ]
  },
  {
   "cell_type": "markdown",
   "metadata": {},
   "source": [
    "### Step 7: Fit model"
   ]
  },
  {
   "cell_type": "code",
   "execution_count": null,
   "metadata": {},
   "outputs": [],
   "source": [
    "history = model.fit_generator(\n",
    "    train_generator,\n",
    "    steps_per_epoch=nb_train_samples // batch_size,\n",
    "    epochs=epochs,\n",
    "    validation_data=validation_generator,\n",
    "    validation_steps=nb_validation_samples // batch_size)"
   ]
  },
  {
   "cell_type": "markdown",
   "metadata": {},
   "source": [
    "### Step 7.5: Save model"
   ]
  },
  {
   "cell_type": "code",
   "execution_count": null,
   "metadata": {
    "collapsed": true
   },
   "outputs": [],
   "source": [
    "model.save('catsndogs.h5')"
   ]
  },
  {
   "cell_type": "markdown",
   "metadata": {},
   "source": [
    "### Step 7.9: Reload model (if needed)"
   ]
  },
  {
   "cell_type": "code",
   "execution_count": null,
   "metadata": {
    "collapsed": true
   },
   "outputs": [],
   "source": [
    "# model = load_model('catsndogs.h5')"
   ]
  },
  {
   "cell_type": "markdown",
   "metadata": {},
   "source": [
    "### Step 8: Evaluate model"
   ]
  },
  {
   "cell_type": "code",
   "execution_count": null,
   "metadata": {
    "collapsed": true
   },
   "outputs": [],
   "source": [
    "print(history.history.keys())"
   ]
  },
  {
   "cell_type": "code",
   "execution_count": null,
   "metadata": {
    "collapsed": true
   },
   "outputs": [],
   "source": [
    "plt.plot(history.history['loss'])\n",
    "plt.plot(history.history['val_loss'])\n",
    "plt.title('model loss')\n",
    "plt.ylabel('loss')\n",
    "plt.xlabel('epoch')\n",
    "plt.legend(['train', 'validation'], loc='upper left')\n",
    "plt.show()"
   ]
  },
  {
   "cell_type": "code",
   "execution_count": null,
   "metadata": {
    "collapsed": true
   },
   "outputs": [],
   "source": [
    "plt.plot(history.history['acc'])\n",
    "plt.plot(history.history['val_acc'])\n",
    "plt.title('model acc')\n",
    "plt.ylabel('acc')\n",
    "plt.xlabel('epoch')\n",
    "plt.legend(['train', 'validation'], loc='upper left')\n",
    "plt.show()"
   ]
  },
  {
   "cell_type": "markdown",
   "metadata": {},
   "source": [
    "### Step 10: Test things"
   ]
  },
  {
   "cell_type": "code",
   "execution_count": null,
   "metadata": {
    "collapsed": true
   },
   "outputs": [],
   "source": [
    "# used to center-crop an image before feeding it through for testing. -mt\n",
    "\n",
    "def cropResizeImages(img):\n",
    "    width, height = img.size\n",
    "\n",
    "    if width > height:\n",
    "        left = (width - height)/2\n",
    "        top = (height - height)/2\n",
    "        right = (width + height)/2\n",
    "        bottom = (height + height)/2\n",
    "        \n",
    "        img = img.crop((left, top, right, bottom))\n",
    "        img = img.resize([150,150])\n",
    "    \n",
    "    elif height > width:\n",
    "        left = (width - width)/2\n",
    "        top = (height - width)/2\n",
    "        right = (width + width)/2\n",
    "        bottom = (height + width)/2\n",
    "        \n",
    "        img = img.crop((left, top, right, bottom))\n",
    "        img = img.resize([150,150])\n",
    "        \n",
    "    return img"
   ]
  },
  {
   "cell_type": "code",
   "execution_count": null,
   "metadata": {
    "collapsed": true
   },
   "outputs": [],
   "source": [
    "# test_img = \"/Users/minhgeneralassembly/Downloads/kaggle_catsanddogs/small_testing_dir/11.jpg\" # cat\n",
    "# test_img = \"/Users/minhgeneralassembly/Downloads/kaggle_catsanddogs/small_testing_dir/27.jpg\" # dog\n",
    "# test_img = \"/Users/minhgeneralassembly/Downloads/kaggle_catsanddogs/small_testing_dir/82.jpg\" # cat\n",
    "test_img = \"/Users/minhgeneralassembly/Downloads/kaggle_catsanddogs/small_training_dir/train/cats/cat.100.jpg\" #cat, training\n",
    "# test_img = \"/Users/minhgeneralassembly/Downloads/kaggle_catsanddogs/small_training_dir/train/dogs/dog.100.jpg\" #dog"
   ]
  },
  {
   "cell_type": "code",
   "execution_count": null,
   "metadata": {
    "collapsed": true
   },
   "outputs": [],
   "source": [
    "test_img = load_img(test_img)"
   ]
  },
  {
   "cell_type": "code",
   "execution_count": null,
   "metadata": {
    "collapsed": true
   },
   "outputs": [],
   "source": [
    "test_img_cropped = cropResizeImages(test_img)\n",
    "test_img_in = np.array(test_img_cropped)\n",
    "plt.imshow(test_img_in);"
   ]
  },
  {
   "cell_type": "code",
   "execution_count": null,
   "metadata": {
    "collapsed": true
   },
   "outputs": [],
   "source": [
    "preds = model.predict_classes(test_img_in[np.newaxis, :, :, :])\n",
    "probs = model.predict_proba(test_img_in[np.newaxis, :, :, :])\n",
    "print(preds, probs)"
   ]
  },
  {
   "cell_type": "code",
   "execution_count": null,
   "metadata": {
    "collapsed": true
   },
   "outputs": [],
   "source": []
  },
  {
   "cell_type": "code",
   "execution_count": null,
   "metadata": {
    "collapsed": true
   },
   "outputs": [],
   "source": []
  },
  {
   "cell_type": "code",
   "execution_count": null,
   "metadata": {
    "collapsed": true
   },
   "outputs": [],
   "source": [
    "break\n",
    "# less data science / machine learning below. more file manipulation. -mt"
   ]
  },
  {
   "cell_type": "markdown",
   "metadata": {},
   "source": [
    "### Step 8: Run images through model and sort according to predictions"
   ]
  },
  {
   "cell_type": "code",
   "execution_count": null,
   "metadata": {
    "collapsed": true
   },
   "outputs": [],
   "source": [
    "cleaning_dir = \"/Users/minhgeneralassembly/Downloads/kaggle_catsanddogs/small_testing_dir\""
   ]
  },
  {
   "cell_type": "code",
   "execution_count": null,
   "metadata": {
    "collapsed": true
   },
   "outputs": [],
   "source": [
    "for filename in os.listdir(cleaning_dir):\n",
    "    if filename.endswith('.jpg'):\n",
    "        with open(os.path.join(cleaning_dir, filename)) as f:\n",
    "            content = f.read()\n",
    "            print con"
   ]
  },
  {
   "cell_type": "code",
   "execution_count": null,
   "metadata": {
    "collapsed": true
   },
   "outputs": [],
   "source": []
  },
  {
   "cell_type": "code",
   "execution_count": null,
   "metadata": {
    "collapsed": true
   },
   "outputs": [],
   "source": []
  },
  {
   "cell_type": "code",
   "execution_count": null,
   "metadata": {
    "collapsed": true
   },
   "outputs": [],
   "source": []
  },
  {
   "cell_type": "code",
   "execution_count": null,
   "metadata": {
    "collapsed": true
   },
   "outputs": [],
   "source": []
  },
  {
   "cell_type": "code",
   "execution_count": null,
   "metadata": {
    "collapsed": true
   },
   "outputs": [],
   "source": []
  },
  {
   "cell_type": "code",
   "execution_count": null,
   "metadata": {
    "collapsed": true
   },
   "outputs": [],
   "source": []
  }
 ],
 "metadata": {
  "kernelspec": {
   "display_name": "Python 2",
   "language": "python",
   "name": "python2"
  },
  "language_info": {
   "codemirror_mode": {
    "name": "ipython",
    "version": 2
   },
   "file_extension": ".py",
   "mimetype": "text/x-python",
   "name": "python",
   "nbconvert_exporter": "python",
   "pygments_lexer": "ipython2",
   "version": "2.7.14"
  }
 },
 "nbformat": 4,
 "nbformat_minor": 2
}
