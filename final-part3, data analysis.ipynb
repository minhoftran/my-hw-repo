{
 "cells": [
  {
   "cell_type": "markdown",
   "metadata": {},
   "source": [
    "# Final Project, Part 3: Exploratory Data Analysi"
   ]
  },
  {
   "cell_type": "markdown",
   "metadata": {},
   "source": [
    "To be perfectly honest, the below is mostly copied/pasted from my Final Project Part 4, since I ended up doing that one first."
   ]
  },
  {
   "cell_type": "markdown",
   "metadata": {},
   "source": [
    "## Data"
   ]
  },
  {
   "cell_type": "markdown",
   "metadata": {},
   "source": [
    "My final data will be a subset of data downloaded from http://image-net.org/, selected by searching across the different \"synsets\" that they have (which is correlated and connected with WordNet).\n",
    "\n",
    "I'll be relying on ImageNet's labels as the ground-truth, although I'll be doing some spot-checking to remove defunct images. These are simply caused by the URLs no longer being online, since the images aren't hosted by ImageNet but instead by outside parties.\n",
    "\n",
    "(The above might not be entirely true. Apparently they allow you to download them if you sign-up / sign-in. I'm electing not to do that.)"
   ]
  },
  {
   "cell_type": "markdown",
   "metadata": {},
   "source": [
    "## Sourcing"
   ]
  },
  {
   "cell_type": "markdown",
   "metadata": {},
   "source": [
    "Sourcing was done by searching various synonyms for concepts that came to my mind for the following classes:\n",
    "    \n",
    "##### Nature:\n",
    "nature, forest, tree, river, sea, ocean, mountain, grass, plains, etc...\n",
    "\n",
    "##### Urban:\n",
    "city, metropolis, roads, streets, highway, building, skyscraper, etc...\n",
    "\n",
    "##### People:\n",
    "people, person, man, woman, child, young male, old male, young female, old female, baby, etc...\n",
    "\n",
    "##### Animal:\n",
    "animal, bird, fish, cat, dog, goat, etc..."
   ]
  },
  {
   "cell_type": "code",
   "execution_count": null,
   "metadata": {
    "collapsed": true
   },
   "outputs": [],
   "source": []
  }
 ],
 "metadata": {
  "kernelspec": {
   "display_name": "Python 2",
   "language": "python",
   "name": "python2"
  },
  "language_info": {
   "codemirror_mode": {
    "name": "ipython",
    "version": 2
   },
   "file_extension": ".py",
   "mimetype": "text/x-python",
   "name": "python",
   "nbconvert_exporter": "python",
   "pygments_lexer": "ipython2",
   "version": "2.7.14"
  }
 },
 "nbformat": 4,
 "nbformat_minor": 2
}
